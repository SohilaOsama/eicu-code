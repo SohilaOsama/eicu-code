{
  "nbformat": 4,
  "nbformat_minor": 0,
  "metadata": {
    "colab": {
      "name": "Verification.ipynb",
      "provenance": [],
      "collapsed_sections": [],
      "authorship_tag": "ABX9TyNdG+FdY4/J96vml+vgwJwE",
      "include_colab_link": true
    },
    "kernelspec": {
      "name": "python3",
      "display_name": "Python 3"
    },
    "language_info": {
      "name": "python"
    }
  },
  "cells": [
    {
      "cell_type": "markdown",
      "metadata": {
        "id": "view-in-github",
        "colab_type": "text"
      },
      "source": [
        "<a href=\"https://colab.research.google.com/github/SohilaOsama/eicu-code/blob/master/Verification.ipynb\" target=\"_parent\"><img src=\"https://colab.research.google.com/assets/colab-badge.svg\" alt=\"Open In Colab\"/></a>"
      ]
    },
    {
      "cell_type": "code",
      "execution_count": 14,
      "metadata": {
        "id": "me00qqqBdsZ0"
      },
      "outputs": [],
      "source": [
        "import numpy as np # linear algebra\n",
        "import pandas as pd # data processing, CSV file I/O (e.g. pd.read_csv)\n",
        "import seaborn as sns\n",
        "import matplotlib.pyplot as plt\n",
        "import scipy\n",
        "\n",
        "from scipy import stats\n",
        "from scipy.stats import norm, skew, boxcox\n",
        "from collections import Counter\n",
        "from numpy import mean\n",
        "from numpy import std\n",
        "from numpy.random import seed\n",
        "from numpy.random import randn\n",
        "from scipy.stats import wilcoxon\n",
        "\n",
        "from sklearn.preprocessing import RobustScaler, StandardScaler\n",
        "from sklearn.metrics import mean_squared_error, confusion_matrix, accuracy_score, plot_confusion_matrix, auc\n",
        "from sklearn.base import BaseEstimator, TransformerMixin, RegressorMixin, clone\n",
        "from sklearn.model_selection import train_test_split, StratifiedKFold, GridSearchCV\n",
        "from sklearn.linear_model import LogisticRegression\n",
        "from sklearn.svm import SVC\n",
        "from sklearn.ensemble import RandomForestClassifier, VotingClassifier\n",
        "from sklearn.neighbors import KNeighborsClassifier\n",
        "from sklearn.tree import DecisionTreeClassifier\n",
        "from sklearn.feature_selection import RFE\n",
        "\n",
        "#XGBOOST\n",
        "from xgboost import XGBClassifier"
      ]
    },
    {
      "cell_type": "code",
      "source": [
        "data = pd.read_csv(\"/content/data01.csv\")"
      ],
      "metadata": {
        "id": "UbZZ5xvBis6S"
      },
      "execution_count": 15,
      "outputs": []
    },
    {
      "cell_type": "code",
      "source": [
        "print(\"Data Columns --> \",data.columns)"
      ],
      "metadata": {
        "colab": {
          "base_uri": "https://localhost:8080/"
        },
        "id": "qA6RHK-YiuN6",
        "outputId": "f8023e9d-be91-4161-dd01-eedb23a903fc"
      },
      "execution_count": 16,
      "outputs": [
        {
          "output_type": "stream",
          "name": "stdout",
          "text": [
            "Data Columns -->  Index(['group', 'ID', 'outcome', 'age', 'gendera', 'BMI', 'hypertensive',\n",
            "       'atrialfibrillation', 'CHD with no MI', 'diabetes', 'deficiencyanemias',\n",
            "       'depression', 'Hyperlipemia', 'Renal failure', 'COPD', 'heart rate',\n",
            "       'Systolic blood pressure', 'Diastolic blood pressure',\n",
            "       'Respiratory rate', 'temperature', 'SP O2', 'Urine output',\n",
            "       'hematocrit', 'RBC', 'MCH', 'MCHC', 'MCV', 'RDW', 'Leucocyte',\n",
            "       'Platelets', 'Neutrophils', 'Basophils', 'Lymphocyte', 'PT', 'INR',\n",
            "       'NT-proBNP', 'Creatine kinase', 'Creatinine', 'Urea nitrogen',\n",
            "       'glucose', 'Blood potassium', 'Blood sodium', 'Blood calcium',\n",
            "       'Chloride', 'Anion gap', 'Magnesium ion', 'PH', 'Bicarbonate',\n",
            "       'Lactic acid', 'PCO2', 'EF'],\n",
            "      dtype='object')\n"
          ]
        }
      ]
    },
    {
      "cell_type": "code",
      "source": [
        "data.drop(['group', 'ID'], axis = 1, inplace = True)"
      ],
      "metadata": {
        "id": "9ykA0TgX90hi"
      },
      "execution_count": 17,
      "outputs": []
    },
    {
      "cell_type": "code",
      "source": [
        "['group', 'ID','gendera', 'BMI', 'hypertensive',\n",
        "'atrialfibrillation', 'CHD with no MI', 'diabetes', 'deficiencyanemias',\n",
        "'depression', 'Hyperlipemia', 'Renal failure', 'COPD','Systolic blood pressure', 'temperature'\n",
        ",'SP O2','hematocrit','RBC','MCHC','Leucocyte','PT', 'INR','Creatinine','glucose','Chloride','Magnesium ion',\n",
        " 'PH', 'Bicarbonate','PCO2', 'EF']"
      ],
      "metadata": {
        "colab": {
          "base_uri": "https://localhost:8080/"
        },
        "id": "xkwdTG0ql1jf",
        "outputId": "2314013e-57a2-41c7-f4bc-22ef12314e88"
      },
      "execution_count": 18,
      "outputs": [
        {
          "output_type": "execute_result",
          "data": {
            "text/plain": [
              "['group',\n",
              " 'ID',\n",
              " 'gendera',\n",
              " 'BMI',\n",
              " 'hypertensive',\n",
              " 'atrialfibrillation',\n",
              " 'CHD with no MI',\n",
              " 'diabetes',\n",
              " 'deficiencyanemias',\n",
              " 'depression',\n",
              " 'Hyperlipemia',\n",
              " 'Renal failure',\n",
              " 'COPD',\n",
              " 'Systolic blood pressure',\n",
              " 'temperature',\n",
              " 'SP O2',\n",
              " 'hematocrit',\n",
              " 'RBC',\n",
              " 'MCHC',\n",
              " 'Leucocyte',\n",
              " 'PT',\n",
              " 'INR',\n",
              " 'Creatinine',\n",
              " 'glucose',\n",
              " 'Chloride',\n",
              " 'Magnesium ion',\n",
              " 'PH',\n",
              " 'Bicarbonate',\n",
              " 'PCO2',\n",
              " 'EF']"
            ]
          },
          "metadata": {},
          "execution_count": 18
        }
      ]
    },
    {
      "cell_type": "code",
      "source": [
        "data['BMI'].fillna(data['BMI'].mean(), inplace = True)\n",
        "\n",
        "\n",
        "data['heart rate'].fillna(data['heart rate'].mean(), inplace = True)\n",
        "data['Systolic blood pressure'].fillna(data['Systolic blood pressure'].mean(), inplace = True)\n",
        "data['Diastolic blood pressure'].fillna(data['Diastolic blood pressure'].mean(), inplace = True)\n",
        "data['Respiratory rate'].fillna(data['Respiratory rate'].mean(), inplace = True)\n",
        "data['SP O2'].fillna(data['SP O2'].mean(), inplace = True)\n",
        "data['Urine output'].fillna(data['Urine output'].mean(), inplace = True)\n",
        "data['Neutrophils'].fillna(data['Neutrophils'].mean(), inplace = True)\n",
        "data['Basophils'].fillna(data['Basophils'].mean(), inplace = True)\n",
        "data['Lymphocyte'].fillna(data['Lymphocyte'].mean(), inplace = True)\n",
        "data['PT'].fillna(data['PT'].mean(), inplace = True)\n",
        "data['INR'].fillna(data['INR'].mean(), inplace = True)\n",
        "data['Creatine kinase'].fillna(data['Creatine kinase'].mean(), inplace = True)\n",
        "data['glucose'].fillna(data['glucose'].mean(), inplace = True)\n",
        "data['Blood calcium'].fillna(data['Blood calcium'].mean(), inplace = True)\n",
        "data['PH'].fillna(data['PH'].mean(), inplace = True)\n",
        "data['Lactic acid'].fillna(data['Lactic acid'].mean(), inplace = True)\n",
        "data['PCO2'].fillna(data['PCO2'].mean(), inplace = True)\n",
        "data['temperature'].fillna(data['temperature'].mean(), inplace = True)\n",
        "\n",
        "print(data.isnull().sum())"
      ],
      "metadata": {
        "colab": {
          "base_uri": "https://localhost:8080/"
        },
        "id": "PnyTVKWdJIlH",
        "outputId": "f2cddf5a-9207-46c3-9fc2-625b88d9b8a6"
      },
      "execution_count": 59,
      "outputs": [
        {
          "output_type": "stream",
          "name": "stdout",
          "text": [
            "outcome                     0\n",
            "age                         0\n",
            "gendera                     0\n",
            "BMI                         0\n",
            "hypertensive                0\n",
            "atrialfibrillation          0\n",
            "CHD with no MI              0\n",
            "diabetes                    0\n",
            "deficiencyanemias           0\n",
            "depression                  0\n",
            "Hyperlipemia                0\n",
            "Renal failure               0\n",
            "COPD                        0\n",
            "heart rate                  0\n",
            "Systolic blood pressure     0\n",
            "Diastolic blood pressure    0\n",
            "Respiratory rate            0\n",
            "temperature                 0\n",
            "SP O2                       0\n",
            "Urine output                0\n",
            "hematocrit                  0\n",
            "RBC                         0\n",
            "MCH                         0\n",
            "MCHC                        0\n",
            "MCV                         0\n",
            "RDW                         0\n",
            "Leucocyte                   0\n",
            "Platelets                   0\n",
            "Neutrophils                 0\n",
            "Basophils                   0\n",
            "Lymphocyte                  0\n",
            "PT                          0\n",
            "INR                         0\n",
            "NT-proBNP                   0\n",
            "Creatine kinase             0\n",
            "Creatinine                  0\n",
            "Urea nitrogen               0\n",
            "glucose                     0\n",
            "Blood potassium             0\n",
            "Blood sodium                0\n",
            "Blood calcium               0\n",
            "Chloride                    0\n",
            "Anion gap                   0\n",
            "Magnesium ion               0\n",
            "PH                          0\n",
            "Bicarbonate                 0\n",
            "Lactic acid                 0\n",
            "PCO2                        0\n",
            "EF                          0\n",
            "dtype: int64\n"
          ]
        }
      ]
    },
    {
      "cell_type": "code",
      "source": [
        "#data.drop(['group', 'ID','gendera', 'BMI', 'hypertensive',\n",
        "#'atrialfibrillation', 'CHD with no MI', 'diabetes', 'deficiencyanemias',\n",
        "#'depression', 'Hyperlipemia', 'Renal failure', 'COPD','Systolic blood pressure', 'temperature'\n",
        "#,'SP O2','hematocrit','RBC','MCHC','Leucocyte','PT', 'INR','Creatinine','glucose','Chloride','Magnesium ion',\n",
        " #'PH', 'Bicarbonate','PCO2', 'EF'], axis = 1, inplace = True)"
      ],
      "metadata": {
        "id": "73__iB44oabR"
      },
      "execution_count": 19,
      "outputs": []
    },
    {
      "cell_type": "code",
      "source": [
        "feature_cols = ['Anion gap','Lactic acid','Blood calcium','Lymphocyte','Leucocyte','heart rate',\n",
        "'Blood sodium','Urine output','Platelets','Urea nitrogen','age','MCH','RBC','Creatinine','PCO2',\n",
        "'Blood potassium','Respiratory rate','MCHC']"
      ],
      "metadata": {
        "id": "5Q7d6MCi-xlq"
      },
      "execution_count": 38,
      "outputs": []
    },
    {
      "cell_type": "code",
      "source": [
        "X = data[feature_cols] # Features\n",
        "y = data.outcome"
      ],
      "metadata": {
        "id": "G-VulFU2EbCt"
      },
      "execution_count": 39,
      "outputs": []
    },
    {
      "cell_type": "code",
      "source": [
        "X['Lactic acid'].fillna(X['Lactic acid'].median(), inplace = True)\n",
        "X['Blood calcium'].fillna(X['Blood calcium'].mean(), inplace = True)\n",
        "X['Lymphocyte'].fillna(X['Lymphocyte'].median(), inplace = True)\n",
        "X['Urine output'].fillna(X['Urine output'].median(), inplace = True)\n",
        "X['PCO2'].fillna(X['PCO2'].mean(), inplace = True)"
      ],
      "metadata": {
        "colab": {
          "base_uri": "https://localhost:8080/"
        },
        "id": "uJzJHM0RIgjV",
        "outputId": "6875c5cb-0c12-49a0-aa40-ddb5aeb52dfd"
      },
      "execution_count": 51,
      "outputs": [
        {
          "output_type": "stream",
          "name": "stderr",
          "text": [
            "/usr/local/lib/python3.7/dist-packages/pandas/core/series.py:4536: SettingWithCopyWarning: \n",
            "A value is trying to be set on a copy of a slice from a DataFrame\n",
            "\n",
            "See the caveats in the documentation: https://pandas.pydata.org/pandas-docs/stable/user_guide/indexing.html#returning-a-view-versus-a-copy\n",
            "  downcast=downcast,\n"
          ]
        }
      ]
    },
    {
      "cell_type": "code",
      "source": [
        "from sklearn.model_selection import train_test_split\n",
        "X_train,X_test,y_train,y_test=train_test_split(X,y,test_size=0.30,random_state=42)"
      ],
      "metadata": {
        "id": "GvPhbK_nEqeN"
      },
      "execution_count": 52,
      "outputs": []
    },
    {
      "cell_type": "code",
      "source": [
        "X_train['Lactic acid'].fillna(X_train['Lactic acid'].median(), inplace = True)\n",
        "X_train['Blood calcium'].fillna(X_train['Blood calcium'].mean(), inplace = True)\n",
        "X_train['Lymphocyte'].fillna(X_train['Lymphocyte'].median(), inplace = True)\n",
        "X_train['Urine output'].fillna(X_train['Urine output'].median(), inplace = True)\n",
        "X_train['PCO2'].fillna(X_train['PCO2'].mean(), inplace = True)\n",
        "X_train['heart rate'].fillna(X_train['heart rate'].mean(), inplace = True)\n",
        "X_train['Respiratory rate'].fillna(X_train['Respiratory rate'].mean(), inplace = True)"
      ],
      "metadata": {
        "id": "99_OEqKLGVdE"
      },
      "execution_count": 62,
      "outputs": []
    },
    {
      "cell_type": "code",
      "source": [
        "print(X_train.isna().sum())"
      ],
      "metadata": {
        "colab": {
          "base_uri": "https://localhost:8080/"
        },
        "id": "rOe-VVZ3J5s5",
        "outputId": "afaea51b-eb52-4f63-a1fb-33de1d4f16d4"
      },
      "execution_count": 63,
      "outputs": [
        {
          "output_type": "stream",
          "name": "stdout",
          "text": [
            "Anion gap           0\n",
            "Lactic acid         0\n",
            "Blood calcium       0\n",
            "Lymphocyte          0\n",
            "Leucocyte           0\n",
            "heart rate          0\n",
            "Blood sodium        0\n",
            "Urine output        0\n",
            "Platelets           0\n",
            "Urea nitrogen       0\n",
            "age                 0\n",
            "MCH                 0\n",
            "RBC                 0\n",
            "Creatinine          0\n",
            "PCO2                0\n",
            "Blood potassium     0\n",
            "Respiratory rate    0\n",
            "MCHC                0\n",
            "dtype: int64\n"
          ]
        }
      ]
    },
    {
      "cell_type": "code",
      "source": [
        "X_test['Lactic acid'].fillna(X_test['Lactic acid'].median(), inplace = True)\n",
        "X_test['Blood calcium'].fillna(X_test['Blood calcium'].mean(), inplace = True)\n",
        "X_test['Lymphocyte'].fillna(X_test['Lymphocyte'].median(), inplace = True)\n",
        "X_test['Urine output'].fillna(X_test['Urine output'].median(), inplace = True)\n",
        "X_test['PCO2'].fillna(X_test['PCO2'].mean(), inplace = True)\n",
        "X_test['heart rate'].fillna(X_test['heart rate'].mean(), inplace = True)\n",
        "X_test['Respiratory rate'].fillna(X_test['Respiratory rate'].mean(), inplace = True)"
      ],
      "metadata": {
        "id": "0g8Vtv5YHs_w"
      },
      "execution_count": 64,
      "outputs": []
    },
    {
      "cell_type": "code",
      "source": [
        "from sklearn.linear_model import LogisticRegression\n",
        "\n",
        "# instantiate the model (using the default parameters)\n",
        "logreg = LogisticRegression()\n",
        "\n"
      ],
      "metadata": {
        "id": "6ilGadMvFG-f"
      },
      "execution_count": 65,
      "outputs": []
    },
    {
      "cell_type": "code",
      "source": [
        "print(y_train.isna().sum())"
      ],
      "metadata": {
        "colab": {
          "base_uri": "https://localhost:8080/"
        },
        "id": "qyz3J4B4IDK7",
        "outputId": "72e74fdf-af9d-4c24-d207-459029d2f2bd"
      },
      "execution_count": 66,
      "outputs": [
        {
          "output_type": "stream",
          "name": "stdout",
          "text": [
            "0\n"
          ]
        }
      ]
    },
    {
      "cell_type": "code",
      "source": [
        "# fit the model with data\n",
        "logreg.fit(X_train,y_train)\n",
        "\n"
      ],
      "metadata": {
        "colab": {
          "base_uri": "https://localhost:8080/"
        },
        "id": "ZsnGkBFdH7AD",
        "outputId": "56d6077c-5aff-4853-af9e-bdadc104574b"
      },
      "execution_count": 67,
      "outputs": [
        {
          "output_type": "stream",
          "name": "stderr",
          "text": [
            "/usr/local/lib/python3.7/dist-packages/sklearn/linear_model/_logistic.py:818: ConvergenceWarning: lbfgs failed to converge (status=1):\n",
            "STOP: TOTAL NO. of ITERATIONS REACHED LIMIT.\n",
            "\n",
            "Increase the number of iterations (max_iter) or scale the data as shown in:\n",
            "    https://scikit-learn.org/stable/modules/preprocessing.html\n",
            "Please also refer to the documentation for alternative solver options:\n",
            "    https://scikit-learn.org/stable/modules/linear_model.html#logistic-regression\n",
            "  extra_warning_msg=_LOGISTIC_SOLVER_CONVERGENCE_MSG,\n"
          ]
        },
        {
          "output_type": "execute_result",
          "data": {
            "text/plain": [
              "LogisticRegression()"
            ]
          },
          "metadata": {},
          "execution_count": 67
        }
      ]
    },
    {
      "cell_type": "code",
      "source": [
        "y_pred=logreg.predict(X_test)"
      ],
      "metadata": {
        "id": "bnEKPsk9KFdO"
      },
      "execution_count": 68,
      "outputs": []
    },
    {
      "cell_type": "code",
      "source": [
        "# import the metrics class\n",
        "from sklearn import metrics\n",
        "cnf_matrix = metrics.confusion_matrix(y_test, y_pred)\n",
        "cnf_matrix"
      ],
      "metadata": {
        "colab": {
          "base_uri": "https://localhost:8080/"
        },
        "id": "2ZtbkOOWKORH",
        "outputId": "5d2aaaae-ae4d-42a5-d350-34d8772667b4"
      },
      "execution_count": 69,
      "outputs": [
        {
          "output_type": "execute_result",
          "data": {
            "text/plain": [
              "array([[294,   2],\n",
              "       [ 52,   6]])"
            ]
          },
          "metadata": {},
          "execution_count": 69
        }
      ]
    },
    {
      "cell_type": "code",
      "source": [
        "# import required modules\n",
        "import numpy as np\n",
        "import matplotlib.pyplot as plt\n",
        "import seaborn as sns\n",
        "%matplotlib inline"
      ],
      "metadata": {
        "id": "O1UYizdZKSek"
      },
      "execution_count": 70,
      "outputs": []
    },
    {
      "cell_type": "code",
      "source": [
        "print(\"Precision:\",metrics.accuracy_score(y_test, y_pred))\n",
        "print(\"Accuracy:\",metrics.precision_score(y_test, y_pred))\n",
        "print(\"Recall:\",metrics.recall_score(y_test, y_pred))"
      ],
      "metadata": {
        "colab": {
          "base_uri": "https://localhost:8080/"
        },
        "id": "z6Vxok4HKYyi",
        "outputId": "2aaf5cc1-fa08-4fc0-b34b-1ef53d09e6f8"
      },
      "execution_count": 72,
      "outputs": [
        {
          "output_type": "stream",
          "name": "stdout",
          "text": [
            "Precision: 0.847457627118644\n",
            "Accuracy: 0.75\n",
            "Recall: 0.10344827586206896\n"
          ]
        }
      ]
    }
  ]
}