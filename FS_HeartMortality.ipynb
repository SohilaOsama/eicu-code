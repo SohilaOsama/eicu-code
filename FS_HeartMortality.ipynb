{
  "nbformat": 4,
  "nbformat_minor": 0,
  "metadata": {
    "colab": {
      "name": "FinalCode.ipynb",
      "provenance": [],
      "collapsed_sections": [],
      "include_colab_link": true
    },
    "kernelspec": {
      "name": "python3",
      "display_name": "Python 3"
    },
    "language_info": {
      "name": "python"
    },
    "widgets": {
      "application/vnd.jupyter.widget-state+json": {
        "27288abe53434b6bb3dca21d52b8b48b": {
          "model_module": "catboost-widget",
          "model_name": "CatboostWidgetModel",
          "model_module_version": "^1.0.0",
          "state": {
            "_view_name": "CatboostWidgetView",
            "_dom_classes": [],
            "_model_name": "CatboostWidgetModel",
            "data": {
              "catboost_info": {
                "content": {
                  "data": {
                    "meta": {
                      "name": "experiment",
                      "parameters": "",
                      "test_metrics": [
                        {
                          "best_value": "Max",
                          "name": "Accuracy"
                        },
                        {
                          "best_value": "Min",
                          "name": "Logloss"
                        }
                      ],
                      "learn_sets": [
                        "learn"
                      ],
                      "launch_mode": "Train",
                      "learn_metrics": [
                        {
                          "best_value": "Max",
                          "name": "Accuracy"
                        },
                        {
                          "best_value": "Min",
                          "name": "Logloss"
                        }
                      ],
                      "iteration_count": 500,
                      "test_sets": [
                        "test"
                      ]
                    },
                    "iterations": [
                      {
                        "test": [
                          0.8389830508,
                          0.6575680242
                        ],
                        "passed_time": 0.03769115303,
                        "iteration": 0,
                        "remaining_time": 18.80788536,
                        "learn": [
                          0.879708384,
                          0.6543736271
                        ]
                      },
                      {
                        "test": [
                          0.8361581921,
                          0.6305782765
                        ],
                        "passed_time": 0.05798506804,
                        "iteration": 1,
                        "remaining_time": 14.43828194,
                        "learn": [
                          0.8772782503,
                          0.6235216944
                        ]
                      },
                      {
                        "test": [
                          0.8361581921,
                          0.6039045045
                        ],
                        "passed_time": 0.08305330147,
                        "iteration": 2,
                        "remaining_time": 13.75916361,
                        "learn": [
                          0.8772782503,
                          0.5933597309
                        ]
                      },
                      {
                        "test": [
                          0.8361581921,
                          0.5816652708
                        ],
                        "passed_time": 0.1117339745,
                        "iteration": 3,
                        "remaining_time": 13.85501284,
                        "learn": [
                          0.8772782503,
                          0.567412228
                        ]
                      },
                      {
                        "test": [
                          0.8361581921,
                          0.5639168926
                        ],
                        "passed_time": 0.1431483112,
                        "iteration": 4,
                        "remaining_time": 14.1716828,
                        "learn": [
                          0.8772782503,
                          0.546307121
                        ]
                      },
                      {
                        "test": [
                          0.8361581921,
                          0.545258304
                        ],
                        "passed_time": 0.1661510414,
                        "iteration": 5,
                        "remaining_time": 13.67976908,
                        "learn": [
                          0.8772782503,
                          0.5229178383
                        ]
                      },
                      {
                        "test": [
                          0.8361581921,
                          0.5263728226
                        ],
                        "passed_time": 0.1861132546,
                        "iteration": 6,
                        "remaining_time": 13.10769065,
                        "learn": [
                          0.8772782503,
                          0.5002857755
                        ]
                      },
                      {
                        "test": [
                          0.8361581921,
                          0.5102745541
                        ],
                        "passed_time": 0.2021859909,
                        "iteration": 7,
                        "remaining_time": 12.43443844,
                        "learn": [
                          0.8772782503,
                          0.4819450829
                        ]
                      },
                      {
                        "test": [
                          0.8361581921,
                          0.4946159009
                        ],
                        "passed_time": 0.2286961742,
                        "iteration": 8,
                        "remaining_time": 12.47664683,
                        "learn": [
                          0.8772782503,
                          0.4631217055
                        ]
                      },
                      {
                        "test": [
                          0.8361581921,
                          0.482528323
                        ],
                        "passed_time": 0.2442139894,
                        "iteration": 9,
                        "remaining_time": 11.96648548,
                        "learn": [
                          0.8772782503,
                          0.4479844829
                        ]
                      },
                      {
                        "test": [
                          0.8361581921,
                          0.4731160269
                        ],
                        "passed_time": 0.2599721667,
                        "iteration": 10,
                        "remaining_time": 11.5569445,
                        "learn": [
                          0.8772782503,
                          0.4362984162
                        ]
                      },
                      {
                        "test": [
                          0.8361581921,
                          0.4638795879
                        ],
                        "passed_time": 0.2839174375,
                        "iteration": 11,
                        "remaining_time": 11.54597579,
                        "learn": [
                          0.8772782503,
                          0.4244411998
                        ]
                      },
                      {
                        "test": [
                          0.8361581921,
                          0.4537505562
                        ],
                        "passed_time": 0.2994717611,
                        "iteration": 12,
                        "remaining_time": 11.2186729,
                        "learn": [
                          0.8772782503,
                          0.4118312793
                        ]
                      },
                      {
                        "test": [
                          0.8361581921,
                          0.4446723566
                        ],
                        "passed_time": 0.3310811796,
                        "iteration": 13,
                        "remaining_time": 11.49324666,
                        "learn": [
                          0.8772782503,
                          0.4004566348
                        ]
                      },
                      {
                        "test": [
                          0.8361581921,
                          0.4371584016
                        ],
                        "passed_time": 0.3666622387,
                        "iteration": 14,
                        "remaining_time": 11.85541238,
                        "learn": [
                          0.8784933171,
                          0.3906793286
                        ]
                      },
                      {
                        "test": [
                          0.8361581921,
                          0.4319467376
                        ],
                        "passed_time": 0.3824665627,
                        "iteration": 15,
                        "remaining_time": 11.56961352,
                        "learn": [
                          0.8784933171,
                          0.3835014905
                        ]
                      },
                      {
                        "test": [
                          0.8361581921,
                          0.4254829128
                        ],
                        "passed_time": 0.4194565677,
                        "iteration": 16,
                        "remaining_time": 11.91750131,
                        "learn": [
                          0.879708384,
                          0.3760952768
                        ]
                      },
                      {
                        "test": [
                          0.8361581921,
                          0.4209600989
                        ],
                        "passed_time": 0.4453921766,
                        "iteration": 17,
                        "remaining_time": 11.92661273,
                        "learn": [
                          0.8784933171,
                          0.369235508
                        ]
                      },
                      {
                        "test": [
                          0.8361581921,
                          0.4170556116
                        ],
                        "passed_time": 0.4651018426,
                        "iteration": 18,
                        "remaining_time": 11.77442033,
                        "learn": [
                          0.8784933171,
                          0.3636803087
                        ]
                      },
                      {
                        "test": [
                          0.8361581921,
                          0.4114944655
                        ],
                        "passed_time": 0.5012601048,
                        "iteration": 19,
                        "remaining_time": 12.03024251,
                        "learn": [
                          0.879708384,
                          0.356198863
                        ]
                      },
                      {
                        "test": [
                          0.8361581921,
                          0.408971838
                        ],
                        "passed_time": 0.5316842556,
                        "iteration": 20,
                        "remaining_time": 12.12746469,
                        "learn": [
                          0.8809234508,
                          0.350022628
                        ]
                      },
                      {
                        "test": [
                          0.8361581921,
                          0.4063915068
                        ],
                        "passed_time": 0.553884054,
                        "iteration": 21,
                        "remaining_time": 12.0343899,
                        "learn": [
                          0.8809234508,
                          0.344962231
                        ]
                      },
                      {
                        "test": [
                          0.8361581921,
                          0.4034777381
                        ],
                        "passed_time": 0.5681119823,
                        "iteration": 22,
                        "remaining_time": 11.7821485,
                        "learn": [
                          0.8809234508,
                          0.340141062
                        ]
                      },
                      {
                        "test": [
                          0.8361581921,
                          0.3993650097
                        ],
                        "passed_time": 0.5870840569,
                        "iteration": 23,
                        "remaining_time": 11.6438338,
                        "learn": [
                          0.8833535844,
                          0.3346646581
                        ]
                      },
                      {
                        "test": [
                          0.8361581921,
                          0.3968652426
                        ],
                        "passed_time": 0.6065024205,
                        "iteration": 24,
                        "remaining_time": 11.52354599,
                        "learn": [
                          0.8821385176,
                          0.3306873207
                        ]
                      },
                      {
                        "test": [
                          0.8361581921,
                          0.3943036858
                        ],
                        "passed_time": 0.6410835669,
                        "iteration": 25,
                        "remaining_time": 11.68744657,
                        "learn": [
                          0.8821385176,
                          0.3261221638
                        ]
                      },
                      {
                        "test": [
                          0.8361581921,
                          0.3908721857
                        ],
                        "passed_time": 0.659476974,
                        "iteration": 26,
                        "remaining_time": 11.55305958,
                        "learn": [
                          0.8833535844,
                          0.321765654
                        ]
                      },
                      {
                        "test": [
                          0.8389830508,
                          0.3883340342
                        ],
                        "passed_time": 0.6992351575,
                        "iteration": 27,
                        "remaining_time": 11.78710694,
                        "learn": [
                          0.8845686513,
                          0.3182591575
                        ]
                      },
                      {
                        "test": [
                          0.8361581921,
                          0.3862780896
                        ],
                        "passed_time": 0.7434730242,
                        "iteration": 28,
                        "remaining_time": 12.07502739,
                        "learn": [
                          0.8857837181,
                          0.3154385599
                        ]
                      },
                      {
                        "test": [
                          0.8389830508,
                          0.384122078
                        ],
                        "passed_time": 0.7724961959,
                        "iteration": 29,
                        "remaining_time": 12.1024404,
                        "learn": [
                          0.8857837181,
                          0.3119399856
                        ]
                      },
                      {
                        "test": [
                          0.8389830508,
                          0.3828092199
                        ],
                        "passed_time": 0.8023535624,
                        "iteration": 30,
                        "remaining_time": 12.13883293,
                        "learn": [
                          0.8882138518,
                          0.3090679817
                        ]
                      },
                      {
                        "test": [
                          0.8389830508,
                          0.3814971019
                        ],
                        "passed_time": 0.8145664647,
                        "iteration": 31,
                        "remaining_time": 11.91303455,
                        "learn": [
                          0.8882138518,
                          0.3057890204
                        ]
                      },
                      {
                        "test": [
                          0.8389830508,
                          0.3795052459
                        ],
                        "passed_time": 0.8284227526,
                        "iteration": 32,
                        "remaining_time": 11.72343714,
                        "learn": [
                          0.8882138518,
                          0.3026093797
                        ]
                      },
                      {
                        "test": [
                          0.8389830508,
                          0.3781818421
                        ],
                        "passed_time": 0.8431482911,
                        "iteration": 33,
                        "remaining_time": 11.55609128,
                        "learn": [
                          0.8894289186,
                          0.2998869739
                        ]
                      },
                      {
                        "test": [
                          0.8389830508,
                          0.3769149804
                        ],
                        "passed_time": 0.8584290065,
                        "iteration": 34,
                        "remaining_time": 11.40484252,
                        "learn": [
                          0.8894289186,
                          0.2969242529
                        ]
                      },
                      {
                        "test": [
                          0.8389830508,
                          0.3763520449
                        ],
                        "passed_time": 0.8709755588,
                        "iteration": 35,
                        "remaining_time": 11.2259072,
                        "learn": [
                          0.8906439854,
                          0.2948877378
                        ]
                      },
                      {
                        "test": [
                          0.8389830508,
                          0.3754805279
                        ],
                        "passed_time": 0.892092953,
                        "iteration": 36,
                        "remaining_time": 11.16321722,
                        "learn": [
                          0.8906439854,
                          0.2927432521
                        ]
                      },
                      {
                        "test": [
                          0.8418079096,
                          0.3747476707
                        ],
                        "passed_time": 0.9121259108,
                        "iteration": 37,
                        "remaining_time": 11.08953081,
                        "learn": [
                          0.8906439854,
                          0.290567802
                        ]
                      },
                      {
                        "test": [
                          0.8418079096,
                          0.3739868742
                        ],
                        "passed_time": 0.9259438963,
                        "iteration": 38,
                        "remaining_time": 10.9451317,
                        "learn": [
                          0.8930741191,
                          0.2887731904
                        ]
                      },
                      {
                        "test": [
                          0.8418079096,
                          0.3725448113
                        ],
                        "passed_time": 0.9423337129,
                        "iteration": 39,
                        "remaining_time": 10.8368377,
                        "learn": [
                          0.8930741191,
                          0.2864745245
                        ]
                      },
                      {
                        "test": [
                          0.8418079096,
                          0.3712729709
                        ],
                        "passed_time": 0.9797155847,
                        "iteration": 40,
                        "remaining_time": 10.96803545,
                        "learn": [
                          0.8930741191,
                          0.284211924
                        ]
                      },
                      {
                        "test": [
                          0.8418079096,
                          0.3703441802
                        ],
                        "passed_time": 1.003907054,
                        "iteration": 41,
                        "remaining_time": 10.9473674,
                        "learn": [
                          0.8930741191,
                          0.2819921683
                        ]
                      },
                      {
                        "test": [
                          0.8418079096,
                          0.3698427734
                        ],
                        "passed_time": 1.022100132,
                        "iteration": 42,
                        "remaining_time": 10.86278512,
                        "learn": [
                          0.8930741191,
                          0.2806119053
                        ]
                      },
                      {
                        "test": [
                          0.8418079096,
                          0.3681493633
                        ],
                        "passed_time": 1.051131049,
                        "iteration": 43,
                        "remaining_time": 10.89353996,
                        "learn": [
                          0.8942891859,
                          0.2788918759
                        ]
                      },
                      {
                        "test": [
                          0.8418079096,
                          0.3677050142
                        ],
                        "passed_time": 1.071685284,
                        "iteration": 44,
                        "remaining_time": 10.83592898,
                        "learn": [
                          0.8930741191,
                          0.2772619779
                        ]
                      },
                      {
                        "test": [
                          0.8418079096,
                          0.3665930068
                        ],
                        "passed_time": 1.08203722,
                        "iteration": 45,
                        "remaining_time": 10.67923691,
                        "learn": [
                          0.8942891859,
                          0.2757391191
                        ]
                      },
                      {
                        "test": [
                          0.8446327684,
                          0.3656272491
                        ],
                        "passed_time": 1.09168535,
                        "iteration": 46,
                        "remaining_time": 10.52198859,
                        "learn": [
                          0.8942891859,
                          0.274175971
                        ]
                      },
                      {
                        "test": [
                          0.8446327684,
                          0.3638637098
                        ],
                        "passed_time": 1.111658932,
                        "iteration": 47,
                        "remaining_time": 10.46812161,
                        "learn": [
                          0.8955042527,
                          0.2725791171
                        ]
                      },
                      {
                        "test": [
                          0.8446327684,
                          0.3636384737
                        ],
                        "passed_time": 1.117983858,
                        "iteration": 48,
                        "remaining_time": 10.29001469,
                        "learn": [
                          0.8967193196,
                          0.27080695
                        ]
                      },
                      {
                        "test": [
                          0.8446327684,
                          0.3633858059
                        ],
                        "passed_time": 1.13381908,
                        "iteration": 49,
                        "remaining_time": 10.20437172,
                        "learn": [
                          0.8967193196,
                          0.2692993856
                        ]
                      },
                      {
                        "test": [
                          0.8446327684,
                          0.3631620962
                        ],
                        "passed_time": 1.150030251,
                        "iteration": 50,
                        "remaining_time": 10.12477613,
                        "learn": [
                          0.8955042527,
                          0.2676036663
                        ]
                      },
                      {
                        "test": [
                          0.8446327684,
                          0.3628259724
                        ],
                        "passed_time": 1.165879973,
                        "iteration": 51,
                        "remaining_time": 10.04450439,
                        "learn": [
                          0.8967193196,
                          0.2660748106
                        ]
                      },
                      {
                        "test": [
                          0.8446327684,
                          0.3622971657
                        ],
                        "passed_time": 1.193710654,
                        "iteration": 52,
                        "remaining_time": 10.06771061,
                        "learn": [
                          0.8967193196,
                          0.2644129999
                        ]
                      },
                      {
                        "test": [
                          0.8446327684,
                          0.3624141173
                        ],
                        "passed_time": 1.201197477,
                        "iteration": 53,
                        "remaining_time": 9.921001384,
                        "learn": [
                          0.8979343864,
                          0.2630830316
                        ]
                      },
                      {
                        "test": [
                          0.8474576271,
                          0.3622870082
                        ],
                        "passed_time": 1.218435892,
                        "iteration": 54,
                        "remaining_time": 9.858254036,
                        "learn": [
                          0.8979343864,
                          0.2617190918
                        ]
                      },
                      {
                        "test": [
                          0.8474576271,
                          0.3620796513
                        ],
                        "passed_time": 1.225176043,
                        "iteration": 55,
                        "remaining_time": 9.71389577,
                        "learn": [
                          0.8979343864,
                          0.2604351938
                        ]
                      },
                      {
                        "test": [
                          0.8474576271,
                          0.3617201284
                        ],
                        "passed_time": 1.238327311,
                        "iteration": 56,
                        "remaining_time": 9.624192963,
                        "learn": [
                          0.8979343864,
                          0.2590756605
                        ]
                      },
                      {
                        "test": [
                          0.8502824859,
                          0.3615415939
                        ],
                        "passed_time": 1.246641304,
                        "iteration": 57,
                        "remaining_time": 9.500266491,
                        "learn": [
                          0.8979343864,
                          0.2576600236
                        ]
                      },
                      {
                        "test": [
                          0.8502824859,
                          0.3609261736
                        ],
                        "passed_time": 1.254963778,
                        "iteration": 58,
                        "remaining_time": 9.380322474,
                        "learn": [
                          0.8979343864,
                          0.2563635606
                        ]
                      },
                      {
                        "test": [
                          0.8502824859,
                          0.3603127037
                        ],
                        "passed_time": 1.27038899,
                        "iteration": 59,
                        "remaining_time": 9.31618593,
                        "learn": [
                          0.8991494532,
                          0.2546440804
                        ]
                      },
                      {
                        "test": [
                          0.8502824859,
                          0.3600519783
                        ],
                        "passed_time": 1.320756535,
                        "iteration": 60,
                        "remaining_time": 9.505116701,
                        "learn": [
                          0.8979343864,
                          0.2539734259
                        ]
                      },
                      {
                        "test": [
                          0.8474576271,
                          0.3600652272
                        ],
                        "passed_time": 1.342809406,
                        "iteration": 61,
                        "remaining_time": 9.486298709,
                        "learn": [
                          0.8979343864,
                          0.25283564
                        ]
                      },
                      {
                        "test": [
                          0.8502824859,
                          0.3596165135
                        ],
                        "passed_time": 1.357089636,
                        "iteration": 62,
                        "remaining_time": 9.41346303,
                        "learn": [
                          0.8991494532,
                          0.2515442216
                        ]
                      },
                      {
                        "test": [
                          0.8502824859,
                          0.3589842828
                        ],
                        "passed_time": 1.373273275,
                        "iteration": 63,
                        "remaining_time": 9.355424187,
                        "learn": [
                          0.8991494532,
                          0.2499905233
                        ]
                      },
                      {
                        "test": [
                          0.8502824859,
                          0.358838843
                        ],
                        "passed_time": 1.393706565,
                        "iteration": 64,
                        "remaining_time": 9.327113167,
                        "learn": [
                          0.90036452,
                          0.2488768221
                        ]
                      },
                      {
                        "test": [
                          0.8531073446,
                          0.3587933132
                        ],
                        "passed_time": 1.412819182,
                        "iteration": 65,
                        "remaining_time": 9.29035644,
                        "learn": [
                          0.90036452,
                          0.2478150356
                        ]
                      },
                      {
                        "test": [
                          0.8531073446,
                          0.3586794665
                        ],
                        "passed_time": 1.43392979,
                        "iteration": 66,
                        "remaining_time": 9.267038795,
                        "learn": [
                          0.90036452,
                          0.2469708439
                        ]
                      },
                      {
                        "test": [
                          0.8531073446,
                          0.3588748429
                        ],
                        "passed_time": 1.453463725,
                        "iteration": 67,
                        "remaining_time": 9.233769546,
                        "learn": [
                          0.90036452,
                          0.2453860584
                        ]
                      },
                      {
                        "test": [
                          0.8531073446,
                          0.358807919
                        ],
                        "passed_time": 1.470399316,
                        "iteration": 68,
                        "remaining_time": 9.184668192,
                        "learn": [
                          0.90036452,
                          0.2444033912
                        ]
                      },
                      {
                        "test": [
                          0.8531073446,
                          0.3581243674
                        ],
                        "passed_time": 1.490068012,
                        "iteration": 69,
                        "remaining_time": 9.153274933,
                        "learn": [
                          0.8991494532,
                          0.243241944
                        ]
                      },
                      {
                        "test": [
                          0.8531073446,
                          0.3577409936
                        ],
                        "passed_time": 1.516612568,
                        "iteration": 70,
                        "remaining_time": 9.163757627,
                        "learn": [
                          0.8991494532,
                          0.2427286521
                        ]
                      },
                      {
                        "test": [
                          0.8559322034,
                          0.357363281
                        ],
                        "passed_time": 1.533015811,
                        "iteration": 71,
                        "remaining_time": 9.112927322,
                        "learn": [
                          0.8991494532,
                          0.2416386643
                        ]
                      },
                      {
                        "test": [
                          0.8559322034,
                          0.3573184723
                        ],
                        "passed_time": 1.545807576,
                        "iteration": 72,
                        "remaining_time": 9.041915547,
                        "learn": [
                          0.8991494532,
                          0.2407535326
                        ]
                      },
                      {
                        "test": [
                          0.8559322034,
                          0.3574011775
                        ],
                        "passed_time": 1.56506985,
                        "iteration": 73,
                        "remaining_time": 9.009726436,
                        "learn": [
                          0.8991494532,
                          0.2404059082
                        ]
                      },
                      {
                        "test": [
                          0.8559322034,
                          0.3573314532
                        ],
                        "passed_time": 1.579944619,
                        "iteration": 74,
                        "remaining_time": 8.953019507,
                        "learn": [
                          0.8991494532,
                          0.2396903716
                        ]
                      },
                      {
                        "test": [
                          0.8559322034,
                          0.3573267071
                        ],
                        "passed_time": 1.592614256,
                        "iteration": 75,
                        "remaining_time": 8.88511111,
                        "learn": [
                          0.8991494532,
                          0.2394771451
                        ]
                      },
                      {
                        "test": [
                          0.8559322034,
                          0.3555764622
                        ],
                        "passed_time": 1.617363983,
                        "iteration": 76,
                        "remaining_time": 8.884999542,
                        "learn": [
                          0.9015795869,
                          0.2379886612
                        ]
                      },
                      {
                        "test": [
                          0.8559322034,
                          0.355421658
                        ],
                        "passed_time": 1.638818635,
                        "iteration": 77,
                        "remaining_time": 8.866429024,
                        "learn": [
                          0.9015795869,
                          0.237458964
                        ]
                      },
                      {
                        "test": [
                          0.8559322034,
                          0.3551403215
                        ],
                        "passed_time": 1.658710931,
                        "iteration": 78,
                        "remaining_time": 8.839459517,
                        "learn": [
                          0.9027946537,
                          0.2364443743
                        ]
                      },
                      {
                        "test": [
                          0.8559322034,
                          0.3548830049
                        ],
                        "passed_time": 1.677595483,
                        "iteration": 79,
                        "remaining_time": 8.807376286,
                        "learn": [
                          0.9040097205,
                          0.2358992756
                        ]
                      },
                      {
                        "test": [
                          0.8559322034,
                          0.3545444992
                        ],
                        "passed_time": 1.696945464,
                        "iteration": 80,
                        "remaining_time": 8.778026535,
                        "learn": [
                          0.9052247874,
                          0.2341325702
                        ]
                      },
                      {
                        "test": [
                          0.8559322034,
                          0.353849955
                        ],
                        "passed_time": 1.713341004,
                        "iteration": 81,
                        "remaining_time": 8.73386024,
                        "learn": [
                          0.9052247874,
                          0.2326716374
                        ]
                      },
                      {
                        "test": [
                          0.8559322034,
                          0.3542627241
                        ],
                        "passed_time": 1.735407936,
                        "iteration": 82,
                        "remaining_time": 8.718856737,
                        "learn": [
                          0.9052247874,
                          0.2313696498
                        ]
                      },
                      {
                        "test": [
                          0.8559322034,
                          0.3540762616
                        ],
                        "passed_time": 1.750176585,
                        "iteration": 83,
                        "remaining_time": 8.667541183,
                        "learn": [
                          0.9064398542,
                          0.231085854
                        ]
                      },
                      {
                        "test": [
                          0.8559322034,
                          0.3545053898
                        ],
                        "passed_time": 1.783536629,
                        "iteration": 84,
                        "remaining_time": 8.707855308,
                        "learn": [
                          0.9088699878,
                          0.2297678433
                        ]
                      },
                      {
                        "test": [
                          0.8559322034,
                          0.3545528302
                        ],
                        "passed_time": 1.800152418,
                        "iteration": 85,
                        "remaining_time": 8.66585001,
                        "learn": [
                          0.9088699878,
                          0.2296019429
                        ]
                      },
                      {
                        "test": [
                          0.8559322034,
                          0.3544572177
                        ],
                        "passed_time": 1.823692168,
                        "iteration": 86,
                        "remaining_time": 8.657297302,
                        "learn": [
                          0.9100850547,
                          0.2292016686
                        ]
                      },
                      {
                        "test": [
                          0.8559322034,
                          0.3544054549
                        ],
                        "passed_time": 1.830108481,
                        "iteration": 87,
                        "remaining_time": 8.568235159,
                        "learn": [
                          0.9100850547,
                          0.2289007233
                        ]
                      },
                      {
                        "test": [
                          0.8559322034,
                          0.3536615191
                        ],
                        "passed_time": 1.851334246,
                        "iteration": 88,
                        "remaining_time": 8.549419945,
                        "learn": [
                          0.9100850547,
                          0.2276507591
                        ]
                      },
                      {
                        "test": [
                          0.8559322034,
                          0.3532819691
                        ],
                        "passed_time": 1.865228536,
                        "iteration": 89,
                        "remaining_time": 8.49715222,
                        "learn": [
                          0.9100850547,
                          0.2271397659
                        ]
                      },
                      {
                        "test": [
                          0.8559322034,
                          0.353098965
                        ],
                        "passed_time": 1.879068431,
                        "iteration": 90,
                        "remaining_time": 8.445483389,
                        "learn": [
                          0.9113001215,
                          0.2269065335
                        ]
                      },
                      {
                        "test": [
                          0.8559322034,
                          0.3533660359
                        ],
                        "passed_time": 1.885910678,
                        "iteration": 91,
                        "remaining_time": 8.363603878,
                        "learn": [
                          0.9100850547,
                          0.2261086894
                        ]
                      },
                      {
                        "test": [
                          0.8559322034,
                          0.3532194326
                        ],
                        "passed_time": 1.917598445,
                        "iteration": 92,
                        "remaining_time": 8.392070614,
                        "learn": [
                          0.9125151883,
                          0.2258103669
                        ]
                      },
                      {
                        "test": [
                          0.8559322034,
                          0.3530446558
                        ],
                        "passed_time": 1.936097555,
                        "iteration": 93,
                        "remaining_time": 8.362293695,
                        "learn": [
                          0.9137302552,
                          0.2255451089
                        ]
                      },
                      {
                        "test": [
                          0.8559322034,
                          0.3531982062
                        ],
                        "passed_time": 1.949532797,
                        "iteration": 94,
                        "remaining_time": 8.311166133,
                        "learn": [
                          0.9125151883,
                          0.2252165222
                        ]
                      },
                      {
                        "test": [
                          0.8559322034,
                          0.3532803703
                        ],
                        "passed_time": 1.971877971,
                        "iteration": 95,
                        "remaining_time": 8.298319793,
                        "learn": [
                          0.9137302552,
                          0.2245086563
                        ]
                      },
                      {
                        "test": [
                          0.8559322034,
                          0.3526890494
                        ],
                        "passed_time": 2.000188188,
                        "iteration": 96,
                        "remaining_time": 8.310060203,
                        "learn": [
                          0.914945322,
                          0.2234714191
                        ]
                      },
                      {
                        "test": [
                          0.8559322034,
                          0.352999593
                        ],
                        "passed_time": 2.020306561,
                        "iteration": 97,
                        "remaining_time": 8.287379974,
                        "learn": [
                          0.9161603888,
                          0.2223124679
                        ]
                      },
                      {
                        "test": [
                          0.8559322034,
                          0.3528979906
                        ],
                        "passed_time": 2.030260954,
                        "iteration": 98,
                        "remaining_time": 8.223582246,
                        "learn": [
                          0.9161603888,
                          0.2220090735
                        ]
                      },
                      {
                        "test": [
                          0.8559322034,
                          0.3528990757
                        ],
                        "passed_time": 2.059580392,
                        "iteration": 99,
                        "remaining_time": 8.238321568,
                        "learn": [
                          0.9161603888,
                          0.2219848476
                        ]
                      },
                      {
                        "test": [
                          0.8559322034,
                          0.3526021384
                        ],
                        "passed_time": 2.070651178,
                        "iteration": 100,
                        "remaining_time": 8.180097227,
                        "learn": [
                          0.9161603888,
                          0.2215787419
                        ]
                      },
                      {
                        "test": [
                          0.8559322034,
                          0.3526163244
                        ],
                        "passed_time": 2.081647172,
                        "iteration": 101,
                        "remaining_time": 8.122505631,
                        "learn": [
                          0.9161603888,
                          0.2213376616
                        ]
                      },
                      {
                        "test": [
                          0.8559322034,
                          0.3526301967
                        ],
                        "passed_time": 2.093660681,
                        "iteration": 102,
                        "remaining_time": 8.069740682,
                        "learn": [
                          0.9161603888,
                          0.2209426532
                        ]
                      },
                      {
                        "test": [
                          0.8559322034,
                          0.3521742597
                        ],
                        "passed_time": 2.103059503,
                        "iteration": 103,
                        "remaining_time": 8.007803494,
                        "learn": [
                          0.9161603888,
                          0.219769768
                        ]
                      },
                      {
                        "test": [
                          0.8559322034,
                          0.352165896
                        ],
                        "passed_time": 2.113543394,
                        "iteration": 104,
                        "remaining_time": 7.950948958,
                        "learn": [
                          0.9161603888,
                          0.2185799764
                        ]
                      },
                      {
                        "test": [
                          0.8559322034,
                          0.3520764576
                        ],
                        "passed_time": 2.12749553,
                        "iteration": 105,
                        "remaining_time": 7.907860745,
                        "learn": [
                          0.9173754557,
                          0.2179909569
                        ]
                      },
                      {
                        "test": [
                          0.8559322034,
                          0.3520627951
                        ],
                        "passed_time": 2.147345709,
                        "iteration": 106,
                        "remaining_time": 7.886980033,
                        "learn": [
                          0.9161603888,
                          0.217879149
                        ]
                      },
                      {
                        "test": [
                          0.8559322034,
                          0.3513951366
                        ],
                        "passed_time": 2.167687795,
                        "iteration": 107,
                        "remaining_time": 7.86790385,
                        "learn": [
                          0.9173754557,
                          0.216826676
                        ]
                      },
                      {
                        "test": [
                          0.8559322034,
                          0.3514104857
                        ],
                        "passed_time": 2.195792167,
                        "iteration": 108,
                        "remaining_time": 7.876648967,
                        "learn": [
                          0.9173754557,
                          0.2167618538
                        ]
                      },
                      {
                        "test": [
                          0.8559322034,
                          0.3514053349
                        ],
                        "passed_time": 2.219575138,
                        "iteration": 109,
                        "remaining_time": 7.869402763,
                        "learn": [
                          0.9173754557,
                          0.216460543
                        ]
                      },
                      {
                        "test": [
                          0.8559322034,
                          0.351221354
                        ],
                        "passed_time": 2.242381995,
                        "iteration": 110,
                        "remaining_time": 7.858437803,
                        "learn": [
                          0.9173754557,
                          0.215863421
                        ]
                      },
                      {
                        "test": [
                          0.8559322034,
                          0.3510626851
                        ],
                        "passed_time": 2.263019799,
                        "iteration": 111,
                        "remaining_time": 7.839747159,
                        "learn": [
                          0.9173754557,
                          0.2152173013
                        ]
                      },
                      {
                        "test": [
                          0.8559322034,
                          0.3507386122
                        ],
                        "passed_time": 2.282204462,
                        "iteration": 112,
                        "remaining_time": 7.81604537,
                        "learn": [
                          0.9173754557,
                          0.2145647932
                        ]
                      },
                      {
                        "test": [
                          0.8559322034,
                          0.350598254
                        ],
                        "passed_time": 2.302257815,
                        "iteration": 113,
                        "remaining_time": 7.79536418,
                        "learn": [
                          0.9173754557,
                          0.2143042028
                        ]
                      },
                      {
                        "test": [
                          0.8559322034,
                          0.3506239699
                        ],
                        "passed_time": 2.324077618,
                        "iteration": 114,
                        "remaining_time": 7.780607676,
                        "learn": [
                          0.9173754557,
                          0.2138852024
                        ]
                      },
                      {
                        "test": [
                          0.8559322034,
                          0.3506997447
                        ],
                        "passed_time": 2.344087504,
                        "iteration": 115,
                        "remaining_time": 7.759737945,
                        "learn": [
                          0.9173754557,
                          0.2126340523
                        ]
                      },
                      {
                        "test": [
                          0.8559322034,
                          0.3506220686
                        ],
                        "passed_time": 2.370463586,
                        "iteration": 116,
                        "remaining_time": 7.759722678,
                        "learn": [
                          0.9173754557,
                          0.2125244496
                        ]
                      },
                      {
                        "test": [
                          0.8559322034,
                          0.3506248668
                        ],
                        "passed_time": 2.393079066,
                        "iteration": 117,
                        "remaining_time": 7.747086468,
                        "learn": [
                          0.9173754557,
                          0.2113831695
                        ]
                      },
                      {
                        "test": [
                          0.8559322034,
                          0.3507075853
                        ],
                        "passed_time": 2.413224448,
                        "iteration": 118,
                        "remaining_time": 7.726374072,
                        "learn": [
                          0.9173754557,
                          0.2111602376
                        ]
                      },
                      {
                        "test": [
                          0.8559322034,
                          0.3501888292
                        ],
                        "passed_time": 2.43433608,
                        "iteration": 119,
                        "remaining_time": 7.708730921,
                        "learn": [
                          0.9173754557,
                          0.2104674013
                        ]
                      },
                      {
                        "test": [
                          0.8559322034,
                          0.3504428309
                        ],
                        "passed_time": 2.457278251,
                        "iteration": 120,
                        "remaining_time": 7.696764108,
                        "learn": [
                          0.9173754557,
                          0.2095499564
                        ]
                      },
                      {
                        "test": [
                          0.8559322034,
                          0.3503331727
                        ],
                        "passed_time": 2.476428317,
                        "iteration": 121,
                        "remaining_time": 7.672868065,
                        "learn": [
                          0.9173754557,
                          0.2091172665
                        ]
                      }
                    ]
                  },
                  "total_iterations": 500,
                  "passed_iterations": 121
                },
                "path": "catboost_info",
                "name": "catboost_info"
              }
            },
            "_view_module": "catboost-widget",
            "_model_module_version": "^1.0.0",
            "_view_count": null,
            "_view_module_version": "^1.0.0",
            "layout": "IPY_MODEL_6206ceb1184d43ab9e054769abf94834",
            "_model_module": "catboost-widget"
          }
        }
      }
    }
  },
  "cells": [
    {
      "cell_type": "markdown",
      "metadata": {
        "id": "view-in-github",
        "colab_type": "text"
      },
      "source": [
        "<a href=\"https://colab.research.google.com/github/SohilaOsama/eicu-code/blob/master/FS_HeartMortality.ipynb\" target=\"_parent\"><img src=\"https://colab.research.google.com/assets/colab-badge.svg\" alt=\"Open In Colab\"/></a>"
      ]
    },
    {
      "cell_type": "markdown",
      "source": [
        "**Import Libraries**"
      ],
      "metadata": {
        "id": "BtW7I8Fa-dDQ"
      }
    },
    {
      "cell_type": "code",
      "execution_count": 1,
      "metadata": {
        "id": "PqGHmL3r3fVZ"
      },
      "outputs": [],
      "source": [
        "import numpy as np # linear algebra\n",
        "import pandas as pd # data processing, CSV file I/O (e.g. pd.read_csv)\n",
        "import seaborn as sns\n",
        "import matplotlib.pyplot as plt\n",
        "import scipy\n",
        "\n",
        "from scipy import stats\n",
        "from scipy.stats import norm, skew, boxcox\n",
        "from collections import Counter\n",
        "\n",
        "from numpy import mean\n",
        "from numpy import std\n",
        "from numpy.random import seed\n",
        "from numpy.random import randn\n",
        "from scipy.stats import wilcoxon\n",
        "\n",
        "from sklearn.preprocessing import RobustScaler, StandardScaler\n",
        "from sklearn.metrics import mean_squared_error, confusion_matrix, accuracy_score, plot_confusion_matrix, auc\n",
        "from sklearn.base import BaseEstimator, TransformerMixin, RegressorMixin, clone\n",
        "\n",
        "from sklearn.model_selection import train_test_split, StratifiedKFold, GridSearchCV\n",
        "from sklearn.linear_model import LogisticRegression\n",
        "from sklearn.svm import SVC\n",
        "from sklearn.ensemble import RandomForestClassifier, VotingClassifier\n",
        "from sklearn.neighbors import KNeighborsClassifier\n",
        "from sklearn.tree import DecisionTreeClassifier\n",
        "from sklearn.feature_selection import RFE\n",
        "from imblearn.over_sampling import SMOTE\n",
        "#XGBOOST\n",
        "from xgboost import XGBClassifier\n"
      ]
    },
    {
      "cell_type": "markdown",
      "source": [
        "**Load Data**"
      ],
      "metadata": {
        "id": "sBQxWiLzCo6M"
      }
    },
    {
      "cell_type": "code",
      "source": [
        "data = pd.read_csv(\"/content/data01.csv\")"
      ],
      "metadata": {
        "id": "qATPH_K-CrxX"
      },
      "execution_count": 2,
      "outputs": []
    },
    {
      "cell_type": "code",
      "source": [
        "print(\"Data Columns --> \",data.columns)"
      ],
      "metadata": {
        "colab": {
          "base_uri": "https://localhost:8080/"
        },
        "id": "na1zPJzaCwp2",
        "outputId": "accc6677-29be-4f6e-c626-5d6ac6d72763"
      },
      "execution_count": 3,
      "outputs": [
        {
          "output_type": "stream",
          "name": "stdout",
          "text": [
            "Data Columns -->  Index(['group', 'ID', 'outcome', 'age', 'gendera', 'BMI', 'hypertensive',\n",
            "       'atrialfibrillation', 'CHD with no MI', 'diabetes', 'deficiencyanemias',\n",
            "       'depression', 'Hyperlipemia', 'Renal failure', 'COPD', 'heart rate',\n",
            "       'Systolic blood pressure', 'Diastolic blood pressure',\n",
            "       'Respiratory rate', 'temperature', 'SP O2', 'Urine output',\n",
            "       'hematocrit', 'RBC', 'MCH', 'MCHC', 'MCV', 'RDW', 'Leucocyte',\n",
            "       'Platelets', 'Neutrophils', 'Basophils', 'Lymphocyte', 'PT', 'INR',\n",
            "       'NT-proBNP', 'Creatine kinase', 'Creatinine', 'Urea nitrogen',\n",
            "       'glucose', 'Blood potassium', 'Blood sodium', 'Blood calcium',\n",
            "       'Chloride', 'Anion gap', 'Magnesium ion', 'PH', 'Bicarbonate',\n",
            "       'Lactic acid', 'PCO2', 'EF'],\n",
            "      dtype='object')\n"
          ]
        }
      ]
    },
    {
      "cell_type": "code",
      "source": [
        "data.head()"
      ],
      "metadata": {
        "colab": {
          "base_uri": "https://localhost:8080/",
          "height": 322
        },
        "id": "UXLyD27gC_aF",
        "outputId": "7de45353-aa19-45c5-edf6-8abd1025682d",
        "collapsed": true
      },
      "execution_count": 4,
      "outputs": [
        {
          "output_type": "execute_result",
          "data": {
            "text/html": [
              "\n",
              "  <div id=\"df-2cda6738-e7cd-4365-87cb-987b11997a01\">\n",
              "    <div class=\"colab-df-container\">\n",
              "      <div>\n",
              "<style scoped>\n",
              "    .dataframe tbody tr th:only-of-type {\n",
              "        vertical-align: middle;\n",
              "    }\n",
              "\n",
              "    .dataframe tbody tr th {\n",
              "        vertical-align: top;\n",
              "    }\n",
              "\n",
              "    .dataframe thead th {\n",
              "        text-align: right;\n",
              "    }\n",
              "</style>\n",
              "<table border=\"1\" class=\"dataframe\">\n",
              "  <thead>\n",
              "    <tr style=\"text-align: right;\">\n",
              "      <th></th>\n",
              "      <th>group</th>\n",
              "      <th>ID</th>\n",
              "      <th>outcome</th>\n",
              "      <th>age</th>\n",
              "      <th>gendera</th>\n",
              "      <th>BMI</th>\n",
              "      <th>hypertensive</th>\n",
              "      <th>atrialfibrillation</th>\n",
              "      <th>CHD with no MI</th>\n",
              "      <th>diabetes</th>\n",
              "      <th>deficiencyanemias</th>\n",
              "      <th>depression</th>\n",
              "      <th>Hyperlipemia</th>\n",
              "      <th>Renal failure</th>\n",
              "      <th>COPD</th>\n",
              "      <th>heart rate</th>\n",
              "      <th>Systolic blood pressure</th>\n",
              "      <th>Diastolic blood pressure</th>\n",
              "      <th>Respiratory rate</th>\n",
              "      <th>temperature</th>\n",
              "      <th>SP O2</th>\n",
              "      <th>Urine output</th>\n",
              "      <th>hematocrit</th>\n",
              "      <th>RBC</th>\n",
              "      <th>MCH</th>\n",
              "      <th>MCHC</th>\n",
              "      <th>MCV</th>\n",
              "      <th>RDW</th>\n",
              "      <th>Leucocyte</th>\n",
              "      <th>Platelets</th>\n",
              "      <th>Neutrophils</th>\n",
              "      <th>Basophils</th>\n",
              "      <th>Lymphocyte</th>\n",
              "      <th>PT</th>\n",
              "      <th>INR</th>\n",
              "      <th>NT-proBNP</th>\n",
              "      <th>Creatine kinase</th>\n",
              "      <th>Creatinine</th>\n",
              "      <th>Urea nitrogen</th>\n",
              "      <th>glucose</th>\n",
              "      <th>Blood potassium</th>\n",
              "      <th>Blood sodium</th>\n",
              "      <th>Blood calcium</th>\n",
              "      <th>Chloride</th>\n",
              "      <th>Anion gap</th>\n",
              "      <th>Magnesium ion</th>\n",
              "      <th>PH</th>\n",
              "      <th>Bicarbonate</th>\n",
              "      <th>Lactic acid</th>\n",
              "      <th>PCO2</th>\n",
              "      <th>EF</th>\n",
              "    </tr>\n",
              "  </thead>\n",
              "  <tbody>\n",
              "    <tr>\n",
              "      <th>0</th>\n",
              "      <td>1</td>\n",
              "      <td>125047</td>\n",
              "      <td>0</td>\n",
              "      <td>72</td>\n",
              "      <td>1</td>\n",
              "      <td>37.588179</td>\n",
              "      <td>0</td>\n",
              "      <td>0</td>\n",
              "      <td>0</td>\n",
              "      <td>1</td>\n",
              "      <td>1</td>\n",
              "      <td>0</td>\n",
              "      <td>1</td>\n",
              "      <td>1</td>\n",
              "      <td>0</td>\n",
              "      <td>68.837838</td>\n",
              "      <td>155.866667</td>\n",
              "      <td>68.333333</td>\n",
              "      <td>16.621622</td>\n",
              "      <td>36.714286</td>\n",
              "      <td>98.394737</td>\n",
              "      <td>2155.0</td>\n",
              "      <td>26.272727</td>\n",
              "      <td>2.960000</td>\n",
              "      <td>28.250000</td>\n",
              "      <td>31.520000</td>\n",
              "      <td>89.900</td>\n",
              "      <td>16.220000</td>\n",
              "      <td>7.650000</td>\n",
              "      <td>305.100</td>\n",
              "      <td>74.65</td>\n",
              "      <td>0.40</td>\n",
              "      <td>13.3</td>\n",
              "      <td>10.600000</td>\n",
              "      <td>1.000000</td>\n",
              "      <td>1956.0</td>\n",
              "      <td>148.000000</td>\n",
              "      <td>1.958333</td>\n",
              "      <td>50.000000</td>\n",
              "      <td>114.636364</td>\n",
              "      <td>4.816667</td>\n",
              "      <td>138.750000</td>\n",
              "      <td>7.463636</td>\n",
              "      <td>109.166667</td>\n",
              "      <td>13.166667</td>\n",
              "      <td>2.618182</td>\n",
              "      <td>7.230</td>\n",
              "      <td>21.166667</td>\n",
              "      <td>0.5</td>\n",
              "      <td>40.0</td>\n",
              "      <td>55</td>\n",
              "    </tr>\n",
              "    <tr>\n",
              "      <th>1</th>\n",
              "      <td>1</td>\n",
              "      <td>139812</td>\n",
              "      <td>0</td>\n",
              "      <td>75</td>\n",
              "      <td>2</td>\n",
              "      <td>NaN</td>\n",
              "      <td>0</td>\n",
              "      <td>0</td>\n",
              "      <td>0</td>\n",
              "      <td>0</td>\n",
              "      <td>1</td>\n",
              "      <td>0</td>\n",
              "      <td>0</td>\n",
              "      <td>0</td>\n",
              "      <td>1</td>\n",
              "      <td>101.370370</td>\n",
              "      <td>140.000000</td>\n",
              "      <td>65.000000</td>\n",
              "      <td>20.851852</td>\n",
              "      <td>36.682540</td>\n",
              "      <td>96.923077</td>\n",
              "      <td>1425.0</td>\n",
              "      <td>30.780000</td>\n",
              "      <td>3.138000</td>\n",
              "      <td>31.060000</td>\n",
              "      <td>31.660000</td>\n",
              "      <td>98.200</td>\n",
              "      <td>14.260000</td>\n",
              "      <td>12.740000</td>\n",
              "      <td>246.400</td>\n",
              "      <td>NaN</td>\n",
              "      <td>NaN</td>\n",
              "      <td>NaN</td>\n",
              "      <td>NaN</td>\n",
              "      <td>NaN</td>\n",
              "      <td>2384.0</td>\n",
              "      <td>60.600000</td>\n",
              "      <td>1.122222</td>\n",
              "      <td>20.333333</td>\n",
              "      <td>147.500000</td>\n",
              "      <td>4.450000</td>\n",
              "      <td>138.888889</td>\n",
              "      <td>8.162500</td>\n",
              "      <td>98.444444</td>\n",
              "      <td>11.444444</td>\n",
              "      <td>1.887500</td>\n",
              "      <td>7.225</td>\n",
              "      <td>33.444444</td>\n",
              "      <td>0.5</td>\n",
              "      <td>78.0</td>\n",
              "      <td>55</td>\n",
              "    </tr>\n",
              "    <tr>\n",
              "      <th>2</th>\n",
              "      <td>1</td>\n",
              "      <td>109787</td>\n",
              "      <td>0</td>\n",
              "      <td>83</td>\n",
              "      <td>2</td>\n",
              "      <td>26.572634</td>\n",
              "      <td>0</td>\n",
              "      <td>0</td>\n",
              "      <td>0</td>\n",
              "      <td>0</td>\n",
              "      <td>1</td>\n",
              "      <td>0</td>\n",
              "      <td>0</td>\n",
              "      <td>1</td>\n",
              "      <td>0</td>\n",
              "      <td>72.318182</td>\n",
              "      <td>135.333333</td>\n",
              "      <td>61.375000</td>\n",
              "      <td>23.640000</td>\n",
              "      <td>36.453704</td>\n",
              "      <td>95.291667</td>\n",
              "      <td>2425.0</td>\n",
              "      <td>27.700000</td>\n",
              "      <td>2.620000</td>\n",
              "      <td>34.320000</td>\n",
              "      <td>31.300000</td>\n",
              "      <td>109.800</td>\n",
              "      <td>23.820000</td>\n",
              "      <td>5.480000</td>\n",
              "      <td>204.200</td>\n",
              "      <td>68.10</td>\n",
              "      <td>0.55</td>\n",
              "      <td>24.5</td>\n",
              "      <td>11.275000</td>\n",
              "      <td>0.950000</td>\n",
              "      <td>4081.0</td>\n",
              "      <td>16.000000</td>\n",
              "      <td>1.871429</td>\n",
              "      <td>33.857143</td>\n",
              "      <td>149.000000</td>\n",
              "      <td>5.825000</td>\n",
              "      <td>140.714286</td>\n",
              "      <td>8.266667</td>\n",
              "      <td>105.857143</td>\n",
              "      <td>10.000000</td>\n",
              "      <td>2.157143</td>\n",
              "      <td>7.268</td>\n",
              "      <td>30.571429</td>\n",
              "      <td>0.5</td>\n",
              "      <td>71.5</td>\n",
              "      <td>35</td>\n",
              "    </tr>\n",
              "    <tr>\n",
              "      <th>3</th>\n",
              "      <td>1</td>\n",
              "      <td>130587</td>\n",
              "      <td>0</td>\n",
              "      <td>43</td>\n",
              "      <td>2</td>\n",
              "      <td>83.264629</td>\n",
              "      <td>0</td>\n",
              "      <td>0</td>\n",
              "      <td>0</td>\n",
              "      <td>0</td>\n",
              "      <td>0</td>\n",
              "      <td>0</td>\n",
              "      <td>0</td>\n",
              "      <td>0</td>\n",
              "      <td>0</td>\n",
              "      <td>94.500000</td>\n",
              "      <td>126.400000</td>\n",
              "      <td>73.200000</td>\n",
              "      <td>21.857143</td>\n",
              "      <td>36.287037</td>\n",
              "      <td>93.846154</td>\n",
              "      <td>8760.0</td>\n",
              "      <td>36.637500</td>\n",
              "      <td>4.277500</td>\n",
              "      <td>26.062500</td>\n",
              "      <td>30.412500</td>\n",
              "      <td>85.625</td>\n",
              "      <td>17.037500</td>\n",
              "      <td>8.225000</td>\n",
              "      <td>216.375</td>\n",
              "      <td>81.80</td>\n",
              "      <td>0.15</td>\n",
              "      <td>14.5</td>\n",
              "      <td>27.066667</td>\n",
              "      <td>2.666667</td>\n",
              "      <td>668.0</td>\n",
              "      <td>85.000000</td>\n",
              "      <td>0.585714</td>\n",
              "      <td>15.285714</td>\n",
              "      <td>128.250000</td>\n",
              "      <td>4.386667</td>\n",
              "      <td>138.500000</td>\n",
              "      <td>9.476923</td>\n",
              "      <td>92.071429</td>\n",
              "      <td>12.357143</td>\n",
              "      <td>1.942857</td>\n",
              "      <td>7.370</td>\n",
              "      <td>38.571429</td>\n",
              "      <td>0.6</td>\n",
              "      <td>75.0</td>\n",
              "      <td>55</td>\n",
              "    </tr>\n",
              "    <tr>\n",
              "      <th>4</th>\n",
              "      <td>1</td>\n",
              "      <td>138290</td>\n",
              "      <td>0</td>\n",
              "      <td>75</td>\n",
              "      <td>2</td>\n",
              "      <td>31.824842</td>\n",
              "      <td>1</td>\n",
              "      <td>0</td>\n",
              "      <td>0</td>\n",
              "      <td>0</td>\n",
              "      <td>1</td>\n",
              "      <td>0</td>\n",
              "      <td>0</td>\n",
              "      <td>1</td>\n",
              "      <td>1</td>\n",
              "      <td>67.920000</td>\n",
              "      <td>156.560000</td>\n",
              "      <td>58.120000</td>\n",
              "      <td>21.360000</td>\n",
              "      <td>36.761905</td>\n",
              "      <td>99.280000</td>\n",
              "      <td>4455.0</td>\n",
              "      <td>29.933333</td>\n",
              "      <td>3.286667</td>\n",
              "      <td>30.666667</td>\n",
              "      <td>33.666667</td>\n",
              "      <td>91.000</td>\n",
              "      <td>16.266667</td>\n",
              "      <td>8.833333</td>\n",
              "      <td>251.000</td>\n",
              "      <td>NaN</td>\n",
              "      <td>NaN</td>\n",
              "      <td>NaN</td>\n",
              "      <td>NaN</td>\n",
              "      <td>NaN</td>\n",
              "      <td>30802.0</td>\n",
              "      <td>111.666667</td>\n",
              "      <td>1.950000</td>\n",
              "      <td>43.000000</td>\n",
              "      <td>145.750000</td>\n",
              "      <td>4.783333</td>\n",
              "      <td>136.666667</td>\n",
              "      <td>8.733333</td>\n",
              "      <td>104.500000</td>\n",
              "      <td>15.166667</td>\n",
              "      <td>1.650000</td>\n",
              "      <td>7.250</td>\n",
              "      <td>22.000000</td>\n",
              "      <td>0.6</td>\n",
              "      <td>50.0</td>\n",
              "      <td>55</td>\n",
              "    </tr>\n",
              "  </tbody>\n",
              "</table>\n",
              "</div>\n",
              "      <button class=\"colab-df-convert\" onclick=\"convertToInteractive('df-2cda6738-e7cd-4365-87cb-987b11997a01')\"\n",
              "              title=\"Convert this dataframe to an interactive table.\"\n",
              "              style=\"display:none;\">\n",
              "        \n",
              "  <svg xmlns=\"http://www.w3.org/2000/svg\" height=\"24px\"viewBox=\"0 0 24 24\"\n",
              "       width=\"24px\">\n",
              "    <path d=\"M0 0h24v24H0V0z\" fill=\"none\"/>\n",
              "    <path d=\"M18.56 5.44l.94 2.06.94-2.06 2.06-.94-2.06-.94-.94-2.06-.94 2.06-2.06.94zm-11 1L8.5 8.5l.94-2.06 2.06-.94-2.06-.94L8.5 2.5l-.94 2.06-2.06.94zm10 10l.94 2.06.94-2.06 2.06-.94-2.06-.94-.94-2.06-.94 2.06-2.06.94z\"/><path d=\"M17.41 7.96l-1.37-1.37c-.4-.4-.92-.59-1.43-.59-.52 0-1.04.2-1.43.59L10.3 9.45l-7.72 7.72c-.78.78-.78 2.05 0 2.83L4 21.41c.39.39.9.59 1.41.59.51 0 1.02-.2 1.41-.59l7.78-7.78 2.81-2.81c.8-.78.8-2.07 0-2.86zM5.41 20L4 18.59l7.72-7.72 1.47 1.35L5.41 20z\"/>\n",
              "  </svg>\n",
              "      </button>\n",
              "      \n",
              "  <style>\n",
              "    .colab-df-container {\n",
              "      display:flex;\n",
              "      flex-wrap:wrap;\n",
              "      gap: 12px;\n",
              "    }\n",
              "\n",
              "    .colab-df-convert {\n",
              "      background-color: #E8F0FE;\n",
              "      border: none;\n",
              "      border-radius: 50%;\n",
              "      cursor: pointer;\n",
              "      display: none;\n",
              "      fill: #1967D2;\n",
              "      height: 32px;\n",
              "      padding: 0 0 0 0;\n",
              "      width: 32px;\n",
              "    }\n",
              "\n",
              "    .colab-df-convert:hover {\n",
              "      background-color: #E2EBFA;\n",
              "      box-shadow: 0px 1px 2px rgba(60, 64, 67, 0.3), 0px 1px 3px 1px rgba(60, 64, 67, 0.15);\n",
              "      fill: #174EA6;\n",
              "    }\n",
              "\n",
              "    [theme=dark] .colab-df-convert {\n",
              "      background-color: #3B4455;\n",
              "      fill: #D2E3FC;\n",
              "    }\n",
              "\n",
              "    [theme=dark] .colab-df-convert:hover {\n",
              "      background-color: #434B5C;\n",
              "      box-shadow: 0px 1px 3px 1px rgba(0, 0, 0, 0.15);\n",
              "      filter: drop-shadow(0px 1px 2px rgba(0, 0, 0, 0.3));\n",
              "      fill: #FFFFFF;\n",
              "    }\n",
              "  </style>\n",
              "\n",
              "      <script>\n",
              "        const buttonEl =\n",
              "          document.querySelector('#df-2cda6738-e7cd-4365-87cb-987b11997a01 button.colab-df-convert');\n",
              "        buttonEl.style.display =\n",
              "          google.colab.kernel.accessAllowed ? 'block' : 'none';\n",
              "\n",
              "        async function convertToInteractive(key) {\n",
              "          const element = document.querySelector('#df-2cda6738-e7cd-4365-87cb-987b11997a01');\n",
              "          const dataTable =\n",
              "            await google.colab.kernel.invokeFunction('convertToInteractive',\n",
              "                                                     [key], {});\n",
              "          if (!dataTable) return;\n",
              "\n",
              "          const docLinkHtml = 'Like what you see? Visit the ' +\n",
              "            '<a target=\"_blank\" href=https://colab.research.google.com/notebooks/data_table.ipynb>data table notebook</a>'\n",
              "            + ' to learn more about interactive tables.';\n",
              "          element.innerHTML = '';\n",
              "          dataTable['output_type'] = 'display_data';\n",
              "          await google.colab.output.renderOutput(dataTable, element);\n",
              "          const docLink = document.createElement('div');\n",
              "          docLink.innerHTML = docLinkHtml;\n",
              "          element.appendChild(docLink);\n",
              "        }\n",
              "      </script>\n",
              "    </div>\n",
              "  </div>\n",
              "  "
            ],
            "text/plain": [
              "   group      ID  outcome  age  ...  Bicarbonate  Lactic acid  PCO2  EF\n",
              "0      1  125047        0   72  ...    21.166667          0.5  40.0  55\n",
              "1      1  139812        0   75  ...    33.444444          0.5  78.0  55\n",
              "2      1  109787        0   83  ...    30.571429          0.5  71.5  35\n",
              "3      1  130587        0   43  ...    38.571429          0.6  75.0  55\n",
              "4      1  138290        0   75  ...    22.000000          0.6  50.0  55\n",
              "\n",
              "[5 rows x 51 columns]"
            ]
          },
          "metadata": {},
          "execution_count": 4
        }
      ]
    },
    {
      "cell_type": "markdown",
      "source": [
        "**Drop Unuseful Data**"
      ],
      "metadata": {
        "id": "gRUi21I6HoWg"
      }
    },
    {
      "cell_type": "code",
      "source": [
        "data.drop(['group', 'ID'], axis = 1, inplace = True)"
      ],
      "metadata": {
        "id": "1owIW_iaHur2"
      },
      "execution_count": 5,
      "outputs": []
    },
    {
      "cell_type": "code",
      "source": [
        "data.shape"
      ],
      "metadata": {
        "colab": {
          "base_uri": "https://localhost:8080/"
        },
        "id": "eT71Tux0Ie3V",
        "outputId": "af1fa0a1-9a7d-4b96-a883-aa27f1bc3178"
      },
      "execution_count": 6,
      "outputs": [
        {
          "output_type": "execute_result",
          "data": {
            "text/plain": [
              "(1177, 49)"
            ]
          },
          "metadata": {},
          "execution_count": 6
        }
      ]
    },
    {
      "cell_type": "code",
      "source": [
        "desc = data.describe()\n",
        "desc"
      ],
      "metadata": {
        "colab": {
          "base_uri": "https://localhost:8080/",
          "height": 399
        },
        "id": "1Hjsie-nIxXJ",
        "outputId": "78b897db-918c-4432-ce5a-a98680987750"
      },
      "execution_count": 7,
      "outputs": [
        {
          "output_type": "execute_result",
          "data": {
            "text/html": [
              "\n",
              "  <div id=\"df-2861bce0-7920-401c-bfca-a27db0f89201\">\n",
              "    <div class=\"colab-df-container\">\n",
              "      <div>\n",
              "<style scoped>\n",
              "    .dataframe tbody tr th:only-of-type {\n",
              "        vertical-align: middle;\n",
              "    }\n",
              "\n",
              "    .dataframe tbody tr th {\n",
              "        vertical-align: top;\n",
              "    }\n",
              "\n",
              "    .dataframe thead th {\n",
              "        text-align: right;\n",
              "    }\n",
              "</style>\n",
              "<table border=\"1\" class=\"dataframe\">\n",
              "  <thead>\n",
              "    <tr style=\"text-align: right;\">\n",
              "      <th></th>\n",
              "      <th>outcome</th>\n",
              "      <th>age</th>\n",
              "      <th>gendera</th>\n",
              "      <th>BMI</th>\n",
              "      <th>hypertensive</th>\n",
              "      <th>atrialfibrillation</th>\n",
              "      <th>CHD with no MI</th>\n",
              "      <th>diabetes</th>\n",
              "      <th>deficiencyanemias</th>\n",
              "      <th>depression</th>\n",
              "      <th>Hyperlipemia</th>\n",
              "      <th>Renal failure</th>\n",
              "      <th>COPD</th>\n",
              "      <th>heart rate</th>\n",
              "      <th>Systolic blood pressure</th>\n",
              "      <th>Diastolic blood pressure</th>\n",
              "      <th>Respiratory rate</th>\n",
              "      <th>temperature</th>\n",
              "      <th>SP O2</th>\n",
              "      <th>Urine output</th>\n",
              "      <th>hematocrit</th>\n",
              "      <th>RBC</th>\n",
              "      <th>MCH</th>\n",
              "      <th>MCHC</th>\n",
              "      <th>MCV</th>\n",
              "      <th>RDW</th>\n",
              "      <th>Leucocyte</th>\n",
              "      <th>Platelets</th>\n",
              "      <th>Neutrophils</th>\n",
              "      <th>Basophils</th>\n",
              "      <th>Lymphocyte</th>\n",
              "      <th>PT</th>\n",
              "      <th>INR</th>\n",
              "      <th>NT-proBNP</th>\n",
              "      <th>Creatine kinase</th>\n",
              "      <th>Creatinine</th>\n",
              "      <th>Urea nitrogen</th>\n",
              "      <th>glucose</th>\n",
              "      <th>Blood potassium</th>\n",
              "      <th>Blood sodium</th>\n",
              "      <th>Blood calcium</th>\n",
              "      <th>Chloride</th>\n",
              "      <th>Anion gap</th>\n",
              "      <th>Magnesium ion</th>\n",
              "      <th>PH</th>\n",
              "      <th>Bicarbonate</th>\n",
              "      <th>Lactic acid</th>\n",
              "      <th>PCO2</th>\n",
              "      <th>EF</th>\n",
              "    </tr>\n",
              "  </thead>\n",
              "  <tbody>\n",
              "    <tr>\n",
              "      <th>count</th>\n",
              "      <td>1177.000000</td>\n",
              "      <td>1177.000000</td>\n",
              "      <td>1177.000000</td>\n",
              "      <td>962.000000</td>\n",
              "      <td>1177.000000</td>\n",
              "      <td>1177.000000</td>\n",
              "      <td>1177.000000</td>\n",
              "      <td>1177.000000</td>\n",
              "      <td>1177.000000</td>\n",
              "      <td>1177.000000</td>\n",
              "      <td>1177.000000</td>\n",
              "      <td>1177.000000</td>\n",
              "      <td>1177.000000</td>\n",
              "      <td>1164.000000</td>\n",
              "      <td>1161.000000</td>\n",
              "      <td>1161.000000</td>\n",
              "      <td>1164.000000</td>\n",
              "      <td>1158.000000</td>\n",
              "      <td>1164.000000</td>\n",
              "      <td>1141.000000</td>\n",
              "      <td>1177.000000</td>\n",
              "      <td>1177.000000</td>\n",
              "      <td>1177.000000</td>\n",
              "      <td>1177.000000</td>\n",
              "      <td>1177.000000</td>\n",
              "      <td>1177.000000</td>\n",
              "      <td>1177.000000</td>\n",
              "      <td>1177.000000</td>\n",
              "      <td>1033.000000</td>\n",
              "      <td>918.000000</td>\n",
              "      <td>1032.000000</td>\n",
              "      <td>1157.000000</td>\n",
              "      <td>1157.000000</td>\n",
              "      <td>1177.000000</td>\n",
              "      <td>1012.000000</td>\n",
              "      <td>1177.000000</td>\n",
              "      <td>1177.000000</td>\n",
              "      <td>1159.000000</td>\n",
              "      <td>1177.000000</td>\n",
              "      <td>1177.000000</td>\n",
              "      <td>1176.000000</td>\n",
              "      <td>1177.000000</td>\n",
              "      <td>1177.000000</td>\n",
              "      <td>1177.000000</td>\n",
              "      <td>885.000000</td>\n",
              "      <td>1177.000000</td>\n",
              "      <td>948.000000</td>\n",
              "      <td>883.000000</td>\n",
              "      <td>1177.000000</td>\n",
              "    </tr>\n",
              "    <tr>\n",
              "      <th>mean</th>\n",
              "      <td>0.135089</td>\n",
              "      <td>74.055225</td>\n",
              "      <td>1.525064</td>\n",
              "      <td>30.188278</td>\n",
              "      <td>0.717927</td>\n",
              "      <td>0.451147</td>\n",
              "      <td>0.085811</td>\n",
              "      <td>0.421410</td>\n",
              "      <td>0.338997</td>\n",
              "      <td>0.118946</td>\n",
              "      <td>0.379779</td>\n",
              "      <td>0.365336</td>\n",
              "      <td>0.075616</td>\n",
              "      <td>84.575848</td>\n",
              "      <td>117.995035</td>\n",
              "      <td>59.534497</td>\n",
              "      <td>20.801511</td>\n",
              "      <td>36.677286</td>\n",
              "      <td>96.272900</td>\n",
              "      <td>1899.276512</td>\n",
              "      <td>31.914014</td>\n",
              "      <td>3.575010</td>\n",
              "      <td>29.539939</td>\n",
              "      <td>32.864327</td>\n",
              "      <td>89.903812</td>\n",
              "      <td>15.952129</td>\n",
              "      <td>10.712948</td>\n",
              "      <td>241.504323</td>\n",
              "      <td>80.113544</td>\n",
              "      <td>0.405569</td>\n",
              "      <td>12.233024</td>\n",
              "      <td>17.481057</td>\n",
              "      <td>1.625465</td>\n",
              "      <td>11014.130912</td>\n",
              "      <td>246.778456</td>\n",
              "      <td>1.642846</td>\n",
              "      <td>36.298423</td>\n",
              "      <td>148.796531</td>\n",
              "      <td>4.176646</td>\n",
              "      <td>138.890016</td>\n",
              "      <td>8.500894</td>\n",
              "      <td>102.283835</td>\n",
              "      <td>13.925094</td>\n",
              "      <td>2.120169</td>\n",
              "      <td>7.378532</td>\n",
              "      <td>26.911766</td>\n",
              "      <td>1.853426</td>\n",
              "      <td>45.535382</td>\n",
              "      <td>48.715378</td>\n",
              "    </tr>\n",
              "    <tr>\n",
              "      <th>std</th>\n",
              "      <td>0.341964</td>\n",
              "      <td>13.434061</td>\n",
              "      <td>0.499584</td>\n",
              "      <td>9.325997</td>\n",
              "      <td>0.450200</td>\n",
              "      <td>0.497819</td>\n",
              "      <td>0.280204</td>\n",
              "      <td>0.493995</td>\n",
              "      <td>0.473570</td>\n",
              "      <td>0.323863</td>\n",
              "      <td>0.485538</td>\n",
              "      <td>0.481729</td>\n",
              "      <td>0.264495</td>\n",
              "      <td>16.018701</td>\n",
              "      <td>17.367618</td>\n",
              "      <td>10.684681</td>\n",
              "      <td>4.002987</td>\n",
              "      <td>0.607558</td>\n",
              "      <td>2.298002</td>\n",
              "      <td>1272.363631</td>\n",
              "      <td>5.202102</td>\n",
              "      <td>0.626835</td>\n",
              "      <td>2.619054</td>\n",
              "      <td>1.402302</td>\n",
              "      <td>6.532629</td>\n",
              "      <td>2.131643</td>\n",
              "      <td>5.229402</td>\n",
              "      <td>113.120623</td>\n",
              "      <td>11.133243</td>\n",
              "      <td>0.465007</td>\n",
              "      <td>8.632807</td>\n",
              "      <td>7.386988</td>\n",
              "      <td>0.834038</td>\n",
              "      <td>13148.664625</td>\n",
              "      <td>1484.522810</td>\n",
              "      <td>1.279651</td>\n",
              "      <td>21.851545</td>\n",
              "      <td>51.494256</td>\n",
              "      <td>0.414836</td>\n",
              "      <td>4.151347</td>\n",
              "      <td>0.572263</td>\n",
              "      <td>5.339733</td>\n",
              "      <td>2.652732</td>\n",
              "      <td>0.251532</td>\n",
              "      <td>0.067320</td>\n",
              "      <td>5.167512</td>\n",
              "      <td>0.983819</td>\n",
              "      <td>12.711271</td>\n",
              "      <td>12.868436</td>\n",
              "    </tr>\n",
              "    <tr>\n",
              "      <th>min</th>\n",
              "      <td>0.000000</td>\n",
              "      <td>19.000000</td>\n",
              "      <td>1.000000</td>\n",
              "      <td>13.346801</td>\n",
              "      <td>0.000000</td>\n",
              "      <td>0.000000</td>\n",
              "      <td>0.000000</td>\n",
              "      <td>0.000000</td>\n",
              "      <td>0.000000</td>\n",
              "      <td>0.000000</td>\n",
              "      <td>0.000000</td>\n",
              "      <td>0.000000</td>\n",
              "      <td>0.000000</td>\n",
              "      <td>36.000000</td>\n",
              "      <td>75.000000</td>\n",
              "      <td>24.736842</td>\n",
              "      <td>11.137931</td>\n",
              "      <td>33.250000</td>\n",
              "      <td>75.916667</td>\n",
              "      <td>0.000000</td>\n",
              "      <td>20.311111</td>\n",
              "      <td>2.030000</td>\n",
              "      <td>18.125000</td>\n",
              "      <td>27.825000</td>\n",
              "      <td>62.600000</td>\n",
              "      <td>12.088889</td>\n",
              "      <td>0.100000</td>\n",
              "      <td>9.571429</td>\n",
              "      <td>5.000000</td>\n",
              "      <td>0.100000</td>\n",
              "      <td>0.966667</td>\n",
              "      <td>10.100000</td>\n",
              "      <td>0.871429</td>\n",
              "      <td>50.000000</td>\n",
              "      <td>8.000000</td>\n",
              "      <td>0.266667</td>\n",
              "      <td>5.357143</td>\n",
              "      <td>66.666667</td>\n",
              "      <td>3.000000</td>\n",
              "      <td>114.666667</td>\n",
              "      <td>6.700000</td>\n",
              "      <td>80.266667</td>\n",
              "      <td>6.636364</td>\n",
              "      <td>1.400000</td>\n",
              "      <td>7.090000</td>\n",
              "      <td>12.857143</td>\n",
              "      <td>0.500000</td>\n",
              "      <td>18.750000</td>\n",
              "      <td>15.000000</td>\n",
              "    </tr>\n",
              "    <tr>\n",
              "      <th>25%</th>\n",
              "      <td>0.000000</td>\n",
              "      <td>65.000000</td>\n",
              "      <td>1.000000</td>\n",
              "      <td>24.326461</td>\n",
              "      <td>0.000000</td>\n",
              "      <td>0.000000</td>\n",
              "      <td>0.000000</td>\n",
              "      <td>0.000000</td>\n",
              "      <td>0.000000</td>\n",
              "      <td>0.000000</td>\n",
              "      <td>0.000000</td>\n",
              "      <td>0.000000</td>\n",
              "      <td>0.000000</td>\n",
              "      <td>72.371250</td>\n",
              "      <td>105.391304</td>\n",
              "      <td>52.173913</td>\n",
              "      <td>17.925694</td>\n",
              "      <td>36.286045</td>\n",
              "      <td>95.000000</td>\n",
              "      <td>980.000000</td>\n",
              "      <td>28.160000</td>\n",
              "      <td>3.120000</td>\n",
              "      <td>28.250000</td>\n",
              "      <td>32.011111</td>\n",
              "      <td>86.250000</td>\n",
              "      <td>14.460000</td>\n",
              "      <td>7.440000</td>\n",
              "      <td>168.909091</td>\n",
              "      <td>74.775000</td>\n",
              "      <td>0.200000</td>\n",
              "      <td>6.650000</td>\n",
              "      <td>13.160000</td>\n",
              "      <td>1.140000</td>\n",
              "      <td>2251.000000</td>\n",
              "      <td>46.000000</td>\n",
              "      <td>0.940000</td>\n",
              "      <td>20.833333</td>\n",
              "      <td>113.937500</td>\n",
              "      <td>3.900000</td>\n",
              "      <td>136.666667</td>\n",
              "      <td>8.148864</td>\n",
              "      <td>99.000000</td>\n",
              "      <td>12.250000</td>\n",
              "      <td>1.955556</td>\n",
              "      <td>7.334615</td>\n",
              "      <td>23.454545</td>\n",
              "      <td>1.200000</td>\n",
              "      <td>37.038462</td>\n",
              "      <td>40.000000</td>\n",
              "    </tr>\n",
              "    <tr>\n",
              "      <th>50%</th>\n",
              "      <td>0.000000</td>\n",
              "      <td>77.000000</td>\n",
              "      <td>2.000000</td>\n",
              "      <td>28.312474</td>\n",
              "      <td>1.000000</td>\n",
              "      <td>0.000000</td>\n",
              "      <td>0.000000</td>\n",
              "      <td>0.000000</td>\n",
              "      <td>0.000000</td>\n",
              "      <td>0.000000</td>\n",
              "      <td>0.000000</td>\n",
              "      <td>0.000000</td>\n",
              "      <td>0.000000</td>\n",
              "      <td>83.610799</td>\n",
              "      <td>116.128205</td>\n",
              "      <td>58.461538</td>\n",
              "      <td>20.372308</td>\n",
              "      <td>36.650794</td>\n",
              "      <td>96.452273</td>\n",
              "      <td>1675.000000</td>\n",
              "      <td>30.800000</td>\n",
              "      <td>3.490000</td>\n",
              "      <td>29.750000</td>\n",
              "      <td>32.985714</td>\n",
              "      <td>90.000000</td>\n",
              "      <td>15.506250</td>\n",
              "      <td>9.680000</td>\n",
              "      <td>222.666667</td>\n",
              "      <td>82.466667</td>\n",
              "      <td>0.300000</td>\n",
              "      <td>10.475000</td>\n",
              "      <td>14.633333</td>\n",
              "      <td>1.300000</td>\n",
              "      <td>5840.000000</td>\n",
              "      <td>89.250000</td>\n",
              "      <td>1.287500</td>\n",
              "      <td>30.666667</td>\n",
              "      <td>136.400000</td>\n",
              "      <td>4.115385</td>\n",
              "      <td>139.250000</td>\n",
              "      <td>8.500000</td>\n",
              "      <td>102.500000</td>\n",
              "      <td>13.666667</td>\n",
              "      <td>2.092308</td>\n",
              "      <td>7.380000</td>\n",
              "      <td>26.500000</td>\n",
              "      <td>1.600000</td>\n",
              "      <td>43.000000</td>\n",
              "      <td>55.000000</td>\n",
              "    </tr>\n",
              "    <tr>\n",
              "      <th>75%</th>\n",
              "      <td>0.000000</td>\n",
              "      <td>85.000000</td>\n",
              "      <td>2.000000</td>\n",
              "      <td>33.633509</td>\n",
              "      <td>1.000000</td>\n",
              "      <td>1.000000</td>\n",
              "      <td>0.000000</td>\n",
              "      <td>1.000000</td>\n",
              "      <td>1.000000</td>\n",
              "      <td>0.000000</td>\n",
              "      <td>1.000000</td>\n",
              "      <td>1.000000</td>\n",
              "      <td>0.000000</td>\n",
              "      <td>95.907143</td>\n",
              "      <td>128.625000</td>\n",
              "      <td>65.464286</td>\n",
              "      <td>23.391200</td>\n",
              "      <td>37.021991</td>\n",
              "      <td>97.917500</td>\n",
              "      <td>2500.000000</td>\n",
              "      <td>35.012500</td>\n",
              "      <td>3.900000</td>\n",
              "      <td>31.240000</td>\n",
              "      <td>33.825000</td>\n",
              "      <td>93.857143</td>\n",
              "      <td>16.937500</td>\n",
              "      <td>12.740000</td>\n",
              "      <td>304.250000</td>\n",
              "      <td>87.450000</td>\n",
              "      <td>0.500000</td>\n",
              "      <td>15.462500</td>\n",
              "      <td>18.800000</td>\n",
              "      <td>1.736364</td>\n",
              "      <td>14968.000000</td>\n",
              "      <td>185.187500</td>\n",
              "      <td>1.900000</td>\n",
              "      <td>45.250000</td>\n",
              "      <td>169.500000</td>\n",
              "      <td>4.400000</td>\n",
              "      <td>141.600000</td>\n",
              "      <td>8.869063</td>\n",
              "      <td>105.571429</td>\n",
              "      <td>15.416667</td>\n",
              "      <td>2.241667</td>\n",
              "      <td>7.430000</td>\n",
              "      <td>29.875000</td>\n",
              "      <td>2.200000</td>\n",
              "      <td>50.585784</td>\n",
              "      <td>55.000000</td>\n",
              "    </tr>\n",
              "    <tr>\n",
              "      <th>max</th>\n",
              "      <td>1.000000</td>\n",
              "      <td>99.000000</td>\n",
              "      <td>2.000000</td>\n",
              "      <td>104.970366</td>\n",
              "      <td>1.000000</td>\n",
              "      <td>1.000000</td>\n",
              "      <td>1.000000</td>\n",
              "      <td>1.000000</td>\n",
              "      <td>1.000000</td>\n",
              "      <td>1.000000</td>\n",
              "      <td>1.000000</td>\n",
              "      <td>1.000000</td>\n",
              "      <td>1.000000</td>\n",
              "      <td>135.708333</td>\n",
              "      <td>203.000000</td>\n",
              "      <td>107.000000</td>\n",
              "      <td>40.900000</td>\n",
              "      <td>39.132478</td>\n",
              "      <td>100.000000</td>\n",
              "      <td>8820.000000</td>\n",
              "      <td>55.425000</td>\n",
              "      <td>6.575000</td>\n",
              "      <td>40.314286</td>\n",
              "      <td>37.011111</td>\n",
              "      <td>116.714286</td>\n",
              "      <td>29.050000</td>\n",
              "      <td>64.750000</td>\n",
              "      <td>1028.200000</td>\n",
              "      <td>98.000000</td>\n",
              "      <td>8.800000</td>\n",
              "      <td>83.500000</td>\n",
              "      <td>71.271429</td>\n",
              "      <td>8.342857</td>\n",
              "      <td>118928.000000</td>\n",
              "      <td>42987.500000</td>\n",
              "      <td>15.527273</td>\n",
              "      <td>161.750000</td>\n",
              "      <td>414.100000</td>\n",
              "      <td>6.566667</td>\n",
              "      <td>154.736842</td>\n",
              "      <td>10.950000</td>\n",
              "      <td>122.526316</td>\n",
              "      <td>25.500000</td>\n",
              "      <td>4.072727</td>\n",
              "      <td>7.580000</td>\n",
              "      <td>47.666667</td>\n",
              "      <td>8.333333</td>\n",
              "      <td>98.600000</td>\n",
              "      <td>75.000000</td>\n",
              "    </tr>\n",
              "  </tbody>\n",
              "</table>\n",
              "</div>\n",
              "      <button class=\"colab-df-convert\" onclick=\"convertToInteractive('df-2861bce0-7920-401c-bfca-a27db0f89201')\"\n",
              "              title=\"Convert this dataframe to an interactive table.\"\n",
              "              style=\"display:none;\">\n",
              "        \n",
              "  <svg xmlns=\"http://www.w3.org/2000/svg\" height=\"24px\"viewBox=\"0 0 24 24\"\n",
              "       width=\"24px\">\n",
              "    <path d=\"M0 0h24v24H0V0z\" fill=\"none\"/>\n",
              "    <path d=\"M18.56 5.44l.94 2.06.94-2.06 2.06-.94-2.06-.94-.94-2.06-.94 2.06-2.06.94zm-11 1L8.5 8.5l.94-2.06 2.06-.94-2.06-.94L8.5 2.5l-.94 2.06-2.06.94zm10 10l.94 2.06.94-2.06 2.06-.94-2.06-.94-.94-2.06-.94 2.06-2.06.94z\"/><path d=\"M17.41 7.96l-1.37-1.37c-.4-.4-.92-.59-1.43-.59-.52 0-1.04.2-1.43.59L10.3 9.45l-7.72 7.72c-.78.78-.78 2.05 0 2.83L4 21.41c.39.39.9.59 1.41.59.51 0 1.02-.2 1.41-.59l7.78-7.78 2.81-2.81c.8-.78.8-2.07 0-2.86zM5.41 20L4 18.59l7.72-7.72 1.47 1.35L5.41 20z\"/>\n",
              "  </svg>\n",
              "      </button>\n",
              "      \n",
              "  <style>\n",
              "    .colab-df-container {\n",
              "      display:flex;\n",
              "      flex-wrap:wrap;\n",
              "      gap: 12px;\n",
              "    }\n",
              "\n",
              "    .colab-df-convert {\n",
              "      background-color: #E8F0FE;\n",
              "      border: none;\n",
              "      border-radius: 50%;\n",
              "      cursor: pointer;\n",
              "      display: none;\n",
              "      fill: #1967D2;\n",
              "      height: 32px;\n",
              "      padding: 0 0 0 0;\n",
              "      width: 32px;\n",
              "    }\n",
              "\n",
              "    .colab-df-convert:hover {\n",
              "      background-color: #E2EBFA;\n",
              "      box-shadow: 0px 1px 2px rgba(60, 64, 67, 0.3), 0px 1px 3px 1px rgba(60, 64, 67, 0.15);\n",
              "      fill: #174EA6;\n",
              "    }\n",
              "\n",
              "    [theme=dark] .colab-df-convert {\n",
              "      background-color: #3B4455;\n",
              "      fill: #D2E3FC;\n",
              "    }\n",
              "\n",
              "    [theme=dark] .colab-df-convert:hover {\n",
              "      background-color: #434B5C;\n",
              "      box-shadow: 0px 1px 3px 1px rgba(0, 0, 0, 0.15);\n",
              "      filter: drop-shadow(0px 1px 2px rgba(0, 0, 0, 0.3));\n",
              "      fill: #FFFFFF;\n",
              "    }\n",
              "  </style>\n",
              "\n",
              "      <script>\n",
              "        const buttonEl =\n",
              "          document.querySelector('#df-2861bce0-7920-401c-bfca-a27db0f89201 button.colab-df-convert');\n",
              "        buttonEl.style.display =\n",
              "          google.colab.kernel.accessAllowed ? 'block' : 'none';\n",
              "\n",
              "        async function convertToInteractive(key) {\n",
              "          const element = document.querySelector('#df-2861bce0-7920-401c-bfca-a27db0f89201');\n",
              "          const dataTable =\n",
              "            await google.colab.kernel.invokeFunction('convertToInteractive',\n",
              "                                                     [key], {});\n",
              "          if (!dataTable) return;\n",
              "\n",
              "          const docLinkHtml = 'Like what you see? Visit the ' +\n",
              "            '<a target=\"_blank\" href=https://colab.research.google.com/notebooks/data_table.ipynb>data table notebook</a>'\n",
              "            + ' to learn more about interactive tables.';\n",
              "          element.innerHTML = '';\n",
              "          dataTable['output_type'] = 'display_data';\n",
              "          await google.colab.output.renderOutput(dataTable, element);\n",
              "          const docLink = document.createElement('div');\n",
              "          docLink.innerHTML = docLinkHtml;\n",
              "          element.appendChild(docLink);\n",
              "        }\n",
              "      </script>\n",
              "    </div>\n",
              "  </div>\n",
              "  "
            ],
            "text/plain": [
              "           outcome          age  ...        PCO2           EF\n",
              "count  1177.000000  1177.000000  ...  883.000000  1177.000000\n",
              "mean      0.135089    74.055225  ...   45.535382    48.715378\n",
              "std       0.341964    13.434061  ...   12.711271    12.868436\n",
              "min       0.000000    19.000000  ...   18.750000    15.000000\n",
              "25%       0.000000    65.000000  ...   37.038462    40.000000\n",
              "50%       0.000000    77.000000  ...   43.000000    55.000000\n",
              "75%       0.000000    85.000000  ...   50.585784    55.000000\n",
              "max       1.000000    99.000000  ...   98.600000    75.000000\n",
              "\n",
              "[8 rows x 49 columns]"
            ]
          },
          "metadata": {},
          "execution_count": 7
        }
      ]
    },
    {
      "cell_type": "markdown",
      "source": [
        "**Handle Missing Data**"
      ],
      "metadata": {
        "id": "v1cIzuWBoWrn"
      }
    },
    {
      "cell_type": "code",
      "source": [
        "print(data.isna().sum())"
      ],
      "metadata": {
        "colab": {
          "base_uri": "https://localhost:8080/"
        },
        "id": "ty-gYi-PoTta",
        "outputId": "f1d200dc-db89-4df3-bbe4-926b43efc096"
      },
      "execution_count": 8,
      "outputs": [
        {
          "output_type": "stream",
          "name": "stdout",
          "text": [
            "outcome                       0\n",
            "age                           0\n",
            "gendera                       0\n",
            "BMI                         215\n",
            "hypertensive                  0\n",
            "atrialfibrillation            0\n",
            "CHD with no MI                0\n",
            "diabetes                      0\n",
            "deficiencyanemias             0\n",
            "depression                    0\n",
            "Hyperlipemia                  0\n",
            "Renal failure                 0\n",
            "COPD                          0\n",
            "heart rate                   13\n",
            "Systolic blood pressure      16\n",
            "Diastolic blood pressure     16\n",
            "Respiratory rate             13\n",
            "temperature                  19\n",
            "SP O2                        13\n",
            "Urine output                 36\n",
            "hematocrit                    0\n",
            "RBC                           0\n",
            "MCH                           0\n",
            "MCHC                          0\n",
            "MCV                           0\n",
            "RDW                           0\n",
            "Leucocyte                     0\n",
            "Platelets                     0\n",
            "Neutrophils                 144\n",
            "Basophils                   259\n",
            "Lymphocyte                  145\n",
            "PT                           20\n",
            "INR                          20\n",
            "NT-proBNP                     0\n",
            "Creatine kinase             165\n",
            "Creatinine                    0\n",
            "Urea nitrogen                 0\n",
            "glucose                      18\n",
            "Blood potassium               0\n",
            "Blood sodium                  0\n",
            "Blood calcium                 1\n",
            "Chloride                      0\n",
            "Anion gap                     0\n",
            "Magnesium ion                 0\n",
            "PH                          292\n",
            "Bicarbonate                   0\n",
            "Lactic acid                 229\n",
            "PCO2                        294\n",
            "EF                            0\n",
            "dtype: int64\n"
          ]
        }
      ]
    },
    {
      "cell_type": "code",
      "source": [
        "data['BMI'].fillna(data['BMI'].mean(), inplace = True)\n",
        "data['heart rate'].fillna(data['heart rate'].mean(), inplace = True)\n",
        "data['Systolic blood pressure'].fillna(data['Systolic blood pressure'].mean(), inplace = True)\n",
        "data['Diastolic blood pressure'].fillna(data['Diastolic blood pressure'].mean(), inplace = True)\n",
        "data['Respiratory rate'].fillna(data['Respiratory rate'].mean(), inplace = True)\n",
        "data['SP O2'].fillna(data['SP O2'].mean(), inplace = True)\n",
        "data['Urine output'].fillna(data['Urine output'].median(), inplace = True)\n",
        "data['Neutrophils'].fillna(data['Neutrophils'].mean(), inplace = True)\n",
        "data['Basophils'].fillna(data['Basophils'].median(), inplace = True)\n",
        "data['Lymphocyte'].fillna(data['Lymphocyte'].median(), inplace = True)\n",
        "data['PT'].fillna(data['PT'].mean(), inplace = True)\n",
        "data['INR'].fillna(data['INR'].median(), inplace = True)\n",
        "data['Creatine kinase'].fillna(data['Creatine kinase'].median(), inplace = True)\n",
        "data['glucose'].fillna(data['glucose'].mean(), inplace = True)\n",
        "data['Blood calcium'].fillna(data['Blood calcium'].mean(), inplace = True)\n",
        "data['PH'].fillna(data['PH'].mean(), inplace = True)\n",
        "data['Lactic acid'].fillna(data['Lactic acid'].median(), inplace = True)\n",
        "data['PCO2'].fillna(data['PCO2'].mean(), inplace = True)\n",
        "data['temperature'].fillna(data['temperature'].mean(), inplace = True)\n",
        "\n",
        "\n",
        "print(data.isnull().sum())"
      ],
      "metadata": {
        "colab": {
          "base_uri": "https://localhost:8080/"
        },
        "id": "56AXECAOorOJ",
        "outputId": "f16052c2-a4ff-4ded-a3c6-1fbde2450218"
      },
      "execution_count": 9,
      "outputs": [
        {
          "output_type": "stream",
          "name": "stdout",
          "text": [
            "outcome                     0\n",
            "age                         0\n",
            "gendera                     0\n",
            "BMI                         0\n",
            "hypertensive                0\n",
            "atrialfibrillation          0\n",
            "CHD with no MI              0\n",
            "diabetes                    0\n",
            "deficiencyanemias           0\n",
            "depression                  0\n",
            "Hyperlipemia                0\n",
            "Renal failure               0\n",
            "COPD                        0\n",
            "heart rate                  0\n",
            "Systolic blood pressure     0\n",
            "Diastolic blood pressure    0\n",
            "Respiratory rate            0\n",
            "temperature                 0\n",
            "SP O2                       0\n",
            "Urine output                0\n",
            "hematocrit                  0\n",
            "RBC                         0\n",
            "MCH                         0\n",
            "MCHC                        0\n",
            "MCV                         0\n",
            "RDW                         0\n",
            "Leucocyte                   0\n",
            "Platelets                   0\n",
            "Neutrophils                 0\n",
            "Basophils                   0\n",
            "Lymphocyte                  0\n",
            "PT                          0\n",
            "INR                         0\n",
            "NT-proBNP                   0\n",
            "Creatine kinase             0\n",
            "Creatinine                  0\n",
            "Urea nitrogen               0\n",
            "glucose                     0\n",
            "Blood potassium             0\n",
            "Blood sodium                0\n",
            "Blood calcium               0\n",
            "Chloride                    0\n",
            "Anion gap                   0\n",
            "Magnesium ion               0\n",
            "PH                          0\n",
            "Bicarbonate                 0\n",
            "Lactic acid                 0\n",
            "PCO2                        0\n",
            "EF                          0\n",
            "dtype: int64\n"
          ]
        }
      ]
    },
    {
      "cell_type": "markdown",
      "source": [
        "**Train&Split**"
      ],
      "metadata": {
        "id": "GLWLUAmXoQn-"
      }
    },
    {
      "cell_type": "code",
      "source": [
        "X = data.drop(\"outcome\", axis = 1)\n",
        "y = data.outcome"
      ],
      "metadata": {
        "id": "qAyBP89YmDbd"
      },
      "execution_count": 10,
      "outputs": []
    },
    {
      "cell_type": "code",
      "source": [
        "test_size = 0.3\n",
        "X_train, X_test, Y_train, Y_test = train_test_split(X, y, test_size = test_size,random_state=7)"
      ],
      "metadata": {
        "id": "eaa_6Zcsn7GR"
      },
      "execution_count": 11,
      "outputs": []
    },
    {
      "cell_type": "code",
      "source": [
        "print(X_train.isnull().sum())"
      ],
      "metadata": {
        "colab": {
          "base_uri": "https://localhost:8080/"
        },
        "id": "3WXoWT3SQmws",
        "outputId": "f7bc3cea-df7c-4911-878a-362a8c27b2f9"
      },
      "execution_count": 12,
      "outputs": [
        {
          "output_type": "stream",
          "name": "stdout",
          "text": [
            "age                         0\n",
            "gendera                     0\n",
            "BMI                         0\n",
            "hypertensive                0\n",
            "atrialfibrillation          0\n",
            "CHD with no MI              0\n",
            "diabetes                    0\n",
            "deficiencyanemias           0\n",
            "depression                  0\n",
            "Hyperlipemia                0\n",
            "Renal failure               0\n",
            "COPD                        0\n",
            "heart rate                  0\n",
            "Systolic blood pressure     0\n",
            "Diastolic blood pressure    0\n",
            "Respiratory rate            0\n",
            "temperature                 0\n",
            "SP O2                       0\n",
            "Urine output                0\n",
            "hematocrit                  0\n",
            "RBC                         0\n",
            "MCH                         0\n",
            "MCHC                        0\n",
            "MCV                         0\n",
            "RDW                         0\n",
            "Leucocyte                   0\n",
            "Platelets                   0\n",
            "Neutrophils                 0\n",
            "Basophils                   0\n",
            "Lymphocyte                  0\n",
            "PT                          0\n",
            "INR                         0\n",
            "NT-proBNP                   0\n",
            "Creatine kinase             0\n",
            "Creatinine                  0\n",
            "Urea nitrogen               0\n",
            "glucose                     0\n",
            "Blood potassium             0\n",
            "Blood sodium                0\n",
            "Blood calcium               0\n",
            "Chloride                    0\n",
            "Anion gap                   0\n",
            "Magnesium ion               0\n",
            "PH                          0\n",
            "Bicarbonate                 0\n",
            "Lactic acid                 0\n",
            "PCO2                        0\n",
            "EF                          0\n",
            "dtype: int64\n"
          ]
        }
      ]
    },
    {
      "cell_type": "code",
      "source": [
        "X_train['BMI'].fillna(X_train['BMI'].mean(), inplace = True)\n",
        "X_train['heart rate'].fillna(X_train['heart rate'].mean(), inplace = True)\n",
        "X_train['Systolic blood pressure'].fillna(X_train['Systolic blood pressure'].mean(), inplace = True)\n",
        "X_train['Diastolic blood pressure'].fillna(X_train['Diastolic blood pressure'].mean(), inplace = True)\n",
        "X_train['Respiratory rate'].fillna(X_train['Respiratory rate'].mean(), inplace = True)\n",
        "X_train['SP O2'].fillna(X_train['SP O2'].mean(), inplace = True)\n",
        "X_train['Urine output'].fillna(X_train['Urine output'].median(), inplace = True)\n",
        "X_train['Neutrophils'].fillna(X_train['Neutrophils'].mean(), inplace = True)\n",
        "X_train['Basophils'].fillna(X_train['Basophils'].median(), inplace = True)\n",
        "X_train['Lymphocyte'].fillna(X_train['Lymphocyte'].median(), inplace = True)\n",
        "X_train['PT'].fillna(X_train['PT'].mean(), inplace = True)\n",
        "X_train['INR'].fillna(X_train['INR'].median(), inplace = True)\n",
        "X_train['Creatine kinase'].fillna(X_train['Creatine kinase'].median(), inplace = True)\n",
        "X_train['glucose'].fillna(X_train['glucose'].mean(), inplace = True)\n",
        "X_train['Blood calcium'].fillna(X_train['Blood calcium'].mean(), inplace = True)\n",
        "X_train['PH'].fillna(X_train['PH'].mean(), inplace = True)\n",
        "X_train['Lactic acid'].fillna(X_train['Lactic acid'].median(), inplace = True)\n",
        "X_train['PCO2'].fillna(X_train['PCO2'].mean(), inplace = True)\n",
        "X_train['temperature'].fillna(X_train['temperature'].mean(), inplace = True)"
      ],
      "metadata": {
        "id": "_9e-zfG3Q86V"
      },
      "execution_count": 13,
      "outputs": []
    },
    {
      "cell_type": "code",
      "source": [
        "np.isnan(X_train)"
      ],
      "metadata": {
        "colab": {
          "base_uri": "https://localhost:8080/",
          "height": 540
        },
        "id": "n28d4ct6Q-K1",
        "outputId": "8087a621-196b-4539-ef6c-754e77be495e"
      },
      "execution_count": 14,
      "outputs": [
        {
          "output_type": "execute_result",
          "data": {
            "text/html": [
              "\n",
              "  <div id=\"df-f573b706-6399-402e-80dc-55a4acba0ccb\">\n",
              "    <div class=\"colab-df-container\">\n",
              "      <div>\n",
              "<style scoped>\n",
              "    .dataframe tbody tr th:only-of-type {\n",
              "        vertical-align: middle;\n",
              "    }\n",
              "\n",
              "    .dataframe tbody tr th {\n",
              "        vertical-align: top;\n",
              "    }\n",
              "\n",
              "    .dataframe thead th {\n",
              "        text-align: right;\n",
              "    }\n",
              "</style>\n",
              "<table border=\"1\" class=\"dataframe\">\n",
              "  <thead>\n",
              "    <tr style=\"text-align: right;\">\n",
              "      <th></th>\n",
              "      <th>age</th>\n",
              "      <th>gendera</th>\n",
              "      <th>BMI</th>\n",
              "      <th>hypertensive</th>\n",
              "      <th>atrialfibrillation</th>\n",
              "      <th>CHD with no MI</th>\n",
              "      <th>diabetes</th>\n",
              "      <th>deficiencyanemias</th>\n",
              "      <th>depression</th>\n",
              "      <th>Hyperlipemia</th>\n",
              "      <th>Renal failure</th>\n",
              "      <th>COPD</th>\n",
              "      <th>heart rate</th>\n",
              "      <th>Systolic blood pressure</th>\n",
              "      <th>Diastolic blood pressure</th>\n",
              "      <th>Respiratory rate</th>\n",
              "      <th>temperature</th>\n",
              "      <th>SP O2</th>\n",
              "      <th>Urine output</th>\n",
              "      <th>hematocrit</th>\n",
              "      <th>RBC</th>\n",
              "      <th>MCH</th>\n",
              "      <th>MCHC</th>\n",
              "      <th>MCV</th>\n",
              "      <th>RDW</th>\n",
              "      <th>Leucocyte</th>\n",
              "      <th>Platelets</th>\n",
              "      <th>Neutrophils</th>\n",
              "      <th>Basophils</th>\n",
              "      <th>Lymphocyte</th>\n",
              "      <th>PT</th>\n",
              "      <th>INR</th>\n",
              "      <th>NT-proBNP</th>\n",
              "      <th>Creatine kinase</th>\n",
              "      <th>Creatinine</th>\n",
              "      <th>Urea nitrogen</th>\n",
              "      <th>glucose</th>\n",
              "      <th>Blood potassium</th>\n",
              "      <th>Blood sodium</th>\n",
              "      <th>Blood calcium</th>\n",
              "      <th>Chloride</th>\n",
              "      <th>Anion gap</th>\n",
              "      <th>Magnesium ion</th>\n",
              "      <th>PH</th>\n",
              "      <th>Bicarbonate</th>\n",
              "      <th>Lactic acid</th>\n",
              "      <th>PCO2</th>\n",
              "      <th>EF</th>\n",
              "    </tr>\n",
              "  </thead>\n",
              "  <tbody>\n",
              "    <tr>\n",
              "      <th>408</th>\n",
              "      <td>False</td>\n",
              "      <td>False</td>\n",
              "      <td>False</td>\n",
              "      <td>False</td>\n",
              "      <td>False</td>\n",
              "      <td>False</td>\n",
              "      <td>False</td>\n",
              "      <td>False</td>\n",
              "      <td>False</td>\n",
              "      <td>False</td>\n",
              "      <td>False</td>\n",
              "      <td>False</td>\n",
              "      <td>False</td>\n",
              "      <td>False</td>\n",
              "      <td>False</td>\n",
              "      <td>False</td>\n",
              "      <td>False</td>\n",
              "      <td>False</td>\n",
              "      <td>False</td>\n",
              "      <td>False</td>\n",
              "      <td>False</td>\n",
              "      <td>False</td>\n",
              "      <td>False</td>\n",
              "      <td>False</td>\n",
              "      <td>False</td>\n",
              "      <td>False</td>\n",
              "      <td>False</td>\n",
              "      <td>False</td>\n",
              "      <td>False</td>\n",
              "      <td>False</td>\n",
              "      <td>False</td>\n",
              "      <td>False</td>\n",
              "      <td>False</td>\n",
              "      <td>False</td>\n",
              "      <td>False</td>\n",
              "      <td>False</td>\n",
              "      <td>False</td>\n",
              "      <td>False</td>\n",
              "      <td>False</td>\n",
              "      <td>False</td>\n",
              "      <td>False</td>\n",
              "      <td>False</td>\n",
              "      <td>False</td>\n",
              "      <td>False</td>\n",
              "      <td>False</td>\n",
              "      <td>False</td>\n",
              "      <td>False</td>\n",
              "      <td>False</td>\n",
              "    </tr>\n",
              "    <tr>\n",
              "      <th>725</th>\n",
              "      <td>False</td>\n",
              "      <td>False</td>\n",
              "      <td>False</td>\n",
              "      <td>False</td>\n",
              "      <td>False</td>\n",
              "      <td>False</td>\n",
              "      <td>False</td>\n",
              "      <td>False</td>\n",
              "      <td>False</td>\n",
              "      <td>False</td>\n",
              "      <td>False</td>\n",
              "      <td>False</td>\n",
              "      <td>False</td>\n",
              "      <td>False</td>\n",
              "      <td>False</td>\n",
              "      <td>False</td>\n",
              "      <td>False</td>\n",
              "      <td>False</td>\n",
              "      <td>False</td>\n",
              "      <td>False</td>\n",
              "      <td>False</td>\n",
              "      <td>False</td>\n",
              "      <td>False</td>\n",
              "      <td>False</td>\n",
              "      <td>False</td>\n",
              "      <td>False</td>\n",
              "      <td>False</td>\n",
              "      <td>False</td>\n",
              "      <td>False</td>\n",
              "      <td>False</td>\n",
              "      <td>False</td>\n",
              "      <td>False</td>\n",
              "      <td>False</td>\n",
              "      <td>False</td>\n",
              "      <td>False</td>\n",
              "      <td>False</td>\n",
              "      <td>False</td>\n",
              "      <td>False</td>\n",
              "      <td>False</td>\n",
              "      <td>False</td>\n",
              "      <td>False</td>\n",
              "      <td>False</td>\n",
              "      <td>False</td>\n",
              "      <td>False</td>\n",
              "      <td>False</td>\n",
              "      <td>False</td>\n",
              "      <td>False</td>\n",
              "      <td>False</td>\n",
              "    </tr>\n",
              "    <tr>\n",
              "      <th>148</th>\n",
              "      <td>False</td>\n",
              "      <td>False</td>\n",
              "      <td>False</td>\n",
              "      <td>False</td>\n",
              "      <td>False</td>\n",
              "      <td>False</td>\n",
              "      <td>False</td>\n",
              "      <td>False</td>\n",
              "      <td>False</td>\n",
              "      <td>False</td>\n",
              "      <td>False</td>\n",
              "      <td>False</td>\n",
              "      <td>False</td>\n",
              "      <td>False</td>\n",
              "      <td>False</td>\n",
              "      <td>False</td>\n",
              "      <td>False</td>\n",
              "      <td>False</td>\n",
              "      <td>False</td>\n",
              "      <td>False</td>\n",
              "      <td>False</td>\n",
              "      <td>False</td>\n",
              "      <td>False</td>\n",
              "      <td>False</td>\n",
              "      <td>False</td>\n",
              "      <td>False</td>\n",
              "      <td>False</td>\n",
              "      <td>False</td>\n",
              "      <td>False</td>\n",
              "      <td>False</td>\n",
              "      <td>False</td>\n",
              "      <td>False</td>\n",
              "      <td>False</td>\n",
              "      <td>False</td>\n",
              "      <td>False</td>\n",
              "      <td>False</td>\n",
              "      <td>False</td>\n",
              "      <td>False</td>\n",
              "      <td>False</td>\n",
              "      <td>False</td>\n",
              "      <td>False</td>\n",
              "      <td>False</td>\n",
              "      <td>False</td>\n",
              "      <td>False</td>\n",
              "      <td>False</td>\n",
              "      <td>False</td>\n",
              "      <td>False</td>\n",
              "      <td>False</td>\n",
              "    </tr>\n",
              "    <tr>\n",
              "      <th>412</th>\n",
              "      <td>False</td>\n",
              "      <td>False</td>\n",
              "      <td>False</td>\n",
              "      <td>False</td>\n",
              "      <td>False</td>\n",
              "      <td>False</td>\n",
              "      <td>False</td>\n",
              "      <td>False</td>\n",
              "      <td>False</td>\n",
              "      <td>False</td>\n",
              "      <td>False</td>\n",
              "      <td>False</td>\n",
              "      <td>False</td>\n",
              "      <td>False</td>\n",
              "      <td>False</td>\n",
              "      <td>False</td>\n",
              "      <td>False</td>\n",
              "      <td>False</td>\n",
              "      <td>False</td>\n",
              "      <td>False</td>\n",
              "      <td>False</td>\n",
              "      <td>False</td>\n",
              "      <td>False</td>\n",
              "      <td>False</td>\n",
              "      <td>False</td>\n",
              "      <td>False</td>\n",
              "      <td>False</td>\n",
              "      <td>False</td>\n",
              "      <td>False</td>\n",
              "      <td>False</td>\n",
              "      <td>False</td>\n",
              "      <td>False</td>\n",
              "      <td>False</td>\n",
              "      <td>False</td>\n",
              "      <td>False</td>\n",
              "      <td>False</td>\n",
              "      <td>False</td>\n",
              "      <td>False</td>\n",
              "      <td>False</td>\n",
              "      <td>False</td>\n",
              "      <td>False</td>\n",
              "      <td>False</td>\n",
              "      <td>False</td>\n",
              "      <td>False</td>\n",
              "      <td>False</td>\n",
              "      <td>False</td>\n",
              "      <td>False</td>\n",
              "      <td>False</td>\n",
              "    </tr>\n",
              "    <tr>\n",
              "      <th>886</th>\n",
              "      <td>False</td>\n",
              "      <td>False</td>\n",
              "      <td>False</td>\n",
              "      <td>False</td>\n",
              "      <td>False</td>\n",
              "      <td>False</td>\n",
              "      <td>False</td>\n",
              "      <td>False</td>\n",
              "      <td>False</td>\n",
              "      <td>False</td>\n",
              "      <td>False</td>\n",
              "      <td>False</td>\n",
              "      <td>False</td>\n",
              "      <td>False</td>\n",
              "      <td>False</td>\n",
              "      <td>False</td>\n",
              "      <td>False</td>\n",
              "      <td>False</td>\n",
              "      <td>False</td>\n",
              "      <td>False</td>\n",
              "      <td>False</td>\n",
              "      <td>False</td>\n",
              "      <td>False</td>\n",
              "      <td>False</td>\n",
              "      <td>False</td>\n",
              "      <td>False</td>\n",
              "      <td>False</td>\n",
              "      <td>False</td>\n",
              "      <td>False</td>\n",
              "      <td>False</td>\n",
              "      <td>False</td>\n",
              "      <td>False</td>\n",
              "      <td>False</td>\n",
              "      <td>False</td>\n",
              "      <td>False</td>\n",
              "      <td>False</td>\n",
              "      <td>False</td>\n",
              "      <td>False</td>\n",
              "      <td>False</td>\n",
              "      <td>False</td>\n",
              "      <td>False</td>\n",
              "      <td>False</td>\n",
              "      <td>False</td>\n",
              "      <td>False</td>\n",
              "      <td>False</td>\n",
              "      <td>False</td>\n",
              "      <td>False</td>\n",
              "      <td>False</td>\n",
              "    </tr>\n",
              "    <tr>\n",
              "      <th>...</th>\n",
              "      <td>...</td>\n",
              "      <td>...</td>\n",
              "      <td>...</td>\n",
              "      <td>...</td>\n",
              "      <td>...</td>\n",
              "      <td>...</td>\n",
              "      <td>...</td>\n",
              "      <td>...</td>\n",
              "      <td>...</td>\n",
              "      <td>...</td>\n",
              "      <td>...</td>\n",
              "      <td>...</td>\n",
              "      <td>...</td>\n",
              "      <td>...</td>\n",
              "      <td>...</td>\n",
              "      <td>...</td>\n",
              "      <td>...</td>\n",
              "      <td>...</td>\n",
              "      <td>...</td>\n",
              "      <td>...</td>\n",
              "      <td>...</td>\n",
              "      <td>...</td>\n",
              "      <td>...</td>\n",
              "      <td>...</td>\n",
              "      <td>...</td>\n",
              "      <td>...</td>\n",
              "      <td>...</td>\n",
              "      <td>...</td>\n",
              "      <td>...</td>\n",
              "      <td>...</td>\n",
              "      <td>...</td>\n",
              "      <td>...</td>\n",
              "      <td>...</td>\n",
              "      <td>...</td>\n",
              "      <td>...</td>\n",
              "      <td>...</td>\n",
              "      <td>...</td>\n",
              "      <td>...</td>\n",
              "      <td>...</td>\n",
              "      <td>...</td>\n",
              "      <td>...</td>\n",
              "      <td>...</td>\n",
              "      <td>...</td>\n",
              "      <td>...</td>\n",
              "      <td>...</td>\n",
              "      <td>...</td>\n",
              "      <td>...</td>\n",
              "      <td>...</td>\n",
              "    </tr>\n",
              "    <tr>\n",
              "      <th>919</th>\n",
              "      <td>False</td>\n",
              "      <td>False</td>\n",
              "      <td>False</td>\n",
              "      <td>False</td>\n",
              "      <td>False</td>\n",
              "      <td>False</td>\n",
              "      <td>False</td>\n",
              "      <td>False</td>\n",
              "      <td>False</td>\n",
              "      <td>False</td>\n",
              "      <td>False</td>\n",
              "      <td>False</td>\n",
              "      <td>False</td>\n",
              "      <td>False</td>\n",
              "      <td>False</td>\n",
              "      <td>False</td>\n",
              "      <td>False</td>\n",
              "      <td>False</td>\n",
              "      <td>False</td>\n",
              "      <td>False</td>\n",
              "      <td>False</td>\n",
              "      <td>False</td>\n",
              "      <td>False</td>\n",
              "      <td>False</td>\n",
              "      <td>False</td>\n",
              "      <td>False</td>\n",
              "      <td>False</td>\n",
              "      <td>False</td>\n",
              "      <td>False</td>\n",
              "      <td>False</td>\n",
              "      <td>False</td>\n",
              "      <td>False</td>\n",
              "      <td>False</td>\n",
              "      <td>False</td>\n",
              "      <td>False</td>\n",
              "      <td>False</td>\n",
              "      <td>False</td>\n",
              "      <td>False</td>\n",
              "      <td>False</td>\n",
              "      <td>False</td>\n",
              "      <td>False</td>\n",
              "      <td>False</td>\n",
              "      <td>False</td>\n",
              "      <td>False</td>\n",
              "      <td>False</td>\n",
              "      <td>False</td>\n",
              "      <td>False</td>\n",
              "      <td>False</td>\n",
              "    </tr>\n",
              "    <tr>\n",
              "      <th>211</th>\n",
              "      <td>False</td>\n",
              "      <td>False</td>\n",
              "      <td>False</td>\n",
              "      <td>False</td>\n",
              "      <td>False</td>\n",
              "      <td>False</td>\n",
              "      <td>False</td>\n",
              "      <td>False</td>\n",
              "      <td>False</td>\n",
              "      <td>False</td>\n",
              "      <td>False</td>\n",
              "      <td>False</td>\n",
              "      <td>False</td>\n",
              "      <td>False</td>\n",
              "      <td>False</td>\n",
              "      <td>False</td>\n",
              "      <td>False</td>\n",
              "      <td>False</td>\n",
              "      <td>False</td>\n",
              "      <td>False</td>\n",
              "      <td>False</td>\n",
              "      <td>False</td>\n",
              "      <td>False</td>\n",
              "      <td>False</td>\n",
              "      <td>False</td>\n",
              "      <td>False</td>\n",
              "      <td>False</td>\n",
              "      <td>False</td>\n",
              "      <td>False</td>\n",
              "      <td>False</td>\n",
              "      <td>False</td>\n",
              "      <td>False</td>\n",
              "      <td>False</td>\n",
              "      <td>False</td>\n",
              "      <td>False</td>\n",
              "      <td>False</td>\n",
              "      <td>False</td>\n",
              "      <td>False</td>\n",
              "      <td>False</td>\n",
              "      <td>False</td>\n",
              "      <td>False</td>\n",
              "      <td>False</td>\n",
              "      <td>False</td>\n",
              "      <td>False</td>\n",
              "      <td>False</td>\n",
              "      <td>False</td>\n",
              "      <td>False</td>\n",
              "      <td>False</td>\n",
              "    </tr>\n",
              "    <tr>\n",
              "      <th>502</th>\n",
              "      <td>False</td>\n",
              "      <td>False</td>\n",
              "      <td>False</td>\n",
              "      <td>False</td>\n",
              "      <td>False</td>\n",
              "      <td>False</td>\n",
              "      <td>False</td>\n",
              "      <td>False</td>\n",
              "      <td>False</td>\n",
              "      <td>False</td>\n",
              "      <td>False</td>\n",
              "      <td>False</td>\n",
              "      <td>False</td>\n",
              "      <td>False</td>\n",
              "      <td>False</td>\n",
              "      <td>False</td>\n",
              "      <td>False</td>\n",
              "      <td>False</td>\n",
              "      <td>False</td>\n",
              "      <td>False</td>\n",
              "      <td>False</td>\n",
              "      <td>False</td>\n",
              "      <td>False</td>\n",
              "      <td>False</td>\n",
              "      <td>False</td>\n",
              "      <td>False</td>\n",
              "      <td>False</td>\n",
              "      <td>False</td>\n",
              "      <td>False</td>\n",
              "      <td>False</td>\n",
              "      <td>False</td>\n",
              "      <td>False</td>\n",
              "      <td>False</td>\n",
              "      <td>False</td>\n",
              "      <td>False</td>\n",
              "      <td>False</td>\n",
              "      <td>False</td>\n",
              "      <td>False</td>\n",
              "      <td>False</td>\n",
              "      <td>False</td>\n",
              "      <td>False</td>\n",
              "      <td>False</td>\n",
              "      <td>False</td>\n",
              "      <td>False</td>\n",
              "      <td>False</td>\n",
              "      <td>False</td>\n",
              "      <td>False</td>\n",
              "      <td>False</td>\n",
              "    </tr>\n",
              "    <tr>\n",
              "      <th>537</th>\n",
              "      <td>False</td>\n",
              "      <td>False</td>\n",
              "      <td>False</td>\n",
              "      <td>False</td>\n",
              "      <td>False</td>\n",
              "      <td>False</td>\n",
              "      <td>False</td>\n",
              "      <td>False</td>\n",
              "      <td>False</td>\n",
              "      <td>False</td>\n",
              "      <td>False</td>\n",
              "      <td>False</td>\n",
              "      <td>False</td>\n",
              "      <td>False</td>\n",
              "      <td>False</td>\n",
              "      <td>False</td>\n",
              "      <td>False</td>\n",
              "      <td>False</td>\n",
              "      <td>False</td>\n",
              "      <td>False</td>\n",
              "      <td>False</td>\n",
              "      <td>False</td>\n",
              "      <td>False</td>\n",
              "      <td>False</td>\n",
              "      <td>False</td>\n",
              "      <td>False</td>\n",
              "      <td>False</td>\n",
              "      <td>False</td>\n",
              "      <td>False</td>\n",
              "      <td>False</td>\n",
              "      <td>False</td>\n",
              "      <td>False</td>\n",
              "      <td>False</td>\n",
              "      <td>False</td>\n",
              "      <td>False</td>\n",
              "      <td>False</td>\n",
              "      <td>False</td>\n",
              "      <td>False</td>\n",
              "      <td>False</td>\n",
              "      <td>False</td>\n",
              "      <td>False</td>\n",
              "      <td>False</td>\n",
              "      <td>False</td>\n",
              "      <td>False</td>\n",
              "      <td>False</td>\n",
              "      <td>False</td>\n",
              "      <td>False</td>\n",
              "      <td>False</td>\n",
              "    </tr>\n",
              "    <tr>\n",
              "      <th>175</th>\n",
              "      <td>False</td>\n",
              "      <td>False</td>\n",
              "      <td>False</td>\n",
              "      <td>False</td>\n",
              "      <td>False</td>\n",
              "      <td>False</td>\n",
              "      <td>False</td>\n",
              "      <td>False</td>\n",
              "      <td>False</td>\n",
              "      <td>False</td>\n",
              "      <td>False</td>\n",
              "      <td>False</td>\n",
              "      <td>False</td>\n",
              "      <td>False</td>\n",
              "      <td>False</td>\n",
              "      <td>False</td>\n",
              "      <td>False</td>\n",
              "      <td>False</td>\n",
              "      <td>False</td>\n",
              "      <td>False</td>\n",
              "      <td>False</td>\n",
              "      <td>False</td>\n",
              "      <td>False</td>\n",
              "      <td>False</td>\n",
              "      <td>False</td>\n",
              "      <td>False</td>\n",
              "      <td>False</td>\n",
              "      <td>False</td>\n",
              "      <td>False</td>\n",
              "      <td>False</td>\n",
              "      <td>False</td>\n",
              "      <td>False</td>\n",
              "      <td>False</td>\n",
              "      <td>False</td>\n",
              "      <td>False</td>\n",
              "      <td>False</td>\n",
              "      <td>False</td>\n",
              "      <td>False</td>\n",
              "      <td>False</td>\n",
              "      <td>False</td>\n",
              "      <td>False</td>\n",
              "      <td>False</td>\n",
              "      <td>False</td>\n",
              "      <td>False</td>\n",
              "      <td>False</td>\n",
              "      <td>False</td>\n",
              "      <td>False</td>\n",
              "      <td>False</td>\n",
              "    </tr>\n",
              "  </tbody>\n",
              "</table>\n",
              "<p>823 rows × 48 columns</p>\n",
              "</div>\n",
              "      <button class=\"colab-df-convert\" onclick=\"convertToInteractive('df-f573b706-6399-402e-80dc-55a4acba0ccb')\"\n",
              "              title=\"Convert this dataframe to an interactive table.\"\n",
              "              style=\"display:none;\">\n",
              "        \n",
              "  <svg xmlns=\"http://www.w3.org/2000/svg\" height=\"24px\"viewBox=\"0 0 24 24\"\n",
              "       width=\"24px\">\n",
              "    <path d=\"M0 0h24v24H0V0z\" fill=\"none\"/>\n",
              "    <path d=\"M18.56 5.44l.94 2.06.94-2.06 2.06-.94-2.06-.94-.94-2.06-.94 2.06-2.06.94zm-11 1L8.5 8.5l.94-2.06 2.06-.94-2.06-.94L8.5 2.5l-.94 2.06-2.06.94zm10 10l.94 2.06.94-2.06 2.06-.94-2.06-.94-.94-2.06-.94 2.06-2.06.94z\"/><path d=\"M17.41 7.96l-1.37-1.37c-.4-.4-.92-.59-1.43-.59-.52 0-1.04.2-1.43.59L10.3 9.45l-7.72 7.72c-.78.78-.78 2.05 0 2.83L4 21.41c.39.39.9.59 1.41.59.51 0 1.02-.2 1.41-.59l7.78-7.78 2.81-2.81c.8-.78.8-2.07 0-2.86zM5.41 20L4 18.59l7.72-7.72 1.47 1.35L5.41 20z\"/>\n",
              "  </svg>\n",
              "      </button>\n",
              "      \n",
              "  <style>\n",
              "    .colab-df-container {\n",
              "      display:flex;\n",
              "      flex-wrap:wrap;\n",
              "      gap: 12px;\n",
              "    }\n",
              "\n",
              "    .colab-df-convert {\n",
              "      background-color: #E8F0FE;\n",
              "      border: none;\n",
              "      border-radius: 50%;\n",
              "      cursor: pointer;\n",
              "      display: none;\n",
              "      fill: #1967D2;\n",
              "      height: 32px;\n",
              "      padding: 0 0 0 0;\n",
              "      width: 32px;\n",
              "    }\n",
              "\n",
              "    .colab-df-convert:hover {\n",
              "      background-color: #E2EBFA;\n",
              "      box-shadow: 0px 1px 2px rgba(60, 64, 67, 0.3), 0px 1px 3px 1px rgba(60, 64, 67, 0.15);\n",
              "      fill: #174EA6;\n",
              "    }\n",
              "\n",
              "    [theme=dark] .colab-df-convert {\n",
              "      background-color: #3B4455;\n",
              "      fill: #D2E3FC;\n",
              "    }\n",
              "\n",
              "    [theme=dark] .colab-df-convert:hover {\n",
              "      background-color: #434B5C;\n",
              "      box-shadow: 0px 1px 3px 1px rgba(0, 0, 0, 0.15);\n",
              "      filter: drop-shadow(0px 1px 2px rgba(0, 0, 0, 0.3));\n",
              "      fill: #FFFFFF;\n",
              "    }\n",
              "  </style>\n",
              "\n",
              "      <script>\n",
              "        const buttonEl =\n",
              "          document.querySelector('#df-f573b706-6399-402e-80dc-55a4acba0ccb button.colab-df-convert');\n",
              "        buttonEl.style.display =\n",
              "          google.colab.kernel.accessAllowed ? 'block' : 'none';\n",
              "\n",
              "        async function convertToInteractive(key) {\n",
              "          const element = document.querySelector('#df-f573b706-6399-402e-80dc-55a4acba0ccb');\n",
              "          const dataTable =\n",
              "            await google.colab.kernel.invokeFunction('convertToInteractive',\n",
              "                                                     [key], {});\n",
              "          if (!dataTable) return;\n",
              "\n",
              "          const docLinkHtml = 'Like what you see? Visit the ' +\n",
              "            '<a target=\"_blank\" href=https://colab.research.google.com/notebooks/data_table.ipynb>data table notebook</a>'\n",
              "            + ' to learn more about interactive tables.';\n",
              "          element.innerHTML = '';\n",
              "          dataTable['output_type'] = 'display_data';\n",
              "          await google.colab.output.renderOutput(dataTable, element);\n",
              "          const docLink = document.createElement('div');\n",
              "          docLink.innerHTML = docLinkHtml;\n",
              "          element.appendChild(docLink);\n",
              "        }\n",
              "      </script>\n",
              "    </div>\n",
              "  </div>\n",
              "  "
            ],
            "text/plain": [
              "       age  gendera    BMI  ...  Lactic acid   PCO2     EF\n",
              "408  False    False  False  ...        False  False  False\n",
              "725  False    False  False  ...        False  False  False\n",
              "148  False    False  False  ...        False  False  False\n",
              "412  False    False  False  ...        False  False  False\n",
              "886  False    False  False  ...        False  False  False\n",
              "..     ...      ...    ...  ...          ...    ...    ...\n",
              "919  False    False  False  ...        False  False  False\n",
              "211  False    False  False  ...        False  False  False\n",
              "502  False    False  False  ...        False  False  False\n",
              "537  False    False  False  ...        False  False  False\n",
              "175  False    False  False  ...        False  False  False\n",
              "\n",
              "[823 rows x 48 columns]"
            ]
          },
          "metadata": {},
          "execution_count": 14
        }
      ]
    },
    {
      "cell_type": "code",
      "source": [
        "print(\"X_train shape {}, len {}.\".format(X_train.shape,len(X_train)))\n",
        "print(\"X_test shape {}, len {}.\".format(X_test.shape,len(X_test)))\n",
        "print(\"Y_train shape {}, len {}.\".format(Y_train.shape,len(Y_train)))\n",
        "print(\"Y_test shape {}, len {}.\".format(Y_test.shape,len(Y_test)))"
      ],
      "metadata": {
        "colab": {
          "base_uri": "https://localhost:8080/"
        },
        "id": "hogX7Xdun_xr",
        "outputId": "4c6fcb3a-47da-4ea3-e1f8-f3b57de7eaac"
      },
      "execution_count": 15,
      "outputs": [
        {
          "output_type": "stream",
          "name": "stdout",
          "text": [
            "X_train shape (823, 48), len 823.\n",
            "X_test shape (354, 48), len 354.\n",
            "Y_train shape (823,), len 823.\n",
            "Y_test shape (354,), len 354.\n"
          ]
        }
      ]
    },
    {
      "cell_type": "code",
      "source": [
        "result_acc = []"
      ],
      "metadata": {
        "id": "jOkdlBmqgVlR"
      },
      "execution_count": 16,
      "outputs": []
    },
    {
      "cell_type": "markdown",
      "source": [
        "**X-Gboost with Feature Selection**\n",
        "\n",
        "\n"
      ],
      "metadata": {
        "id": "OTaqp6B4s3KZ"
      }
    },
    {
      "cell_type": "code",
      "source": [
        "from numpy import sort\n",
        "from xgboost import XGBClassifier\n",
        "from sklearn.model_selection import train_test_split\n",
        "from sklearn.metrics import accuracy_score\n",
        "from sklearn.feature_selection import SelectFromModel"
      ],
      "metadata": {
        "id": "eVAP9wkr1dZr"
      },
      "execution_count": 17,
      "outputs": []
    },
    {
      "cell_type": "code",
      "source": [
        "# plot feature importance manually\n",
        "from numpy import loadtxt\n",
        "from xgboost import XGBClassifier\n",
        "from matplotlib import pyplot\n",
        "\n",
        "# load data\n",
        "data = pd.read_csv(\"/content/data01.csv\", delimiter=\",\")\n",
        "\n",
        "# split data into X and y\n",
        "X = data.drop(\"outcome\", axis = 1)\n",
        "y = data.outcome\n",
        "\n",
        "# fit model no training data\n",
        "model = XGBClassifier()\n",
        "model.fit(X, y,)\n",
        "\n",
        "# feature importance\n",
        "print(model.feature_importances_)\n",
        "\n",
        "# plot\n",
        "pyplot.bar(range(len(model.feature_importances_)), model.feature_importances_)\n",
        "pyplot.show()"
      ],
      "metadata": {
        "colab": {
          "base_uri": "https://localhost:8080/",
          "height": 421
        },
        "id": "jkHors6we3uF",
        "outputId": "733aa523-ed70-4acd-fd70-8f8037a3cc26"
      },
      "execution_count": 18,
      "outputs": [
        {
          "output_type": "stream",
          "name": "stdout",
          "text": [
            "[0.         0.01440101 0.02406667 0.01275222 0.0187405  0.01918352\n",
            " 0.         0.         0.         0.0223239  0.         0.02240367\n",
            " 0.03973198 0.00849524 0.02737054 0.01548692 0.01845654 0.01955551\n",
            " 0.01681529 0.01517395 0.03636036 0.02704095 0.01859951 0.0094769\n",
            " 0.01271826 0.01888518 0.02680405 0.03233247 0.02433732 0.01822048\n",
            " 0.03420059 0.03017505 0.0190786  0.02841088 0.01451623 0.01387632\n",
            " 0.01443482 0.02402779 0.0183553  0.0193396  0.01780498 0.02875021\n",
            " 0.01691639 0.04214779 0.0188166  0.03518007 0.0503785  0.03166928\n",
            " 0.01945243 0.00273571]\n"
          ]
        },
        {
          "output_type": "display_data",
          "data": {
            "image/png": "[encoded data removed]",
            "text/plain": [
              "<Figure size 432x288 with 1 Axes>"
            ]
          },
          "metadata": {
            "needs_background": "light"
          }
        }
      ]
    },
    {
      "cell_type": "code",
      "source": [
        "# plot feature importance using built-in function\n",
        "from numpy import loadtxt\n",
        "from xgboost import XGBClassifier\n",
        "from xgboost import plot_importance\n",
        "from matplotlib import pyplot\n",
        "\n",
        "# load data\n",
        "data = pd.read_csv(\"/content/data01.csv\", delimiter=\",\")\n",
        "\n",
        "# split data into X and y\n",
        "X = data.drop(\"outcome\", axis = 1)\n",
        "y = data.outcome\n",
        "\n",
        "# fit model no training data\n",
        "model = XGBClassifier()\n",
        "model.fit(X, y)\n",
        "\n",
        "# plot feature importance\n",
        "plot_importance(model,max_num_features=20)\n",
        "pyplot.show()"
      ],
      "metadata": {
        "colab": {
          "base_uri": "https://localhost:8080/",
          "height": 295
        },
        "id": "9DsvPro3tBMC",
        "outputId": "ee1102cd-d03f-45e4-e113-42dd3987edd9"
      },
      "execution_count": 19,
      "outputs": [
        {
          "output_type": "display_data",
          "data": {
            "image/png": "[encoded data removed]",
            "text/plain": [
              "<Figure size 432x288 with 1 Axes>"
            ]
          },
          "metadata": {
            "needs_background": "light"
          }
        }
      ]
    },
    {
      "cell_type": "code",
      "source": [
        "X_train['BMI'].fillna(X_train['BMI'].mean(), inplace = True)\n",
        "X_train['heart rate'].fillna(X_train['heart rate'].mean(), inplace = True)\n",
        "X_train['Systolic blood pressure'].fillna(X_train['Systolic blood pressure'].mean(), inplace = True)\n",
        "X_train['Diastolic blood pressure'].fillna(X_train['Diastolic blood pressure'].mean(), inplace = True)\n",
        "X_train['Respiratory rate'].fillna(X_train['Respiratory rate'].mean(), inplace = True)\n",
        "X_train['SP O2'].fillna(X_train['SP O2'].mean(), inplace = True)\n",
        "X_train['Urine output'].fillna(X_train['Urine output'].median(), inplace = True)\n",
        "X_train['Neutrophils'].fillna(X_train['Neutrophils'].mean(), inplace = True)\n",
        "X_train['Basophils'].fillna(X_train['Basophils'].median(), inplace = True)\n",
        "X_train['Lymphocyte'].fillna(X_train['Lymphocyte'].median(), inplace = True)\n",
        "X_train['PT'].fillna(X_train['PT'].mean(), inplace = True)\n",
        "X_train['INR'].fillna(X_train['INR'].median(), inplace = True)\n",
        "X_train['Creatine kinase'].fillna(X_train['Creatine kinase'].median(), inplace = True)\n",
        "X_train['glucose'].fillna(X_train['glucose'].mean(), inplace = True)\n",
        "X_train['Blood calcium'].fillna(X_train['Blood calcium'].mean(), inplace = True)\n",
        "X_train['PH'].fillna(X_train['PH'].mean(), inplace = True)\n",
        "X_train['Lactic acid'].fillna(X_train['Lactic acid'].median(), inplace = True)\n",
        "X_train['PCO2'].fillna(X_train['PCO2'].mean(), inplace = True)\n",
        "X_train['temperature'].fillna(X_train['temperature'].mean(), inplace = True)"
      ],
      "metadata": {
        "id": "MtvYynkTRlz6"
      },
      "execution_count": 44,
      "outputs": []
    },
    {
      "cell_type": "code",
      "source": [
        "X_train.drop(['group', 'ID'], axis = 1, inplace = True)"
      ],
      "metadata": {
        "id": "QUc-_t_lR_Qj"
      },
      "execution_count": 46,
      "outputs": []
    },
    {
      "cell_type": "code",
      "source": [
        "print(X_train.isnull().sum())"
      ],
      "metadata": {
        "colab": {
          "base_uri": "https://localhost:8080/"
        },
        "id": "kycMacuURouh",
        "outputId": "29ea4ea7-b4b4-44d1-a2f8-7773cb61cc2a"
      },
      "execution_count": 47,
      "outputs": [
        {
          "output_type": "stream",
          "name": "stdout",
          "text": [
            "age                         0\n",
            "gendera                     0\n",
            "BMI                         0\n",
            "hypertensive                0\n",
            "atrialfibrillation          0\n",
            "CHD with no MI              0\n",
            "diabetes                    0\n",
            "deficiencyanemias           0\n",
            "depression                  0\n",
            "Hyperlipemia                0\n",
            "Renal failure               0\n",
            "COPD                        0\n",
            "heart rate                  0\n",
            "Systolic blood pressure     0\n",
            "Diastolic blood pressure    0\n",
            "Respiratory rate            0\n",
            "temperature                 0\n",
            "SP O2                       0\n",
            "Urine output                0\n",
            "hematocrit                  0\n",
            "RBC                         0\n",
            "MCH                         0\n",
            "MCHC                        0\n",
            "MCV                         0\n",
            "RDW                         0\n",
            "Leucocyte                   0\n",
            "Platelets                   0\n",
            "Neutrophils                 0\n",
            "Basophils                   0\n",
            "Lymphocyte                  0\n",
            "PT                          0\n",
            "INR                         0\n",
            "NT-proBNP                   0\n",
            "Creatine kinase             0\n",
            "Creatinine                  0\n",
            "Urea nitrogen               0\n",
            "glucose                     0\n",
            "Blood potassium             0\n",
            "Blood sodium                0\n",
            "Blood calcium               0\n",
            "Chloride                    0\n",
            "Anion gap                   0\n",
            "Magnesium ion               0\n",
            "PH                          0\n",
            "Bicarbonate                 0\n",
            "Lactic acid                 0\n",
            "PCO2                        0\n",
            "EF                          0\n",
            "dtype: int64\n"
          ]
        }
      ]
    },
    {
      "cell_type": "code",
      "source": [
        "X_test['BMI'].fillna(X_test['BMI'].mean(), inplace = True)\n",
        "X_test['heart rate'].fillna(X_test['heart rate'].mean(), inplace = True)\n",
        "X_test['Systolic blood pressure'].fillna(X_test['Systolic blood pressure'].mean(), inplace = True)\n",
        "X_test['Diastolic blood pressure'].fillna(X_test['Diastolic blood pressure'].mean(), inplace = True)\n",
        "X_test['Respiratory rate'].fillna(X_test['Respiratory rate'].mean(), inplace = True)\n",
        "X_test['SP O2'].fillna(X_test['SP O2'].mean(), inplace = True)\n",
        "X_test['Urine output'].fillna(X_test['Urine output'].median(), inplace = True)\n",
        "X_test['Neutrophils'].fillna(X_test['Neutrophils'].mean(), inplace = True)\n",
        "X_test['Basophils'].fillna(X_test['Basophils'].median(), inplace = True)\n",
        "X_test['Lymphocyte'].fillna(X_test['Lymphocyte'].median(), inplace = True)\n",
        "X_test['PT'].fillna(X_test['PT'].mean(), inplace = True)\n",
        "X_test['INR'].fillna(X_test['INR'].median(), inplace = True)\n",
        "X_test['Creatine kinase'].fillna(X_test['Creatine kinase'].median(), inplace = True)\n",
        "X_test['glucose'].fillna(X_test['glucose'].mean(), inplace = True)\n",
        "X_test['Blood calcium'].fillna(X_test['Blood calcium'].mean(), inplace = True)\n",
        "X_test['PH'].fillna(X_test['PH'].mean(), inplace = True)\n",
        "X_test['Lactic acid'].fillna(X_test['Lactic acid'].median(), inplace = True)\n",
        "X_test['PCO2'].fillna(X_test['PCO2'].mean(), inplace = True)\n",
        "X_test['temperature'].fillna(X_test['temperature'].mean(), inplace = True)"
      ],
      "metadata": {
        "id": "VxcO-HNKSsPU"
      },
      "execution_count": 49,
      "outputs": []
    },
    {
      "cell_type": "code",
      "source": [
        "X_test.drop(['group', 'ID'], axis = 1, inplace = True)"
      ],
      "metadata": {
        "id": "I67NXWgHVcgn"
      },
      "execution_count": 50,
      "outputs": []
    },
    {
      "cell_type": "code",
      "source": [
        "print(X_test.isnull().sum())"
      ],
      "metadata": {
        "colab": {
          "base_uri": "https://localhost:8080/"
        },
        "id": "WLJd0girSw6-",
        "outputId": "f0086971-c06b-4ba8-dfc4-0b1d14b384c4"
      },
      "execution_count": 51,
      "outputs": [
        {
          "output_type": "stream",
          "name": "stdout",
          "text": [
            "age                         0\n",
            "gendera                     0\n",
            "BMI                         0\n",
            "hypertensive                0\n",
            "atrialfibrillation          0\n",
            "CHD with no MI              0\n",
            "diabetes                    0\n",
            "deficiencyanemias           0\n",
            "depression                  0\n",
            "Hyperlipemia                0\n",
            "Renal failure               0\n",
            "COPD                        0\n",
            "heart rate                  0\n",
            "Systolic blood pressure     0\n",
            "Diastolic blood pressure    0\n",
            "Respiratory rate            0\n",
            "temperature                 0\n",
            "SP O2                       0\n",
            "Urine output                0\n",
            "hematocrit                  0\n",
            "RBC                         0\n",
            "MCH                         0\n",
            "MCHC                        0\n",
            "MCV                         0\n",
            "RDW                         0\n",
            "Leucocyte                   0\n",
            "Platelets                   0\n",
            "Neutrophils                 0\n",
            "Basophils                   0\n",
            "Lymphocyte                  0\n",
            "PT                          0\n",
            "INR                         0\n",
            "NT-proBNP                   0\n",
            "Creatine kinase             0\n",
            "Creatinine                  0\n",
            "Urea nitrogen               0\n",
            "glucose                     0\n",
            "Blood potassium             0\n",
            "Blood sodium                0\n",
            "Blood calcium               0\n",
            "Chloride                    0\n",
            "Anion gap                   0\n",
            "Magnesium ion               0\n",
            "PH                          0\n",
            "Bicarbonate                 0\n",
            "Lactic acid                 0\n",
            "PCO2                        0\n",
            "EF                          0\n",
            "dtype: int64\n"
          ]
        }
      ]
    },
    {
      "cell_type": "code",
      "source": [
        "# use feature importance for feature selection\n",
        "from numpy import loadtxt\n",
        "from numpy import sort\n",
        "from xgboost import XGBClassifier\n",
        "#from sklearn.cross_validation import train_test_split\n",
        "from sklearn.model_selection import train_test_split\n",
        "from sklearn.metrics import accuracy_score\n",
        "from sklearn.feature_selection import SelectFromModel\n",
        "\n",
        "\n",
        "\n",
        "\n",
        "\n",
        "# split data into train and test sets\n",
        "\n",
        "\n",
        "# fit model on all training data\n",
        "model = XGBClassifier()\n",
        "model.fit(X_train, Y_train)\n",
        "# make predictions for test data and evaluate\n",
        "y_pred = model.predict(X_test)\n",
        "predictions = [round(value) for value in y_pred]\n",
        "accuracy = accuracy_score(Y_test, predictions)\n",
        "print(\"Accuracy: %.2f%%\" % (accuracy * 100.0))\n",
        "\n",
        "# Fit model using each importance as a threshold\n",
        "thresholds = sort(model.feature_importances_)\n",
        "for thresh in thresholds:\n",
        "    # select features using threshold\n",
        "    selection = SelectFromModel(model, threshold=thresh, prefit=True)\n",
        "    select_X_train = selection.transform(X_train)\n",
        "    \n",
        "    # train model\n",
        "    selection_model = XGBClassifier()\n",
        "    selection_model.fit(select_X_train, Y_train)\n",
        "    \n",
        "    # eval model\n",
        "    select_X_test = selection.transform(X_test)\n",
        "    y_pred = selection_model.predict(select_X_test)\n",
        "    predictions = [round(value) for value in y_pred]\n",
        "    accuracy = accuracy_score(Y_test, predictions)\n",
        "    print(\"Thresh=%.3f, n=%d, Accuracy: %.2f%%\" % (thresh, select_X_train.shape[1], accuracy*100.0))\n",
        "    "
      ],
      "metadata": {
        "colab": {
          "base_uri": "https://localhost:8080/"
        },
        "id": "_90T7EyKuE3Z",
        "outputId": "9742161e-b07c-4de5-f3b3-6a649fcebe9a"
      },
      "execution_count": 52,
      "outputs": [
        {
          "output_type": "stream",
          "name": "stdout",
          "text": [
            "Accuracy: 85.59%\n"
          ]
        },
        {
          "output_type": "stream",
          "name": "stderr",
          "text": [
            "/usr/local/lib/python3.7/dist-packages/sklearn/base.py:439: UserWarning: X has feature names, but SelectFromModel was fitted without feature names\n",
            "  f\"X has feature names, but {self.__class__.__name__} was fitted without\"\n",
            "/usr/local/lib/python3.7/dist-packages/sklearn/base.py:439: UserWarning: X has feature names, but SelectFromModel was fitted without feature names\n",
            "  f\"X has feature names, but {self.__class__.__name__} was fitted without\"\n",
            "/usr/local/lib/python3.7/dist-packages/sklearn/base.py:439: UserWarning: X has feature names, but SelectFromModel was fitted without feature names\n",
            "  f\"X has feature names, but {self.__class__.__name__} was fitted without\"\n"
          ]
        },
        {
          "output_type": "stream",
          "name": "stdout",
          "text": [
            "Thresh=0.000, n=48, Accuracy: 85.59%\n"
          ]
        },
        {
          "output_type": "stream",
          "name": "stderr",
          "text": [
            "/usr/local/lib/python3.7/dist-packages/sklearn/base.py:439: UserWarning: X has feature names, but SelectFromModel was fitted without feature names\n",
            "  f\"X has feature names, but {self.__class__.__name__} was fitted without\"\n",
            "/usr/local/lib/python3.7/dist-packages/sklearn/base.py:439: UserWarning: X has feature names, but SelectFromModel was fitted without feature names\n",
            "  f\"X has feature names, but {self.__class__.__name__} was fitted without\"\n"
          ]
        },
        {
          "output_type": "stream",
          "name": "stdout",
          "text": [
            "Thresh=0.000, n=48, Accuracy: 85.59%\n"
          ]
        },
        {
          "output_type": "stream",
          "name": "stderr",
          "text": [
            "/usr/local/lib/python3.7/dist-packages/sklearn/base.py:439: UserWarning: X has feature names, but SelectFromModel was fitted without feature names\n",
            "  f\"X has feature names, but {self.__class__.__name__} was fitted without\"\n",
            "/usr/local/lib/python3.7/dist-packages/sklearn/base.py:439: UserWarning: X has feature names, but SelectFromModel was fitted without feature names\n",
            "  f\"X has feature names, but {self.__class__.__name__} was fitted without\"\n"
          ]
        },
        {
          "output_type": "stream",
          "name": "stdout",
          "text": [
            "Thresh=0.000, n=48, Accuracy: 85.59%\n"
          ]
        },
        {
          "output_type": "stream",
          "name": "stderr",
          "text": [
            "/usr/local/lib/python3.7/dist-packages/sklearn/base.py:439: UserWarning: X has feature names, but SelectFromModel was fitted without feature names\n",
            "  f\"X has feature names, but {self.__class__.__name__} was fitted without\"\n",
            "/usr/local/lib/python3.7/dist-packages/sklearn/base.py:439: UserWarning: X has feature names, but SelectFromModel was fitted without feature names\n",
            "  f\"X has feature names, but {self.__class__.__name__} was fitted without\"\n"
          ]
        },
        {
          "output_type": "stream",
          "name": "stdout",
          "text": [
            "Thresh=0.000, n=48, Accuracy: 85.59%\n"
          ]
        },
        {
          "output_type": "stream",
          "name": "stderr",
          "text": [
            "/usr/local/lib/python3.7/dist-packages/sklearn/base.py:439: UserWarning: X has feature names, but SelectFromModel was fitted without feature names\n",
            "  f\"X has feature names, but {self.__class__.__name__} was fitted without\"\n",
            "/usr/local/lib/python3.7/dist-packages/sklearn/base.py:439: UserWarning: X has feature names, but SelectFromModel was fitted without feature names\n",
            "  f\"X has feature names, but {self.__class__.__name__} was fitted without\"\n"
          ]
        },
        {
          "output_type": "stream",
          "name": "stdout",
          "text": [
            "Thresh=0.007, n=44, Accuracy: 85.59%\n"
          ]
        },
        {
          "output_type": "stream",
          "name": "stderr",
          "text": [
            "/usr/local/lib/python3.7/dist-packages/sklearn/base.py:439: UserWarning: X has feature names, but SelectFromModel was fitted without feature names\n",
            "  f\"X has feature names, but {self.__class__.__name__} was fitted without\"\n",
            "/usr/local/lib/python3.7/dist-packages/sklearn/base.py:439: UserWarning: X has feature names, but SelectFromModel was fitted without feature names\n",
            "  f\"X has feature names, but {self.__class__.__name__} was fitted without\"\n"
          ]
        },
        {
          "output_type": "stream",
          "name": "stdout",
          "text": [
            "Thresh=0.013, n=43, Accuracy: 85.59%\n"
          ]
        },
        {
          "output_type": "stream",
          "name": "stderr",
          "text": [
            "/usr/local/lib/python3.7/dist-packages/sklearn/base.py:439: UserWarning: X has feature names, but SelectFromModel was fitted without feature names\n",
            "  f\"X has feature names, but {self.__class__.__name__} was fitted without\"\n",
            "/usr/local/lib/python3.7/dist-packages/sklearn/base.py:439: UserWarning: X has feature names, but SelectFromModel was fitted without feature names\n",
            "  f\"X has feature names, but {self.__class__.__name__} was fitted without\"\n"
          ]
        },
        {
          "output_type": "stream",
          "name": "stdout",
          "text": [
            "Thresh=0.014, n=42, Accuracy: 85.31%\n"
          ]
        },
        {
          "output_type": "stream",
          "name": "stderr",
          "text": [
            "/usr/local/lib/python3.7/dist-packages/sklearn/base.py:439: UserWarning: X has feature names, but SelectFromModel was fitted without feature names\n",
            "  f\"X has feature names, but {self.__class__.__name__} was fitted without\"\n",
            "/usr/local/lib/python3.7/dist-packages/sklearn/base.py:439: UserWarning: X has feature names, but SelectFromModel was fitted without feature names\n",
            "  f\"X has feature names, but {self.__class__.__name__} was fitted without\"\n"
          ]
        },
        {
          "output_type": "stream",
          "name": "stdout",
          "text": [
            "Thresh=0.014, n=41, Accuracy: 85.59%\n"
          ]
        },
        {
          "output_type": "stream",
          "name": "stderr",
          "text": [
            "/usr/local/lib/python3.7/dist-packages/sklearn/base.py:439: UserWarning: X has feature names, but SelectFromModel was fitted without feature names\n",
            "  f\"X has feature names, but {self.__class__.__name__} was fitted without\"\n",
            "/usr/local/lib/python3.7/dist-packages/sklearn/base.py:439: UserWarning: X has feature names, but SelectFromModel was fitted without feature names\n",
            "  f\"X has feature names, but {self.__class__.__name__} was fitted without\"\n"
          ]
        },
        {
          "output_type": "stream",
          "name": "stdout",
          "text": [
            "Thresh=0.015, n=40, Accuracy: 85.59%\n"
          ]
        },
        {
          "output_type": "stream",
          "name": "stderr",
          "text": [
            "/usr/local/lib/python3.7/dist-packages/sklearn/base.py:439: UserWarning: X has feature names, but SelectFromModel was fitted without feature names\n",
            "  f\"X has feature names, but {self.__class__.__name__} was fitted without\"\n",
            "/usr/local/lib/python3.7/dist-packages/sklearn/base.py:439: UserWarning: X has feature names, but SelectFromModel was fitted without feature names\n",
            "  f\"X has feature names, but {self.__class__.__name__} was fitted without\"\n"
          ]
        },
        {
          "output_type": "stream",
          "name": "stdout",
          "text": [
            "Thresh=0.015, n=39, Accuracy: 85.03%\n"
          ]
        },
        {
          "output_type": "stream",
          "name": "stderr",
          "text": [
            "/usr/local/lib/python3.7/dist-packages/sklearn/base.py:439: UserWarning: X has feature names, but SelectFromModel was fitted without feature names\n",
            "  f\"X has feature names, but {self.__class__.__name__} was fitted without\"\n",
            "/usr/local/lib/python3.7/dist-packages/sklearn/base.py:439: UserWarning: X has feature names, but SelectFromModel was fitted without feature names\n",
            "  f\"X has feature names, but {self.__class__.__name__} was fitted without\"\n"
          ]
        },
        {
          "output_type": "stream",
          "name": "stdout",
          "text": [
            "Thresh=0.015, n=38, Accuracy: 85.88%\n"
          ]
        },
        {
          "output_type": "stream",
          "name": "stderr",
          "text": [
            "/usr/local/lib/python3.7/dist-packages/sklearn/base.py:439: UserWarning: X has feature names, but SelectFromModel was fitted without feature names\n",
            "  f\"X has feature names, but {self.__class__.__name__} was fitted without\"\n",
            "/usr/local/lib/python3.7/dist-packages/sklearn/base.py:439: UserWarning: X has feature names, but SelectFromModel was fitted without feature names\n",
            "  f\"X has feature names, but {self.__class__.__name__} was fitted without\"\n"
          ]
        },
        {
          "output_type": "stream",
          "name": "stdout",
          "text": [
            "Thresh=0.015, n=37, Accuracy: 85.59%\n"
          ]
        },
        {
          "output_type": "stream",
          "name": "stderr",
          "text": [
            "/usr/local/lib/python3.7/dist-packages/sklearn/base.py:439: UserWarning: X has feature names, but SelectFromModel was fitted without feature names\n",
            "  f\"X has feature names, but {self.__class__.__name__} was fitted without\"\n",
            "/usr/local/lib/python3.7/dist-packages/sklearn/base.py:439: UserWarning: X has feature names, but SelectFromModel was fitted without feature names\n",
            "  f\"X has feature names, but {self.__class__.__name__} was fitted without\"\n"
          ]
        },
        {
          "output_type": "stream",
          "name": "stdout",
          "text": [
            "Thresh=0.016, n=36, Accuracy: 85.03%\n"
          ]
        },
        {
          "output_type": "stream",
          "name": "stderr",
          "text": [
            "/usr/local/lib/python3.7/dist-packages/sklearn/base.py:439: UserWarning: X has feature names, but SelectFromModel was fitted without feature names\n",
            "  f\"X has feature names, but {self.__class__.__name__} was fitted without\"\n",
            "/usr/local/lib/python3.7/dist-packages/sklearn/base.py:439: UserWarning: X has feature names, but SelectFromModel was fitted without feature names\n",
            "  f\"X has feature names, but {self.__class__.__name__} was fitted without\"\n"
          ]
        },
        {
          "output_type": "stream",
          "name": "stdout",
          "text": [
            "Thresh=0.016, n=35, Accuracy: 85.31%\n"
          ]
        },
        {
          "output_type": "stream",
          "name": "stderr",
          "text": [
            "/usr/local/lib/python3.7/dist-packages/sklearn/base.py:439: UserWarning: X has feature names, but SelectFromModel was fitted without feature names\n",
            "  f\"X has feature names, but {self.__class__.__name__} was fitted without\"\n",
            "/usr/local/lib/python3.7/dist-packages/sklearn/base.py:439: UserWarning: X has feature names, but SelectFromModel was fitted without feature names\n",
            "  f\"X has feature names, but {self.__class__.__name__} was fitted without\"\n"
          ]
        },
        {
          "output_type": "stream",
          "name": "stdout",
          "text": [
            "Thresh=0.016, n=34, Accuracy: 85.31%\n"
          ]
        },
        {
          "output_type": "stream",
          "name": "stderr",
          "text": [
            "/usr/local/lib/python3.7/dist-packages/sklearn/base.py:439: UserWarning: X has feature names, but SelectFromModel was fitted without feature names\n",
            "  f\"X has feature names, but {self.__class__.__name__} was fitted without\"\n",
            "/usr/local/lib/python3.7/dist-packages/sklearn/base.py:439: UserWarning: X has feature names, but SelectFromModel was fitted without feature names\n",
            "  f\"X has feature names, but {self.__class__.__name__} was fitted without\"\n"
          ]
        },
        {
          "output_type": "stream",
          "name": "stdout",
          "text": [
            "Thresh=0.017, n=33, Accuracy: 85.03%\n"
          ]
        },
        {
          "output_type": "stream",
          "name": "stderr",
          "text": [
            "/usr/local/lib/python3.7/dist-packages/sklearn/base.py:439: UserWarning: X has feature names, but SelectFromModel was fitted without feature names\n",
            "  f\"X has feature names, but {self.__class__.__name__} was fitted without\"\n",
            "/usr/local/lib/python3.7/dist-packages/sklearn/base.py:439: UserWarning: X has feature names, but SelectFromModel was fitted without feature names\n",
            "  f\"X has feature names, but {self.__class__.__name__} was fitted without\"\n"
          ]
        },
        {
          "output_type": "stream",
          "name": "stdout",
          "text": [
            "Thresh=0.017, n=32, Accuracy: 85.03%\n"
          ]
        },
        {
          "output_type": "stream",
          "name": "stderr",
          "text": [
            "/usr/local/lib/python3.7/dist-packages/sklearn/base.py:439: UserWarning: X has feature names, but SelectFromModel was fitted without feature names\n",
            "  f\"X has feature names, but {self.__class__.__name__} was fitted without\"\n",
            "/usr/local/lib/python3.7/dist-packages/sklearn/base.py:439: UserWarning: X has feature names, but SelectFromModel was fitted without feature names\n",
            "  f\"X has feature names, but {self.__class__.__name__} was fitted without\"\n",
            "/usr/local/lib/python3.7/dist-packages/sklearn/base.py:439: UserWarning: X has feature names, but SelectFromModel was fitted without feature names\n",
            "  f\"X has feature names, but {self.__class__.__name__} was fitted without\"\n"
          ]
        },
        {
          "output_type": "stream",
          "name": "stdout",
          "text": [
            "Thresh=0.018, n=31, Accuracy: 85.03%\n",
            "Thresh=0.018, n=30, Accuracy: 85.31%\n"
          ]
        },
        {
          "output_type": "stream",
          "name": "stderr",
          "text": [
            "/usr/local/lib/python3.7/dist-packages/sklearn/base.py:439: UserWarning: X has feature names, but SelectFromModel was fitted without feature names\n",
            "  f\"X has feature names, but {self.__class__.__name__} was fitted without\"\n",
            "/usr/local/lib/python3.7/dist-packages/sklearn/base.py:439: UserWarning: X has feature names, but SelectFromModel was fitted without feature names\n",
            "  f\"X has feature names, but {self.__class__.__name__} was fitted without\"\n",
            "/usr/local/lib/python3.7/dist-packages/sklearn/base.py:439: UserWarning: X has feature names, but SelectFromModel was fitted without feature names\n",
            "  f\"X has feature names, but {self.__class__.__name__} was fitted without\"\n"
          ]
        },
        {
          "output_type": "stream",
          "name": "stdout",
          "text": [
            "Thresh=0.018, n=29, Accuracy: 85.59%\n",
            "Thresh=0.019, n=28, Accuracy: 85.31%\n"
          ]
        },
        {
          "output_type": "stream",
          "name": "stderr",
          "text": [
            "/usr/local/lib/python3.7/dist-packages/sklearn/base.py:439: UserWarning: X has feature names, but SelectFromModel was fitted without feature names\n",
            "  f\"X has feature names, but {self.__class__.__name__} was fitted without\"\n",
            "/usr/local/lib/python3.7/dist-packages/sklearn/base.py:439: UserWarning: X has feature names, but SelectFromModel was fitted without feature names\n",
            "  f\"X has feature names, but {self.__class__.__name__} was fitted without\"\n",
            "/usr/local/lib/python3.7/dist-packages/sklearn/base.py:439: UserWarning: X has feature names, but SelectFromModel was fitted without feature names\n",
            "  f\"X has feature names, but {self.__class__.__name__} was fitted without\"\n",
            "/usr/local/lib/python3.7/dist-packages/sklearn/base.py:439: UserWarning: X has feature names, but SelectFromModel was fitted without feature names\n",
            "  f\"X has feature names, but {self.__class__.__name__} was fitted without\"\n"
          ]
        },
        {
          "output_type": "stream",
          "name": "stdout",
          "text": [
            "Thresh=0.020, n=27, Accuracy: 84.75%\n",
            "Thresh=0.020, n=26, Accuracy: 85.31%\n"
          ]
        },
        {
          "output_type": "stream",
          "name": "stderr",
          "text": [
            "/usr/local/lib/python3.7/dist-packages/sklearn/base.py:439: UserWarning: X has feature names, but SelectFromModel was fitted without feature names\n",
            "  f\"X has feature names, but {self.__class__.__name__} was fitted without\"\n",
            "/usr/local/lib/python3.7/dist-packages/sklearn/base.py:439: UserWarning: X has feature names, but SelectFromModel was fitted without feature names\n",
            "  f\"X has feature names, but {self.__class__.__name__} was fitted without\"\n",
            "/usr/local/lib/python3.7/dist-packages/sklearn/base.py:439: UserWarning: X has feature names, but SelectFromModel was fitted without feature names\n",
            "  f\"X has feature names, but {self.__class__.__name__} was fitted without\"\n",
            "/usr/local/lib/python3.7/dist-packages/sklearn/base.py:439: UserWarning: X has feature names, but SelectFromModel was fitted without feature names\n",
            "  f\"X has feature names, but {self.__class__.__name__} was fitted without\"\n"
          ]
        },
        {
          "output_type": "stream",
          "name": "stdout",
          "text": [
            "Thresh=0.020, n=25, Accuracy: 85.88%\n",
            "Thresh=0.021, n=24, Accuracy: 85.31%\n"
          ]
        },
        {
          "output_type": "stream",
          "name": "stderr",
          "text": [
            "/usr/local/lib/python3.7/dist-packages/sklearn/base.py:439: UserWarning: X has feature names, but SelectFromModel was fitted without feature names\n",
            "  f\"X has feature names, but {self.__class__.__name__} was fitted without\"\n",
            "/usr/local/lib/python3.7/dist-packages/sklearn/base.py:439: UserWarning: X has feature names, but SelectFromModel was fitted without feature names\n",
            "  f\"X has feature names, but {self.__class__.__name__} was fitted without\"\n",
            "/usr/local/lib/python3.7/dist-packages/sklearn/base.py:439: UserWarning: X has feature names, but SelectFromModel was fitted without feature names\n",
            "  f\"X has feature names, but {self.__class__.__name__} was fitted without\"\n",
            "/usr/local/lib/python3.7/dist-packages/sklearn/base.py:439: UserWarning: X has feature names, but SelectFromModel was fitted without feature names\n",
            "  f\"X has feature names, but {self.__class__.__name__} was fitted without\"\n"
          ]
        },
        {
          "output_type": "stream",
          "name": "stdout",
          "text": [
            "Thresh=0.021, n=23, Accuracy: 85.31%\n",
            "Thresh=0.021, n=22, Accuracy: 84.75%\n"
          ]
        },
        {
          "output_type": "stream",
          "name": "stderr",
          "text": [
            "/usr/local/lib/python3.7/dist-packages/sklearn/base.py:439: UserWarning: X has feature names, but SelectFromModel was fitted without feature names\n",
            "  f\"X has feature names, but {self.__class__.__name__} was fitted without\"\n",
            "/usr/local/lib/python3.7/dist-packages/sklearn/base.py:439: UserWarning: X has feature names, but SelectFromModel was fitted without feature names\n",
            "  f\"X has feature names, but {self.__class__.__name__} was fitted without\"\n",
            "/usr/local/lib/python3.7/dist-packages/sklearn/base.py:439: UserWarning: X has feature names, but SelectFromModel was fitted without feature names\n",
            "  f\"X has feature names, but {self.__class__.__name__} was fitted without\"\n",
            "/usr/local/lib/python3.7/dist-packages/sklearn/base.py:439: UserWarning: X has feature names, but SelectFromModel was fitted without feature names\n",
            "  f\"X has feature names, but {self.__class__.__name__} was fitted without\"\n"
          ]
        },
        {
          "output_type": "stream",
          "name": "stdout",
          "text": [
            "Thresh=0.021, n=21, Accuracy: 84.18%\n",
            "Thresh=0.022, n=20, Accuracy: 84.46%\n"
          ]
        },
        {
          "output_type": "stream",
          "name": "stderr",
          "text": [
            "/usr/local/lib/python3.7/dist-packages/sklearn/base.py:439: UserWarning: X has feature names, but SelectFromModel was fitted without feature names\n",
            "  f\"X has feature names, but {self.__class__.__name__} was fitted without\"\n",
            "/usr/local/lib/python3.7/dist-packages/sklearn/base.py:439: UserWarning: X has feature names, but SelectFromModel was fitted without feature names\n",
            "  f\"X has feature names, but {self.__class__.__name__} was fitted without\"\n",
            "/usr/local/lib/python3.7/dist-packages/sklearn/base.py:439: UserWarning: X has feature names, but SelectFromModel was fitted without feature names\n",
            "  f\"X has feature names, but {self.__class__.__name__} was fitted without\"\n",
            "/usr/local/lib/python3.7/dist-packages/sklearn/base.py:439: UserWarning: X has feature names, but SelectFromModel was fitted without feature names\n",
            "  f\"X has feature names, but {self.__class__.__name__} was fitted without\"\n"
          ]
        },
        {
          "output_type": "stream",
          "name": "stdout",
          "text": [
            "Thresh=0.022, n=19, Accuracy: 84.18%\n",
            "Thresh=0.022, n=18, Accuracy: 85.03%\n"
          ]
        },
        {
          "output_type": "stream",
          "name": "stderr",
          "text": [
            "/usr/local/lib/python3.7/dist-packages/sklearn/base.py:439: UserWarning: X has feature names, but SelectFromModel was fitted without feature names\n",
            "  f\"X has feature names, but {self.__class__.__name__} was fitted without\"\n",
            "/usr/local/lib/python3.7/dist-packages/sklearn/base.py:439: UserWarning: X has feature names, but SelectFromModel was fitted without feature names\n",
            "  f\"X has feature names, but {self.__class__.__name__} was fitted without\"\n",
            "/usr/local/lib/python3.7/dist-packages/sklearn/base.py:439: UserWarning: X has feature names, but SelectFromModel was fitted without feature names\n",
            "  f\"X has feature names, but {self.__class__.__name__} was fitted without\"\n",
            "/usr/local/lib/python3.7/dist-packages/sklearn/base.py:439: UserWarning: X has feature names, but SelectFromModel was fitted without feature names\n",
            "  f\"X has feature names, but {self.__class__.__name__} was fitted without\"\n"
          ]
        },
        {
          "output_type": "stream",
          "name": "stdout",
          "text": [
            "Thresh=0.023, n=17, Accuracy: 85.03%\n",
            "Thresh=0.023, n=16, Accuracy: 84.46%\n"
          ]
        },
        {
          "output_type": "stream",
          "name": "stderr",
          "text": [
            "/usr/local/lib/python3.7/dist-packages/sklearn/base.py:439: UserWarning: X has feature names, but SelectFromModel was fitted without feature names\n",
            "  f\"X has feature names, but {self.__class__.__name__} was fitted without\"\n",
            "/usr/local/lib/python3.7/dist-packages/sklearn/base.py:439: UserWarning: X has feature names, but SelectFromModel was fitted without feature names\n",
            "  f\"X has feature names, but {self.__class__.__name__} was fitted without\"\n",
            "/usr/local/lib/python3.7/dist-packages/sklearn/base.py:439: UserWarning: X has feature names, but SelectFromModel was fitted without feature names\n",
            "  f\"X has feature names, but {self.__class__.__name__} was fitted without\"\n",
            "/usr/local/lib/python3.7/dist-packages/sklearn/base.py:439: UserWarning: X has feature names, but SelectFromModel was fitted without feature names\n",
            "  f\"X has feature names, but {self.__class__.__name__} was fitted without\"\n"
          ]
        },
        {
          "output_type": "stream",
          "name": "stdout",
          "text": [
            "Thresh=0.023, n=15, Accuracy: 84.75%\n",
            "Thresh=0.023, n=14, Accuracy: 84.75%\n"
          ]
        },
        {
          "output_type": "stream",
          "name": "stderr",
          "text": [
            "/usr/local/lib/python3.7/dist-packages/sklearn/base.py:439: UserWarning: X has feature names, but SelectFromModel was fitted without feature names\n",
            "  f\"X has feature names, but {self.__class__.__name__} was fitted without\"\n",
            "/usr/local/lib/python3.7/dist-packages/sklearn/base.py:439: UserWarning: X has feature names, but SelectFromModel was fitted without feature names\n",
            "  f\"X has feature names, but {self.__class__.__name__} was fitted without\"\n",
            "/usr/local/lib/python3.7/dist-packages/sklearn/base.py:439: UserWarning: X has feature names, but SelectFromModel was fitted without feature names\n",
            "  f\"X has feature names, but {self.__class__.__name__} was fitted without\"\n",
            "/usr/local/lib/python3.7/dist-packages/sklearn/base.py:439: UserWarning: X has feature names, but SelectFromModel was fitted without feature names\n",
            "  f\"X has feature names, but {self.__class__.__name__} was fitted without\"\n"
          ]
        },
        {
          "output_type": "stream",
          "name": "stdout",
          "text": [
            "Thresh=0.023, n=13, Accuracy: 85.03%\n",
            "Thresh=0.024, n=12, Accuracy: 85.03%\n"
          ]
        },
        {
          "output_type": "stream",
          "name": "stderr",
          "text": [
            "/usr/local/lib/python3.7/dist-packages/sklearn/base.py:439: UserWarning: X has feature names, but SelectFromModel was fitted without feature names\n",
            "  f\"X has feature names, but {self.__class__.__name__} was fitted without\"\n",
            "/usr/local/lib/python3.7/dist-packages/sklearn/base.py:439: UserWarning: X has feature names, but SelectFromModel was fitted without feature names\n",
            "  f\"X has feature names, but {self.__class__.__name__} was fitted without\"\n",
            "/usr/local/lib/python3.7/dist-packages/sklearn/base.py:439: UserWarning: X has feature names, but SelectFromModel was fitted without feature names\n",
            "  f\"X has feature names, but {self.__class__.__name__} was fitted without\"\n",
            "/usr/local/lib/python3.7/dist-packages/sklearn/base.py:439: UserWarning: X has feature names, but SelectFromModel was fitted without feature names\n",
            "  f\"X has feature names, but {self.__class__.__name__} was fitted without\"\n"
          ]
        },
        {
          "output_type": "stream",
          "name": "stdout",
          "text": [
            "Thresh=0.026, n=11, Accuracy: 85.03%\n",
            "Thresh=0.027, n=10, Accuracy: 84.75%\n",
            "Thresh=0.027, n=9, Accuracy: 85.03%\n"
          ]
        },
        {
          "output_type": "stream",
          "name": "stderr",
          "text": [
            "/usr/local/lib/python3.7/dist-packages/sklearn/base.py:439: UserWarning: X has feature names, but SelectFromModel was fitted without feature names\n",
            "  f\"X has feature names, but {self.__class__.__name__} was fitted without\"\n",
            "/usr/local/lib/python3.7/dist-packages/sklearn/base.py:439: UserWarning: X has feature names, but SelectFromModel was fitted without feature names\n",
            "  f\"X has feature names, but {self.__class__.__name__} was fitted without\"\n",
            "/usr/local/lib/python3.7/dist-packages/sklearn/base.py:439: UserWarning: X has feature names, but SelectFromModel was fitted without feature names\n",
            "  f\"X has feature names, but {self.__class__.__name__} was fitted without\"\n",
            "/usr/local/lib/python3.7/dist-packages/sklearn/base.py:439: UserWarning: X has feature names, but SelectFromModel was fitted without feature names\n",
            "  f\"X has feature names, but {self.__class__.__name__} was fitted without\"\n",
            "/usr/local/lib/python3.7/dist-packages/sklearn/base.py:439: UserWarning: X has feature names, but SelectFromModel was fitted without feature names\n",
            "  f\"X has feature names, but {self.__class__.__name__} was fitted without\"\n"
          ]
        },
        {
          "output_type": "stream",
          "name": "stdout",
          "text": [
            "Thresh=0.027, n=8, Accuracy: 84.75%\n",
            "Thresh=0.029, n=7, Accuracy: 85.31%\n",
            "Thresh=0.031, n=6, Accuracy: 85.59%\n"
          ]
        },
        {
          "output_type": "stream",
          "name": "stderr",
          "text": [
            "/usr/local/lib/python3.7/dist-packages/sklearn/base.py:439: UserWarning: X has feature names, but SelectFromModel was fitted without feature names\n",
            "  f\"X has feature names, but {self.__class__.__name__} was fitted without\"\n",
            "/usr/local/lib/python3.7/dist-packages/sklearn/base.py:439: UserWarning: X has feature names, but SelectFromModel was fitted without feature names\n",
            "  f\"X has feature names, but {self.__class__.__name__} was fitted without\"\n",
            "/usr/local/lib/python3.7/dist-packages/sklearn/base.py:439: UserWarning: X has feature names, but SelectFromModel was fitted without feature names\n",
            "  f\"X has feature names, but {self.__class__.__name__} was fitted without\"\n",
            "/usr/local/lib/python3.7/dist-packages/sklearn/base.py:439: UserWarning: X has feature names, but SelectFromModel was fitted without feature names\n",
            "  f\"X has feature names, but {self.__class__.__name__} was fitted without\"\n",
            "/usr/local/lib/python3.7/dist-packages/sklearn/base.py:439: UserWarning: X has feature names, but SelectFromModel was fitted without feature names\n",
            "  f\"X has feature names, but {self.__class__.__name__} was fitted without\"\n",
            "/usr/local/lib/python3.7/dist-packages/sklearn/base.py:439: UserWarning: X has feature names, but SelectFromModel was fitted without feature names\n",
            "  f\"X has feature names, but {self.__class__.__name__} was fitted without\"\n",
            "/usr/local/lib/python3.7/dist-packages/sklearn/base.py:439: UserWarning: X has feature names, but SelectFromModel was fitted without feature names\n",
            "  f\"X has feature names, but {self.__class__.__name__} was fitted without\"\n",
            "/usr/local/lib/python3.7/dist-packages/sklearn/base.py:439: UserWarning: X has feature names, but SelectFromModel was fitted without feature names\n",
            "  f\"X has feature names, but {self.__class__.__name__} was fitted without\"\n",
            "/usr/local/lib/python3.7/dist-packages/sklearn/base.py:439: UserWarning: X has feature names, but SelectFromModel was fitted without feature names\n",
            "  f\"X has feature names, but {self.__class__.__name__} was fitted without\"\n",
            "/usr/local/lib/python3.7/dist-packages/sklearn/base.py:439: UserWarning: X has feature names, but SelectFromModel was fitted without feature names\n",
            "  f\"X has feature names, but {self.__class__.__name__} was fitted without\"\n",
            "/usr/local/lib/python3.7/dist-packages/sklearn/base.py:439: UserWarning: X has feature names, but SelectFromModel was fitted without feature names\n",
            "  f\"X has feature names, but {self.__class__.__name__} was fitted without\"\n",
            "/usr/local/lib/python3.7/dist-packages/sklearn/base.py:439: UserWarning: X has feature names, but SelectFromModel was fitted without feature names\n",
            "  f\"X has feature names, but {self.__class__.__name__} was fitted without\"\n"
          ]
        },
        {
          "output_type": "stream",
          "name": "stdout",
          "text": [
            "Thresh=0.032, n=5, Accuracy: 85.31%\n",
            "Thresh=0.034, n=4, Accuracy: 85.31%\n",
            "Thresh=0.043, n=3, Accuracy: 85.03%\n",
            "Thresh=0.051, n=2, Accuracy: 84.46%\n",
            "Thresh=0.059, n=1, Accuracy: 83.62%\n"
          ]
        },
        {
          "output_type": "stream",
          "name": "stderr",
          "text": [
            "/usr/local/lib/python3.7/dist-packages/sklearn/base.py:439: UserWarning: X has feature names, but SelectFromModel was fitted without feature names\n",
            "  f\"X has feature names, but {self.__class__.__name__} was fitted without\"\n",
            "/usr/local/lib/python3.7/dist-packages/sklearn/base.py:439: UserWarning: X has feature names, but SelectFromModel was fitted without feature names\n",
            "  f\"X has feature names, but {self.__class__.__name__} was fitted without\"\n"
          ]
        }
      ]
    },
    {
      "cell_type": "markdown",
      "source": [
        "**CatBoost**"
      ],
      "metadata": {
        "id": "EELuFZSclUU2"
      }
    },
    {
      "cell_type": "code",
      "source": [
        "!pip install catboost"
      ],
      "metadata": {
        "id": "g3yUYreKfOUe",
        "colab": {
          "base_uri": "https://localhost:8080/"
        },
        "outputId": "a9325bc9-1f30-4ead-dbb9-5196576402ae"
      },
      "execution_count": 53,
      "outputs": [
        {
          "output_type": "stream",
          "name": "stdout",
          "text": [
            "Collecting catboost\n",
            "  Downloading catboost-1.0.3-cp37-none-manylinux1_x86_64.whl (76.3 MB)\n",
            "\u001b[K     |████████████████████████████████| 76.3 MB 49 kB/s \n",
            "\u001b[?25hRequirement already satisfied: six in /usr/local/lib/python3.7/dist-packages (from catboost) (1.15.0)\n",
            "Requirement already satisfied: numpy>=1.16.0 in /usr/local/lib/python3.7/dist-packages (from catboost) (1.19.5)\n",
            "Requirement already satisfied: plotly in /usr/local/lib/python3.7/dist-packages (from catboost) (4.4.1)\n",
            "Requirement already satisfied: graphviz in /usr/local/lib/python3.7/dist-packages (from catboost) (0.10.1)\n",
            "Requirement already satisfied: scipy in /usr/local/lib/python3.7/dist-packages (from catboost) (1.4.1)\n",
            "Requirement already satisfied: matplotlib in /usr/local/lib/python3.7/dist-packages (from catboost) (3.2.2)\n",
            "Requirement already satisfied: pandas>=0.24.0 in /usr/local/lib/python3.7/dist-packages (from catboost) (1.1.5)\n",
            "Requirement already satisfied: pytz>=2017.2 in /usr/local/lib/python3.7/dist-packages (from pandas>=0.24.0->catboost) (2018.9)\n",
            "Requirement already satisfied: python-dateutil>=2.7.3 in /usr/local/lib/python3.7/dist-packages (from pandas>=0.24.0->catboost) (2.8.2)\n",
            "Requirement already satisfied: pyparsing!=2.0.4,!=2.1.2,!=2.1.6,>=2.0.1 in /usr/local/lib/python3.7/dist-packages (from matplotlib->catboost) (3.0.6)\n",
            "Requirement already satisfied: cycler>=0.10 in /usr/local/lib/python3.7/dist-packages (from matplotlib->catboost) (0.11.0)\n",
            "Requirement already satisfied: kiwisolver>=1.0.1 in /usr/local/lib/python3.7/dist-packages (from matplotlib->catboost) (1.3.2)\n",
            "Requirement already satisfied: retrying>=1.3.3 in /usr/local/lib/python3.7/dist-packages (from plotly->catboost) (1.3.3)\n",
            "Installing collected packages: catboost\n",
            "Successfully installed catboost-1.0.3\n"
          ]
        }
      ]
    },
    {
      "cell_type": "code",
      "source": [
        "from catboost import CatBoostClassifier, Pool"
      ],
      "metadata": {
        "id": "Ityt1UOtfYkU"
      },
      "execution_count": 54,
      "outputs": []
    },
    {
      "cell_type": "code",
      "source": [
        "\n",
        "\n",
        "# fit model on all training data\n",
        "best_params = {'bagging_temperature': 0.8,\n",
        "               'depth': 5,\n",
        "               'iterations': 500,\n",
        "               'l2_leaf_reg': 30,\n",
        "               'learning_rate': 0.05,\n",
        "               'random_strength': 0.8}\n",
        "\n",
        "model_cat_boost = CatBoostClassifier(\n",
        "        **best_params,\n",
        "        loss_function='Logloss',\n",
        "        eval_metric='Accuracy',         \n",
        "        nan_mode='Min',\n",
        "        verbose=False\n",
        "    )\n",
        "\n",
        "model_cat_boost.fit(\n",
        "        X_train, Y_train,\n",
        "        verbose_eval=100,\n",
        "        early_stopping_rounds=50,\n",
        "        eval_set=(X_test, Y_test),\n",
        "        use_best_model=False,\n",
        "        plot=True\n",
        ")\n",
        "\n",
        "# make predictions for test data and evaluate\n",
        "y_pred = model_cat_boost.predict(X_test)\n",
        "predictions = [round(value) for value in y_pred]\n",
        "accuracy = accuracy_score(Y_test, y_pred)\n",
        "print(\"Accuracy: %.2f%%\" % (accuracy * 100.0))\n",
        "\n",
        "# Fit model using each importance as a threshold\n",
        "thresholds = sorted(model.feature_importances_)\n",
        "for thresh in thresholds:\n",
        "    # select features using threshold\n",
        "    selection = SelectFromModel(model, threshold=thresh, prefit=True)\n",
        "    select_X_train = selection.transform(X_train)\n",
        "    \n",
        "    \n",
        "    # eval model\n",
        "    select_X_test = selection.transform(X_test)\n",
        "    y_pred = model_cat_boost.predict(X_test)\n",
        "    predictions = [round(value) for value in y_pred]\n",
        "    cm_cat_boost = confusion_matrix(y_pred, Y_test)\n",
        "    accuracy = accuracy_score(Y_test, predictions)\n",
        "    print(\"Thresh=%.3f, n=%d, Accuracy: %.2f%%\" % (thresh, select_X_train.shape[1], accuracy*100.0))"
      ],
      "metadata": {
        "id": "BwZU9GCm8BMI",
        "colab": {
          "base_uri": "https://localhost:8080/",
          "height": 1000,
          "referenced_widgets": [
            "27288abe53434b6bb3dca21d52b8b48b"
          ]
        },
        "outputId": "279a9030-5b8d-483d-e560-da994f6e7f9a"
      },
      "execution_count": 56,
      "outputs": [
        {
          "output_type": "display_data",
          "data": {
            "application/vnd.jupyter.widget-view+json": {
              "model_id": "27288abe53434b6bb3dca21d52b8b48b",
              "version_minor": 0,
              "version_major": 2
            },
            "text/plain": [
              "MetricVisualizer(layout=Layout(align_self='stretch', height='500px'))"
            ]
          },
          "metadata": {}
        },
        {
          "output_type": "stream",
          "name": "stdout",
          "text": [
            "0:\tlearn: 0.8797084\ttest: 0.8389831\tbest: 0.8389831 (0)\ttotal: 37.7ms\tremaining: 18.8s\n",
            "100:\tlearn: 0.9161604\ttest: 0.8559322\tbest: 0.8559322 (71)\ttotal: 2.07s\tremaining: 8.18s\n",
            "Stopped by overfitting detector  (50 iterations wait)\n",
            "\n",
            "bestTest = 0.8559322034\n",
            "bestIteration = 71\n",
            "\n",
            "Accuracy: 85.59%\n"
          ]
        },
        {
          "output_type": "stream",
          "name": "stderr",
          "text": [
            "/usr/local/lib/python3.7/dist-packages/sklearn/base.py:439: UserWarning: X has feature names, but SelectFromModel was fitted without feature names\n",
            "  f\"X has feature names, but {self.__class__.__name__} was fitted without\"\n",
            "/usr/local/lib/python3.7/dist-packages/sklearn/base.py:439: UserWarning: X has feature names, but SelectFromModel was fitted without feature names\n",
            "  f\"X has feature names, but {self.__class__.__name__} was fitted without\"\n",
            "/usr/local/lib/python3.7/dist-packages/sklearn/base.py:439: UserWarning: X has feature names, but SelectFromModel was fitted without feature names\n",
            "  f\"X has feature names, but {self.__class__.__name__} was fitted without\"\n",
            "/usr/local/lib/python3.7/dist-packages/sklearn/base.py:439: UserWarning: X has feature names, but SelectFromModel was fitted without feature names\n",
            "  f\"X has feature names, but {self.__class__.__name__} was fitted without\"\n"
          ]
        },
        {
          "output_type": "stream",
          "name": "stdout",
          "text": [
            "Thresh=0.000, n=48, Accuracy: 85.59%\n",
            "Thresh=0.000, n=48, Accuracy: 85.59%\n",
            "Thresh=0.000, n=48, Accuracy: 85.59%\n"
          ]
        },
        {
          "output_type": "stream",
          "name": "stderr",
          "text": [
            "/usr/local/lib/python3.7/dist-packages/sklearn/base.py:439: UserWarning: X has feature names, but SelectFromModel was fitted without feature names\n",
            "  f\"X has feature names, but {self.__class__.__name__} was fitted without\"\n",
            "/usr/local/lib/python3.7/dist-packages/sklearn/base.py:439: UserWarning: X has feature names, but SelectFromModel was fitted without feature names\n",
            "  f\"X has feature names, but {self.__class__.__name__} was fitted without\"\n",
            "/usr/local/lib/python3.7/dist-packages/sklearn/base.py:439: UserWarning: X has feature names, but SelectFromModel was fitted without feature names\n",
            "  f\"X has feature names, but {self.__class__.__name__} was fitted without\"\n",
            "/usr/local/lib/python3.7/dist-packages/sklearn/base.py:439: UserWarning: X has feature names, but SelectFromModel was fitted without feature names\n",
            "  f\"X has feature names, but {self.__class__.__name__} was fitted without\"\n"
          ]
        },
        {
          "output_type": "stream",
          "name": "stdout",
          "text": [
            "Thresh=0.000, n=48, Accuracy: 85.59%\n",
            "Thresh=0.007, n=44, Accuracy: 85.59%\n",
            "Thresh=0.013, n=43, Accuracy: 85.59%\n",
            "Thresh=0.014, n=42, Accuracy: 85.59%\n"
          ]
        },
        {
          "output_type": "stream",
          "name": "stderr",
          "text": [
            "/usr/local/lib/python3.7/dist-packages/sklearn/base.py:439: UserWarning: X has feature names, but SelectFromModel was fitted without feature names\n",
            "  f\"X has feature names, but {self.__class__.__name__} was fitted without\"\n",
            "/usr/local/lib/python3.7/dist-packages/sklearn/base.py:439: UserWarning: X has feature names, but SelectFromModel was fitted without feature names\n",
            "  f\"X has feature names, but {self.__class__.__name__} was fitted without\"\n",
            "/usr/local/lib/python3.7/dist-packages/sklearn/base.py:439: UserWarning: X has feature names, but SelectFromModel was fitted without feature names\n",
            "  f\"X has feature names, but {self.__class__.__name__} was fitted without\"\n",
            "/usr/local/lib/python3.7/dist-packages/sklearn/base.py:439: UserWarning: X has feature names, but SelectFromModel was fitted without feature names\n",
            "  f\"X has feature names, but {self.__class__.__name__} was fitted without\"\n",
            "/usr/local/lib/python3.7/dist-packages/sklearn/base.py:439: UserWarning: X has feature names, but SelectFromModel was fitted without feature names\n",
            "  f\"X has feature names, but {self.__class__.__name__} was fitted without\"\n",
            "/usr/local/lib/python3.7/dist-packages/sklearn/base.py:439: UserWarning: X has feature names, but SelectFromModel was fitted without feature names\n",
            "  f\"X has feature names, but {self.__class__.__name__} was fitted without\"\n",
            "/usr/local/lib/python3.7/dist-packages/sklearn/base.py:439: UserWarning: X has feature names, but SelectFromModel was fitted without feature names\n",
            "  f\"X has feature names, but {self.__class__.__name__} was fitted without\"\n",
            "/usr/local/lib/python3.7/dist-packages/sklearn/base.py:439: UserWarning: X has feature names, but SelectFromModel was fitted without feature names\n",
            "  f\"X has feature names, but {self.__class__.__name__} was fitted without\"\n",
            "/usr/local/lib/python3.7/dist-packages/sklearn/base.py:439: UserWarning: X has feature names, but SelectFromModel was fitted without feature names\n",
            "  f\"X has feature names, but {self.__class__.__name__} was fitted without\"\n",
            "/usr/local/lib/python3.7/dist-packages/sklearn/base.py:439: UserWarning: X has feature names, but SelectFromModel was fitted without feature names\n",
            "  f\"X has feature names, but {self.__class__.__name__} was fitted without\"\n"
          ]
        },
        {
          "output_type": "stream",
          "name": "stdout",
          "text": [
            "Thresh=0.014, n=41, Accuracy: 85.59%\n",
            "Thresh=0.015, n=40, Accuracy: 85.59%\n",
            "Thresh=0.015, n=39, Accuracy: 85.59%\n"
          ]
        },
        {
          "output_type": "stream",
          "name": "stderr",
          "text": [
            "/usr/local/lib/python3.7/dist-packages/sklearn/base.py:439: UserWarning: X has feature names, but SelectFromModel was fitted without feature names\n",
            "  f\"X has feature names, but {self.__class__.__name__} was fitted without\"\n",
            "/usr/local/lib/python3.7/dist-packages/sklearn/base.py:439: UserWarning: X has feature names, but SelectFromModel was fitted without feature names\n",
            "  f\"X has feature names, but {self.__class__.__name__} was fitted without\"\n",
            "/usr/local/lib/python3.7/dist-packages/sklearn/base.py:439: UserWarning: X has feature names, but SelectFromModel was fitted without feature names\n",
            "  f\"X has feature names, but {self.__class__.__name__} was fitted without\"\n",
            "/usr/local/lib/python3.7/dist-packages/sklearn/base.py:439: UserWarning: X has feature names, but SelectFromModel was fitted without feature names\n",
            "  f\"X has feature names, but {self.__class__.__name__} was fitted without\"\n",
            "/usr/local/lib/python3.7/dist-packages/sklearn/base.py:439: UserWarning: X has feature names, but SelectFromModel was fitted without feature names\n",
            "  f\"X has feature names, but {self.__class__.__name__} was fitted without\"\n",
            "/usr/local/lib/python3.7/dist-packages/sklearn/base.py:439: UserWarning: X has feature names, but SelectFromModel was fitted without feature names\n",
            "  f\"X has feature names, but {self.__class__.__name__} was fitted without\"\n"
          ]
        },
        {
          "output_type": "stream",
          "name": "stdout",
          "text": [
            "Thresh=0.015, n=38, Accuracy: 85.59%\n",
            "Thresh=0.015, n=37, Accuracy: 85.59%\n",
            "Thresh=0.016, n=36, Accuracy: 85.59%\n"
          ]
        },
        {
          "output_type": "stream",
          "name": "stderr",
          "text": [
            "/usr/local/lib/python3.7/dist-packages/sklearn/base.py:439: UserWarning: X has feature names, but SelectFromModel was fitted without feature names\n",
            "  f\"X has feature names, but {self.__class__.__name__} was fitted without\"\n",
            "/usr/local/lib/python3.7/dist-packages/sklearn/base.py:439: UserWarning: X has feature names, but SelectFromModel was fitted without feature names\n",
            "  f\"X has feature names, but {self.__class__.__name__} was fitted without\"\n",
            "/usr/local/lib/python3.7/dist-packages/sklearn/base.py:439: UserWarning: X has feature names, but SelectFromModel was fitted without feature names\n",
            "  f\"X has feature names, but {self.__class__.__name__} was fitted without\"\n",
            "/usr/local/lib/python3.7/dist-packages/sklearn/base.py:439: UserWarning: X has feature names, but SelectFromModel was fitted without feature names\n",
            "  f\"X has feature names, but {self.__class__.__name__} was fitted without\"\n",
            "/usr/local/lib/python3.7/dist-packages/sklearn/base.py:439: UserWarning: X has feature names, but SelectFromModel was fitted without feature names\n",
            "  f\"X has feature names, but {self.__class__.__name__} was fitted without\"\n",
            "/usr/local/lib/python3.7/dist-packages/sklearn/base.py:439: UserWarning: X has feature names, but SelectFromModel was fitted without feature names\n",
            "  f\"X has feature names, but {self.__class__.__name__} was fitted without\"\n"
          ]
        },
        {
          "output_type": "stream",
          "name": "stdout",
          "text": [
            "Thresh=0.016, n=35, Accuracy: 85.59%\n",
            "Thresh=0.016, n=34, Accuracy: 85.59%\n"
          ]
        },
        {
          "output_type": "stream",
          "name": "stderr",
          "text": [
            "/usr/local/lib/python3.7/dist-packages/sklearn/base.py:439: UserWarning: X has feature names, but SelectFromModel was fitted without feature names\n",
            "  f\"X has feature names, but {self.__class__.__name__} was fitted without\"\n",
            "/usr/local/lib/python3.7/dist-packages/sklearn/base.py:439: UserWarning: X has feature names, but SelectFromModel was fitted without feature names\n",
            "  f\"X has feature names, but {self.__class__.__name__} was fitted without\"\n",
            "/usr/local/lib/python3.7/dist-packages/sklearn/base.py:439: UserWarning: X has feature names, but SelectFromModel was fitted without feature names\n",
            "  f\"X has feature names, but {self.__class__.__name__} was fitted without\"\n"
          ]
        },
        {
          "output_type": "stream",
          "name": "stdout",
          "text": [
            "Thresh=0.017, n=33, Accuracy: 85.59%\n",
            "Thresh=0.017, n=32, Accuracy: 85.59%\n",
            "Thresh=0.018, n=31, Accuracy: 85.59%\n"
          ]
        },
        {
          "output_type": "stream",
          "name": "stderr",
          "text": [
            "/usr/local/lib/python3.7/dist-packages/sklearn/base.py:439: UserWarning: X has feature names, but SelectFromModel was fitted without feature names\n",
            "  f\"X has feature names, but {self.__class__.__name__} was fitted without\"\n",
            "/usr/local/lib/python3.7/dist-packages/sklearn/base.py:439: UserWarning: X has feature names, but SelectFromModel was fitted without feature names\n",
            "  f\"X has feature names, but {self.__class__.__name__} was fitted without\"\n",
            "/usr/local/lib/python3.7/dist-packages/sklearn/base.py:439: UserWarning: X has feature names, but SelectFromModel was fitted without feature names\n",
            "  f\"X has feature names, but {self.__class__.__name__} was fitted without\"\n",
            "/usr/local/lib/python3.7/dist-packages/sklearn/base.py:439: UserWarning: X has feature names, but SelectFromModel was fitted without feature names\n",
            "  f\"X has feature names, but {self.__class__.__name__} was fitted without\"\n",
            "/usr/local/lib/python3.7/dist-packages/sklearn/base.py:439: UserWarning: X has feature names, but SelectFromModel was fitted without feature names\n",
            "  f\"X has feature names, but {self.__class__.__name__} was fitted without\"\n",
            "/usr/local/lib/python3.7/dist-packages/sklearn/base.py:439: UserWarning: X has feature names, but SelectFromModel was fitted without feature names\n",
            "  f\"X has feature names, but {self.__class__.__name__} was fitted without\"\n"
          ]
        },
        {
          "output_type": "stream",
          "name": "stdout",
          "text": [
            "Thresh=0.018, n=30, Accuracy: 85.59%\n",
            "Thresh=0.018, n=29, Accuracy: 85.59%\n",
            "Thresh=0.019, n=28, Accuracy: 85.59%\n",
            "Thresh=0.020, n=27, Accuracy: 85.59%\n"
          ]
        },
        {
          "output_type": "stream",
          "name": "stderr",
          "text": [
            "/usr/local/lib/python3.7/dist-packages/sklearn/base.py:439: UserWarning: X has feature names, but SelectFromModel was fitted without feature names\n",
            "  f\"X has feature names, but {self.__class__.__name__} was fitted without\"\n",
            "/usr/local/lib/python3.7/dist-packages/sklearn/base.py:439: UserWarning: X has feature names, but SelectFromModel was fitted without feature names\n",
            "  f\"X has feature names, but {self.__class__.__name__} was fitted without\"\n",
            "/usr/local/lib/python3.7/dist-packages/sklearn/base.py:439: UserWarning: X has feature names, but SelectFromModel was fitted without feature names\n",
            "  f\"X has feature names, but {self.__class__.__name__} was fitted without\"\n",
            "/usr/local/lib/python3.7/dist-packages/sklearn/base.py:439: UserWarning: X has feature names, but SelectFromModel was fitted without feature names\n",
            "  f\"X has feature names, but {self.__class__.__name__} was fitted without\"\n",
            "/usr/local/lib/python3.7/dist-packages/sklearn/base.py:439: UserWarning: X has feature names, but SelectFromModel was fitted without feature names\n",
            "  f\"X has feature names, but {self.__class__.__name__} was fitted without\"\n",
            "/usr/local/lib/python3.7/dist-packages/sklearn/base.py:439: UserWarning: X has feature names, but SelectFromModel was fitted without feature names\n",
            "  f\"X has feature names, but {self.__class__.__name__} was fitted without\"\n",
            "/usr/local/lib/python3.7/dist-packages/sklearn/base.py:439: UserWarning: X has feature names, but SelectFromModel was fitted without feature names\n",
            "  f\"X has feature names, but {self.__class__.__name__} was fitted without\"\n"
          ]
        },
        {
          "output_type": "stream",
          "name": "stdout",
          "text": [
            "Thresh=0.020, n=26, Accuracy: 85.59%\n",
            "Thresh=0.020, n=25, Accuracy: 85.59%\n",
            "Thresh=0.021, n=24, Accuracy: 85.59%\n",
            "Thresh=0.021, n=23, Accuracy: 85.59%\n"
          ]
        },
        {
          "output_type": "stream",
          "name": "stderr",
          "text": [
            "/usr/local/lib/python3.7/dist-packages/sklearn/base.py:439: UserWarning: X has feature names, but SelectFromModel was fitted without feature names\n",
            "  f\"X has feature names, but {self.__class__.__name__} was fitted without\"\n",
            "/usr/local/lib/python3.7/dist-packages/sklearn/base.py:439: UserWarning: X has feature names, but SelectFromModel was fitted without feature names\n",
            "  f\"X has feature names, but {self.__class__.__name__} was fitted without\"\n",
            "/usr/local/lib/python3.7/dist-packages/sklearn/base.py:439: UserWarning: X has feature names, but SelectFromModel was fitted without feature names\n",
            "  f\"X has feature names, but {self.__class__.__name__} was fitted without\"\n",
            "/usr/local/lib/python3.7/dist-packages/sklearn/base.py:439: UserWarning: X has feature names, but SelectFromModel was fitted without feature names\n",
            "  f\"X has feature names, but {self.__class__.__name__} was fitted without\"\n",
            "/usr/local/lib/python3.7/dist-packages/sklearn/base.py:439: UserWarning: X has feature names, but SelectFromModel was fitted without feature names\n",
            "  f\"X has feature names, but {self.__class__.__name__} was fitted without\"\n",
            "/usr/local/lib/python3.7/dist-packages/sklearn/base.py:439: UserWarning: X has feature names, but SelectFromModel was fitted without feature names\n",
            "  f\"X has feature names, but {self.__class__.__name__} was fitted without\"\n",
            "/usr/local/lib/python3.7/dist-packages/sklearn/base.py:439: UserWarning: X has feature names, but SelectFromModel was fitted without feature names\n",
            "  f\"X has feature names, but {self.__class__.__name__} was fitted without\"\n",
            "/usr/local/lib/python3.7/dist-packages/sklearn/base.py:439: UserWarning: X has feature names, but SelectFromModel was fitted without feature names\n",
            "  f\"X has feature names, but {self.__class__.__name__} was fitted without\"\n"
          ]
        },
        {
          "output_type": "stream",
          "name": "stdout",
          "text": [
            "Thresh=0.021, n=22, Accuracy: 85.59%\n",
            "Thresh=0.021, n=21, Accuracy: 85.59%\n",
            "Thresh=0.022, n=20, Accuracy: 85.59%\n"
          ]
        },
        {
          "output_type": "stream",
          "name": "stderr",
          "text": [
            "/usr/local/lib/python3.7/dist-packages/sklearn/base.py:439: UserWarning: X has feature names, but SelectFromModel was fitted without feature names\n",
            "  f\"X has feature names, but {self.__class__.__name__} was fitted without\"\n",
            "/usr/local/lib/python3.7/dist-packages/sklearn/base.py:439: UserWarning: X has feature names, but SelectFromModel was fitted without feature names\n",
            "  f\"X has feature names, but {self.__class__.__name__} was fitted without\"\n",
            "/usr/local/lib/python3.7/dist-packages/sklearn/base.py:439: UserWarning: X has feature names, but SelectFromModel was fitted without feature names\n",
            "  f\"X has feature names, but {self.__class__.__name__} was fitted without\"\n",
            "/usr/local/lib/python3.7/dist-packages/sklearn/base.py:439: UserWarning: X has feature names, but SelectFromModel was fitted without feature names\n",
            "  f\"X has feature names, but {self.__class__.__name__} was fitted without\"\n",
            "/usr/local/lib/python3.7/dist-packages/sklearn/base.py:439: UserWarning: X has feature names, but SelectFromModel was fitted without feature names\n",
            "  f\"X has feature names, but {self.__class__.__name__} was fitted without\"\n",
            "/usr/local/lib/python3.7/dist-packages/sklearn/base.py:439: UserWarning: X has feature names, but SelectFromModel was fitted without feature names\n",
            "  f\"X has feature names, but {self.__class__.__name__} was fitted without\"\n"
          ]
        },
        {
          "output_type": "stream",
          "name": "stdout",
          "text": [
            "Thresh=0.022, n=19, Accuracy: 85.59%\n",
            "Thresh=0.022, n=18, Accuracy: 85.59%\n"
          ]
        },
        {
          "output_type": "stream",
          "name": "stderr",
          "text": [
            "/usr/local/lib/python3.7/dist-packages/sklearn/base.py:439: UserWarning: X has feature names, but SelectFromModel was fitted without feature names\n",
            "  f\"X has feature names, but {self.__class__.__name__} was fitted without\"\n",
            "/usr/local/lib/python3.7/dist-packages/sklearn/base.py:439: UserWarning: X has feature names, but SelectFromModel was fitted without feature names\n",
            "  f\"X has feature names, but {self.__class__.__name__} was fitted without\"\n",
            "/usr/local/lib/python3.7/dist-packages/sklearn/base.py:439: UserWarning: X has feature names, but SelectFromModel was fitted without feature names\n",
            "  f\"X has feature names, but {self.__class__.__name__} was fitted without\"\n",
            "/usr/local/lib/python3.7/dist-packages/sklearn/base.py:439: UserWarning: X has feature names, but SelectFromModel was fitted without feature names\n",
            "  f\"X has feature names, but {self.__class__.__name__} was fitted without\"\n"
          ]
        },
        {
          "output_type": "stream",
          "name": "stdout",
          "text": [
            "Thresh=0.023, n=17, Accuracy: 85.59%\n",
            "Thresh=0.023, n=16, Accuracy: 85.59%\n",
            "Thresh=0.023, n=15, Accuracy: 85.59%\n"
          ]
        },
        {
          "output_type": "stream",
          "name": "stderr",
          "text": [
            "/usr/local/lib/python3.7/dist-packages/sklearn/base.py:439: UserWarning: X has feature names, but SelectFromModel was fitted without feature names\n",
            "  f\"X has feature names, but {self.__class__.__name__} was fitted without\"\n",
            "/usr/local/lib/python3.7/dist-packages/sklearn/base.py:439: UserWarning: X has feature names, but SelectFromModel was fitted without feature names\n",
            "  f\"X has feature names, but {self.__class__.__name__} was fitted without\"\n",
            "/usr/local/lib/python3.7/dist-packages/sklearn/base.py:439: UserWarning: X has feature names, but SelectFromModel was fitted without feature names\n",
            "  f\"X has feature names, but {self.__class__.__name__} was fitted without\"\n",
            "/usr/local/lib/python3.7/dist-packages/sklearn/base.py:439: UserWarning: X has feature names, but SelectFromModel was fitted without feature names\n",
            "  f\"X has feature names, but {self.__class__.__name__} was fitted without\"\n",
            "/usr/local/lib/python3.7/dist-packages/sklearn/base.py:439: UserWarning: X has feature names, but SelectFromModel was fitted without feature names\n",
            "  f\"X has feature names, but {self.__class__.__name__} was fitted without\"\n",
            "/usr/local/lib/python3.7/dist-packages/sklearn/base.py:439: UserWarning: X has feature names, but SelectFromModel was fitted without feature names\n",
            "  f\"X has feature names, but {self.__class__.__name__} was fitted without\"\n"
          ]
        },
        {
          "output_type": "stream",
          "name": "stdout",
          "text": [
            "Thresh=0.023, n=14, Accuracy: 85.59%\n",
            "Thresh=0.023, n=13, Accuracy: 85.59%\n"
          ]
        },
        {
          "output_type": "stream",
          "name": "stderr",
          "text": [
            "/usr/local/lib/python3.7/dist-packages/sklearn/base.py:439: UserWarning: X has feature names, but SelectFromModel was fitted without feature names\n",
            "  f\"X has feature names, but {self.__class__.__name__} was fitted without\"\n",
            "/usr/local/lib/python3.7/dist-packages/sklearn/base.py:439: UserWarning: X has feature names, but SelectFromModel was fitted without feature names\n",
            "  f\"X has feature names, but {self.__class__.__name__} was fitted without\"\n",
            "/usr/local/lib/python3.7/dist-packages/sklearn/base.py:439: UserWarning: X has feature names, but SelectFromModel was fitted without feature names\n",
            "  f\"X has feature names, but {self.__class__.__name__} was fitted without\"\n",
            "/usr/local/lib/python3.7/dist-packages/sklearn/base.py:439: UserWarning: X has feature names, but SelectFromModel was fitted without feature names\n",
            "  f\"X has feature names, but {self.__class__.__name__} was fitted without\"\n"
          ]
        },
        {
          "output_type": "stream",
          "name": "stdout",
          "text": [
            "Thresh=0.024, n=12, Accuracy: 85.59%\n",
            "Thresh=0.026, n=11, Accuracy: 85.59%\n",
            "Thresh=0.027, n=10, Accuracy: 85.59%\n",
            "Thresh=0.027, n=9, Accuracy: 85.59%\n"
          ]
        },
        {
          "output_type": "stream",
          "name": "stderr",
          "text": [
            "/usr/local/lib/python3.7/dist-packages/sklearn/base.py:439: UserWarning: X has feature names, but SelectFromModel was fitted without feature names\n",
            "  f\"X has feature names, but {self.__class__.__name__} was fitted without\"\n",
            "/usr/local/lib/python3.7/dist-packages/sklearn/base.py:439: UserWarning: X has feature names, but SelectFromModel was fitted without feature names\n",
            "  f\"X has feature names, but {self.__class__.__name__} was fitted without\"\n",
            "/usr/local/lib/python3.7/dist-packages/sklearn/base.py:439: UserWarning: X has feature names, but SelectFromModel was fitted without feature names\n",
            "  f\"X has feature names, but {self.__class__.__name__} was fitted without\"\n",
            "/usr/local/lib/python3.7/dist-packages/sklearn/base.py:439: UserWarning: X has feature names, but SelectFromModel was fitted without feature names\n",
            "  f\"X has feature names, but {self.__class__.__name__} was fitted without\"\n",
            "/usr/local/lib/python3.7/dist-packages/sklearn/base.py:439: UserWarning: X has feature names, but SelectFromModel was fitted without feature names\n",
            "  f\"X has feature names, but {self.__class__.__name__} was fitted without\"\n",
            "/usr/local/lib/python3.7/dist-packages/sklearn/base.py:439: UserWarning: X has feature names, but SelectFromModel was fitted without feature names\n",
            "  f\"X has feature names, but {self.__class__.__name__} was fitted without\"\n",
            "/usr/local/lib/python3.7/dist-packages/sklearn/base.py:439: UserWarning: X has feature names, but SelectFromModel was fitted without feature names\n",
            "  f\"X has feature names, but {self.__class__.__name__} was fitted without\"\n",
            "/usr/local/lib/python3.7/dist-packages/sklearn/base.py:439: UserWarning: X has feature names, but SelectFromModel was fitted without feature names\n",
            "  f\"X has feature names, but {self.__class__.__name__} was fitted without\"\n",
            "/usr/local/lib/python3.7/dist-packages/sklearn/base.py:439: UserWarning: X has feature names, but SelectFromModel was fitted without feature names\n",
            "  f\"X has feature names, but {self.__class__.__name__} was fitted without\"\n",
            "/usr/local/lib/python3.7/dist-packages/sklearn/base.py:439: UserWarning: X has feature names, but SelectFromModel was fitted without feature names\n",
            "  f\"X has feature names, but {self.__class__.__name__} was fitted without\"\n",
            "/usr/local/lib/python3.7/dist-packages/sklearn/base.py:439: UserWarning: X has feature names, but SelectFromModel was fitted without feature names\n",
            "  f\"X has feature names, but {self.__class__.__name__} was fitted without\"\n",
            "/usr/local/lib/python3.7/dist-packages/sklearn/base.py:439: UserWarning: X has feature names, but SelectFromModel was fitted without feature names\n",
            "  f\"X has feature names, but {self.__class__.__name__} was fitted without\"\n",
            "/usr/local/lib/python3.7/dist-packages/sklearn/base.py:439: UserWarning: X has feature names, but SelectFromModel was fitted without feature names\n",
            "  f\"X has feature names, but {self.__class__.__name__} was fitted without\"\n",
            "/usr/local/lib/python3.7/dist-packages/sklearn/base.py:439: UserWarning: X has feature names, but SelectFromModel was fitted without feature names\n",
            "  f\"X has feature names, but {self.__class__.__name__} was fitted without\"\n",
            "/usr/local/lib/python3.7/dist-packages/sklearn/base.py:439: UserWarning: X has feature names, but SelectFromModel was fitted without feature names\n",
            "  f\"X has feature names, but {self.__class__.__name__} was fitted without\"\n"
          ]
        },
        {
          "output_type": "stream",
          "name": "stdout",
          "text": [
            "Thresh=0.027, n=8, Accuracy: 85.59%\n",
            "Thresh=0.029, n=7, Accuracy: 85.59%\n",
            "Thresh=0.031, n=6, Accuracy: 85.59%\n",
            "Thresh=0.032, n=5, Accuracy: 85.59%\n"
          ]
        },
        {
          "output_type": "stream",
          "name": "stderr",
          "text": [
            "/usr/local/lib/python3.7/dist-packages/sklearn/base.py:439: UserWarning: X has feature names, but SelectFromModel was fitted without feature names\n",
            "  f\"X has feature names, but {self.__class__.__name__} was fitted without\"\n",
            "/usr/local/lib/python3.7/dist-packages/sklearn/base.py:439: UserWarning: X has feature names, but SelectFromModel was fitted without feature names\n",
            "  f\"X has feature names, but {self.__class__.__name__} was fitted without\"\n",
            "/usr/local/lib/python3.7/dist-packages/sklearn/base.py:439: UserWarning: X has feature names, but SelectFromModel was fitted without feature names\n",
            "  f\"X has feature names, but {self.__class__.__name__} was fitted without\"\n",
            "/usr/local/lib/python3.7/dist-packages/sklearn/base.py:439: UserWarning: X has feature names, but SelectFromModel was fitted without feature names\n",
            "  f\"X has feature names, but {self.__class__.__name__} was fitted without\"\n",
            "/usr/local/lib/python3.7/dist-packages/sklearn/base.py:439: UserWarning: X has feature names, but SelectFromModel was fitted without feature names\n",
            "  f\"X has feature names, but {self.__class__.__name__} was fitted without\"\n",
            "/usr/local/lib/python3.7/dist-packages/sklearn/base.py:439: UserWarning: X has feature names, but SelectFromModel was fitted without feature names\n",
            "  f\"X has feature names, but {self.__class__.__name__} was fitted without\"\n"
          ]
        },
        {
          "output_type": "stream",
          "name": "stdout",
          "text": [
            "Thresh=0.034, n=4, Accuracy: 85.59%\n",
            "Thresh=0.043, n=3, Accuracy: 85.59%\n",
            "Thresh=0.051, n=2, Accuracy: 85.59%\n",
            "Thresh=0.059, n=1, Accuracy: 85.59%\n"
          ]
        },
        {
          "output_type": "stream",
          "name": "stderr",
          "text": [
            "/usr/local/lib/python3.7/dist-packages/sklearn/base.py:439: UserWarning: X has feature names, but SelectFromModel was fitted without feature names\n",
            "  f\"X has feature names, but {self.__class__.__name__} was fitted without\"\n"
          ]
        }
      ]
    },
    {
      "cell_type": "markdown",
      "source": [
        "**LightGBM**"
      ],
      "metadata": {
        "id": "c8GERIUW79wH"
      }
    },
    {
      "cell_type": "code",
      "source": [
        "!pip install lightgbm"
      ],
      "metadata": {
        "id": "MJc7RAwnf1PZ",
        "colab": {
          "base_uri": "https://localhost:8080/"
        },
        "outputId": "2a2d29ac-9c7d-4695-b9d6-6d0056e97445"
      },
      "execution_count": 57,
      "outputs": [
        {
          "output_type": "stream",
          "name": "stdout",
          "text": [
            "Requirement already satisfied: lightgbm in /usr/local/lib/python3.7/dist-packages (2.2.3)\n",
            "Requirement already satisfied: scikit-learn in /usr/local/lib/python3.7/dist-packages (from lightgbm) (1.0.1)\n",
            "Requirement already satisfied: scipy in /usr/local/lib/python3.7/dist-packages (from lightgbm) (1.4.1)\n",
            "Requirement already satisfied: numpy in /usr/local/lib/python3.7/dist-packages (from lightgbm) (1.19.5)\n",
            "Requirement already satisfied: joblib>=0.11 in /usr/local/lib/python3.7/dist-packages (from scikit-learn->lightgbm) (1.1.0)\n",
            "Requirement already satisfied: threadpoolctl>=2.0.0 in /usr/local/lib/python3.7/dist-packages (from scikit-learn->lightgbm) (3.0.0)\n"
          ]
        }
      ]
    },
    {
      "cell_type": "code",
      "source": [
        "import lightgbm as lgb\n",
        "clf = lgb.LGBMClassifier()\n",
        "clf.fit(X_train, Y_train)"
      ],
      "metadata": {
        "id": "2PaN-ULYf5NY",
        "colab": {
          "base_uri": "https://localhost:8080/"
        },
        "outputId": "252a6ada-1db1-439d-da14-eb3c9c4ab231"
      },
      "execution_count": 58,
      "outputs": [
        {
          "output_type": "execute_result",
          "data": {
            "text/plain": [
              "LGBMClassifier()"
            ]
          },
          "metadata": {},
          "execution_count": 58
        }
      ]
    },
    {
      "cell_type": "code",
      "source": [
        "y_pred=clf.predict(X_test)"
      ],
      "metadata": {
        "id": "KO3PJxEAf9G9"
      },
      "execution_count": 59,
      "outputs": []
    },
    {
      "cell_type": "code",
      "source": [
        "# view accuracy\n",
        "from sklearn.metrics import accuracy_score\n",
        "accuracy=accuracy_score(y_pred, Y_test)\n",
        "print('LightGBM Model accuracy score: {0:0.4f}'.format(accuracy_score(Y_test, y_pred)))"
      ],
      "metadata": {
        "id": "vHboV8Ehf-ha",
        "colab": {
          "base_uri": "https://localhost:8080/"
        },
        "outputId": "c274be35-9b4a-41a3-f161-9f214edf70d9"
      },
      "execution_count": 60,
      "outputs": [
        {
          "output_type": "stream",
          "name": "stdout",
          "text": [
            "LightGBM Model accuracy score: 0.8588\n"
          ]
        }
      ]
    },
    {
      "cell_type": "code",
      "source": [
        "from sklearn.metrics import accuracy_score\n",
        "\n",
        "\n",
        "# fit model on all training data\n",
        "import lightgbm as lgb\n",
        "clf = lgb.LGBMClassifier()\n",
        "clf.fit(X_train, Y_train)\n",
        "\n",
        "# make predictions for test data and evaluate\n",
        "y_pred = clf.predict(X_test)\n",
        "predictions = [round(value) for value in y_pred]\n",
        "accuracy = accuracy_score(y_pred, Y_test)\n",
        "print(\"Accuracy: %.2f%%\" % (accuracy * 100.0))\n",
        "\n",
        "# Fit model using each importance as a threshold\n",
        "thresholds = sort(model.feature_importances_)\n",
        "for thresh in thresholds:\n",
        "    # select features using threshold\n",
        "    selection = SelectFromModel(model, threshold=thresh, prefit=True)\n",
        "    select_X_train = selection.transform(X_train)\n",
        "    \n",
        "    \n",
        "    \n",
        "    # eval model\n",
        "    select_X_test = selection.transform(X_test)\n",
        "    y_pred = clf.predict(X_test)\n",
        "    predictions = [round(value) for value in y_pred]\n",
        "    accuracy = accuracy_score(Y_test, predictions)\n",
        "    print(\"Thresh=%.3f, n=%d, Accuracy: %.2f%%\" % (thresh, select_X_train.shape[1], accuracy*100.0))"
      ],
      "metadata": {
        "id": "NRWYimsT-iXd",
        "colab": {
          "base_uri": "https://localhost:8080/"
        },
        "outputId": "edb1a0c3-695c-4535-a91f-12fa015404c2"
      },
      "execution_count": 61,
      "outputs": [
        {
          "output_type": "stream",
          "name": "stdout",
          "text": [
            "Accuracy: 85.88%\n",
            "Thresh=0.000, n=48, Accuracy: 85.88%\n",
            "Thresh=0.000, n=48, Accuracy: 85.88%\n",
            "Thresh=0.000, n=48, Accuracy: 85.88%\n"
          ]
        },
        {
          "output_type": "stream",
          "name": "stderr",
          "text": [
            "/usr/local/lib/python3.7/dist-packages/sklearn/base.py:439: UserWarning: X has feature names, but SelectFromModel was fitted without feature names\n",
            "  f\"X has feature names, but {self.__class__.__name__} was fitted without\"\n",
            "/usr/local/lib/python3.7/dist-packages/sklearn/base.py:439: UserWarning: X has feature names, but SelectFromModel was fitted without feature names\n",
            "  f\"X has feature names, but {self.__class__.__name__} was fitted without\"\n",
            "/usr/local/lib/python3.7/dist-packages/sklearn/base.py:439: UserWarning: X has feature names, but SelectFromModel was fitted without feature names\n",
            "  f\"X has feature names, but {self.__class__.__name__} was fitted without\"\n",
            "/usr/local/lib/python3.7/dist-packages/sklearn/base.py:439: UserWarning: X has feature names, but SelectFromModel was fitted without feature names\n",
            "  f\"X has feature names, but {self.__class__.__name__} was fitted without\"\n",
            "/usr/local/lib/python3.7/dist-packages/sklearn/base.py:439: UserWarning: X has feature names, but SelectFromModel was fitted without feature names\n",
            "  f\"X has feature names, but {self.__class__.__name__} was fitted without\"\n",
            "/usr/local/lib/python3.7/dist-packages/sklearn/base.py:439: UserWarning: X has feature names, but SelectFromModel was fitted without feature names\n",
            "  f\"X has feature names, but {self.__class__.__name__} was fitted without\"\n",
            "/usr/local/lib/python3.7/dist-packages/sklearn/base.py:439: UserWarning: X has feature names, but SelectFromModel was fitted without feature names\n",
            "  f\"X has feature names, but {self.__class__.__name__} was fitted without\"\n",
            "/usr/local/lib/python3.7/dist-packages/sklearn/base.py:439: UserWarning: X has feature names, but SelectFromModel was fitted without feature names\n",
            "  f\"X has feature names, but {self.__class__.__name__} was fitted without\"\n"
          ]
        },
        {
          "output_type": "stream",
          "name": "stdout",
          "text": [
            "Thresh=0.000, n=48, Accuracy: 85.88%\n",
            "Thresh=0.007, n=44, Accuracy: 85.88%\n",
            "Thresh=0.013, n=43, Accuracy: 85.88%"
          ]
        },
        {
          "output_type": "stream",
          "name": "stderr",
          "text": [
            "/usr/local/lib/python3.7/dist-packages/sklearn/base.py:439: UserWarning: X has feature names, but SelectFromModel was fitted without feature names\n",
            "  f\"X has feature names, but {self.__class__.__name__} was fitted without\"\n",
            "/usr/local/lib/python3.7/dist-packages/sklearn/base.py:439: UserWarning: X has feature names, but SelectFromModel was fitted without feature names\n",
            "  f\"X has feature names, but {self.__class__.__name__} was fitted without\"\n",
            "/usr/local/lib/python3.7/dist-packages/sklearn/base.py:439: UserWarning: X has feature names, but SelectFromModel was fitted without feature names\n",
            "  f\"X has feature names, but {self.__class__.__name__} was fitted without\"\n",
            "/usr/local/lib/python3.7/dist-packages/sklearn/base.py:439: UserWarning: X has feature names, but SelectFromModel was fitted without feature names\n",
            "  f\"X has feature names, but {self.__class__.__name__} was fitted without\"\n"
          ]
        },
        {
          "output_type": "stream",
          "name": "stdout",
          "text": [
            "\n",
            "Thresh=0.014, n=42, Accuracy: 85.88%\n"
          ]
        },
        {
          "output_type": "stream",
          "name": "stderr",
          "text": [
            "/usr/local/lib/python3.7/dist-packages/sklearn/base.py:439: UserWarning: X has feature names, but SelectFromModel was fitted without feature names\n",
            "  f\"X has feature names, but {self.__class__.__name__} was fitted without\"\n",
            "/usr/local/lib/python3.7/dist-packages/sklearn/base.py:439: UserWarning: X has feature names, but SelectFromModel was fitted without feature names\n",
            "  f\"X has feature names, but {self.__class__.__name__} was fitted without\"\n",
            "/usr/local/lib/python3.7/dist-packages/sklearn/base.py:439: UserWarning: X has feature names, but SelectFromModel was fitted without feature names\n",
            "  f\"X has feature names, but {self.__class__.__name__} was fitted without\"\n",
            "/usr/local/lib/python3.7/dist-packages/sklearn/base.py:439: UserWarning: X has feature names, but SelectFromModel was fitted without feature names\n",
            "  f\"X has feature names, but {self.__class__.__name__} was fitted without\"\n"
          ]
        },
        {
          "output_type": "stream",
          "name": "stdout",
          "text": [
            "Thresh=0.014, n=41, Accuracy: 85.88%\n",
            "Thresh=0.015, n=40, Accuracy: 85.88%\n"
          ]
        },
        {
          "output_type": "stream",
          "name": "stderr",
          "text": [
            "/usr/local/lib/python3.7/dist-packages/sklearn/base.py:439: UserWarning: X has feature names, but SelectFromModel was fitted without feature names\n",
            "  f\"X has feature names, but {self.__class__.__name__} was fitted without\"\n",
            "/usr/local/lib/python3.7/dist-packages/sklearn/base.py:439: UserWarning: X has feature names, but SelectFromModel was fitted without feature names\n",
            "  f\"X has feature names, but {self.__class__.__name__} was fitted without\"\n",
            "/usr/local/lib/python3.7/dist-packages/sklearn/base.py:439: UserWarning: X has feature names, but SelectFromModel was fitted without feature names\n",
            "  f\"X has feature names, but {self.__class__.__name__} was fitted without\"\n",
            "/usr/local/lib/python3.7/dist-packages/sklearn/base.py:439: UserWarning: X has feature names, but SelectFromModel was fitted without feature names\n",
            "  f\"X has feature names, but {self.__class__.__name__} was fitted without\"\n"
          ]
        },
        {
          "output_type": "stream",
          "name": "stdout",
          "text": [
            "Thresh=0.015, n=39, Accuracy: 85.88%\n",
            "Thresh=0.015, n=38, Accuracy: 85.88%\n",
            "Thresh=0.015, n=37, Accuracy: 85.88%\n"
          ]
        },
        {
          "output_type": "stream",
          "name": "stderr",
          "text": [
            "/usr/local/lib/python3.7/dist-packages/sklearn/base.py:439: UserWarning: X has feature names, but SelectFromModel was fitted without feature names\n",
            "  f\"X has feature names, but {self.__class__.__name__} was fitted without\"\n",
            "/usr/local/lib/python3.7/dist-packages/sklearn/base.py:439: UserWarning: X has feature names, but SelectFromModel was fitted without feature names\n",
            "  f\"X has feature names, but {self.__class__.__name__} was fitted without\"\n",
            "/usr/local/lib/python3.7/dist-packages/sklearn/base.py:439: UserWarning: X has feature names, but SelectFromModel was fitted without feature names\n",
            "  f\"X has feature names, but {self.__class__.__name__} was fitted without\"\n",
            "/usr/local/lib/python3.7/dist-packages/sklearn/base.py:439: UserWarning: X has feature names, but SelectFromModel was fitted without feature names\n",
            "  f\"X has feature names, but {self.__class__.__name__} was fitted without\"\n",
            "/usr/local/lib/python3.7/dist-packages/sklearn/base.py:439: UserWarning: X has feature names, but SelectFromModel was fitted without feature names\n",
            "  f\"X has feature names, but {self.__class__.__name__} was fitted without\"\n",
            "/usr/local/lib/python3.7/dist-packages/sklearn/base.py:439: UserWarning: X has feature names, but SelectFromModel was fitted without feature names\n",
            "  f\"X has feature names, but {self.__class__.__name__} was fitted without\"\n"
          ]
        },
        {
          "output_type": "stream",
          "name": "stdout",
          "text": [
            "Thresh=0.016, n=36, Accuracy: 85.88%\n",
            "Thresh=0.016, n=35, Accuracy: 85.88%\n",
            "Thresh=0.016, n=34, Accuracy: 85.88%\n",
            "Thresh=0.017, n=33, Accuracy: 85.88%\n"
          ]
        },
        {
          "output_type": "stream",
          "name": "stderr",
          "text": [
            "/usr/local/lib/python3.7/dist-packages/sklearn/base.py:439: UserWarning: X has feature names, but SelectFromModel was fitted without feature names\n",
            "  f\"X has feature names, but {self.__class__.__name__} was fitted without\"\n",
            "/usr/local/lib/python3.7/dist-packages/sklearn/base.py:439: UserWarning: X has feature names, but SelectFromModel was fitted without feature names\n",
            "  f\"X has feature names, but {self.__class__.__name__} was fitted without\"\n",
            "/usr/local/lib/python3.7/dist-packages/sklearn/base.py:439: UserWarning: X has feature names, but SelectFromModel was fitted without feature names\n",
            "  f\"X has feature names, but {self.__class__.__name__} was fitted without\"\n",
            "/usr/local/lib/python3.7/dist-packages/sklearn/base.py:439: UserWarning: X has feature names, but SelectFromModel was fitted without feature names\n",
            "  f\"X has feature names, but {self.__class__.__name__} was fitted without\"\n",
            "/usr/local/lib/python3.7/dist-packages/sklearn/base.py:439: UserWarning: X has feature names, but SelectFromModel was fitted without feature names\n",
            "  f\"X has feature names, but {self.__class__.__name__} was fitted without\"\n",
            "/usr/local/lib/python3.7/dist-packages/sklearn/base.py:439: UserWarning: X has feature names, but SelectFromModel was fitted without feature names\n",
            "  f\"X has feature names, but {self.__class__.__name__} was fitted without\"\n",
            "/usr/local/lib/python3.7/dist-packages/sklearn/base.py:439: UserWarning: X has feature names, but SelectFromModel was fitted without feature names\n",
            "  f\"X has feature names, but {self.__class__.__name__} was fitted without\"\n",
            "/usr/local/lib/python3.7/dist-packages/sklearn/base.py:439: UserWarning: X has feature names, but SelectFromModel was fitted without feature names\n",
            "  f\"X has feature names, but {self.__class__.__name__} was fitted without\"\n"
          ]
        },
        {
          "output_type": "stream",
          "name": "stdout",
          "text": [
            "Thresh=0.017, n=32, Accuracy: 85.88%\n",
            "Thresh=0.018, n=31, Accuracy: 85.88%\n",
            "Thresh=0.018, n=30, Accuracy: 85.88%\n"
          ]
        },
        {
          "output_type": "stream",
          "name": "stderr",
          "text": [
            "/usr/local/lib/python3.7/dist-packages/sklearn/base.py:439: UserWarning: X has feature names, but SelectFromModel was fitted without feature names\n",
            "  f\"X has feature names, but {self.__class__.__name__} was fitted without\"\n",
            "/usr/local/lib/python3.7/dist-packages/sklearn/base.py:439: UserWarning: X has feature names, but SelectFromModel was fitted without feature names\n",
            "  f\"X has feature names, but {self.__class__.__name__} was fitted without\"\n",
            "/usr/local/lib/python3.7/dist-packages/sklearn/base.py:439: UserWarning: X has feature names, but SelectFromModel was fitted without feature names\n",
            "  f\"X has feature names, but {self.__class__.__name__} was fitted without\"\n",
            "/usr/local/lib/python3.7/dist-packages/sklearn/base.py:439: UserWarning: X has feature names, but SelectFromModel was fitted without feature names\n",
            "  f\"X has feature names, but {self.__class__.__name__} was fitted without\"\n",
            "/usr/local/lib/python3.7/dist-packages/sklearn/base.py:439: UserWarning: X has feature names, but SelectFromModel was fitted without feature names\n",
            "  f\"X has feature names, but {self.__class__.__name__} was fitted without\"\n",
            "/usr/local/lib/python3.7/dist-packages/sklearn/base.py:439: UserWarning: X has feature names, but SelectFromModel was fitted without feature names\n",
            "  f\"X has feature names, but {self.__class__.__name__} was fitted without\"\n",
            "/usr/local/lib/python3.7/dist-packages/sklearn/base.py:439: UserWarning: X has feature names, but SelectFromModel was fitted without feature names\n",
            "  f\"X has feature names, but {self.__class__.__name__} was fitted without\"\n",
            "/usr/local/lib/python3.7/dist-packages/sklearn/base.py:439: UserWarning: X has feature names, but SelectFromModel was fitted without feature names\n",
            "  f\"X has feature names, but {self.__class__.__name__} was fitted without\"\n",
            "/usr/local/lib/python3.7/dist-packages/sklearn/base.py:439: UserWarning: X has feature names, but SelectFromModel was fitted without feature names\n",
            "  f\"X has feature names, but {self.__class__.__name__} was fitted without\"\n",
            "/usr/local/lib/python3.7/dist-packages/sklearn/base.py:439: UserWarning: X has feature names, but SelectFromModel was fitted without feature names\n",
            "  f\"X has feature names, but {self.__class__.__name__} was fitted without\"\n",
            "/usr/local/lib/python3.7/dist-packages/sklearn/base.py:439: UserWarning: X has feature names, but SelectFromModel was fitted without feature names\n",
            "  f\"X has feature names, but {self.__class__.__name__} was fitted without\"\n",
            "/usr/local/lib/python3.7/dist-packages/sklearn/base.py:439: UserWarning: X has feature names, but SelectFromModel was fitted without feature names\n",
            "  f\"X has feature names, but {self.__class__.__name__} was fitted without\"\n"
          ]
        },
        {
          "output_type": "stream",
          "name": "stdout",
          "text": [
            "Thresh=0.018, n=29, Accuracy: 85.88%\n",
            "Thresh=0.019, n=28, Accuracy: 85.88%\n",
            "Thresh=0.020, n=27, Accuracy: 85.88%\n",
            "Thresh=0.020, n=26, Accuracy: 85.88%\n"
          ]
        },
        {
          "output_type": "stream",
          "name": "stderr",
          "text": [
            "/usr/local/lib/python3.7/dist-packages/sklearn/base.py:439: UserWarning: X has feature names, but SelectFromModel was fitted without feature names\n",
            "  f\"X has feature names, but {self.__class__.__name__} was fitted without\"\n",
            "/usr/local/lib/python3.7/dist-packages/sklearn/base.py:439: UserWarning: X has feature names, but SelectFromModel was fitted without feature names\n",
            "  f\"X has feature names, but {self.__class__.__name__} was fitted without\"\n",
            "/usr/local/lib/python3.7/dist-packages/sklearn/base.py:439: UserWarning: X has feature names, but SelectFromModel was fitted without feature names\n",
            "  f\"X has feature names, but {self.__class__.__name__} was fitted without\"\n",
            "/usr/local/lib/python3.7/dist-packages/sklearn/base.py:439: UserWarning: X has feature names, but SelectFromModel was fitted without feature names\n",
            "  f\"X has feature names, but {self.__class__.__name__} was fitted without\"\n",
            "/usr/local/lib/python3.7/dist-packages/sklearn/base.py:439: UserWarning: X has feature names, but SelectFromModel was fitted without feature names\n",
            "  f\"X has feature names, but {self.__class__.__name__} was fitted without\"\n",
            "/usr/local/lib/python3.7/dist-packages/sklearn/base.py:439: UserWarning: X has feature names, but SelectFromModel was fitted without feature names\n",
            "  f\"X has feature names, but {self.__class__.__name__} was fitted without\"\n"
          ]
        },
        {
          "output_type": "stream",
          "name": "stdout",
          "text": [
            "Thresh=0.020, n=25, Accuracy: 85.88%\n",
            "Thresh=0.021, n=24, Accuracy: 85.88%\n"
          ]
        },
        {
          "output_type": "stream",
          "name": "stderr",
          "text": [
            "/usr/local/lib/python3.7/dist-packages/sklearn/base.py:439: UserWarning: X has feature names, but SelectFromModel was fitted without feature names\n",
            "  f\"X has feature names, but {self.__class__.__name__} was fitted without\"\n",
            "/usr/local/lib/python3.7/dist-packages/sklearn/base.py:439: UserWarning: X has feature names, but SelectFromModel was fitted without feature names\n",
            "  f\"X has feature names, but {self.__class__.__name__} was fitted without\"\n"
          ]
        },
        {
          "output_type": "stream",
          "name": "stdout",
          "text": [
            "Thresh=0.021, n=23, Accuracy: 85.88%\n",
            "Thresh=0.021, n=22, Accuracy: 85.88%\n"
          ]
        },
        {
          "output_type": "stream",
          "name": "stderr",
          "text": [
            "/usr/local/lib/python3.7/dist-packages/sklearn/base.py:439: UserWarning: X has feature names, but SelectFromModel was fitted without feature names\n",
            "  f\"X has feature names, but {self.__class__.__name__} was fitted without\"\n",
            "/usr/local/lib/python3.7/dist-packages/sklearn/base.py:439: UserWarning: X has feature names, but SelectFromModel was fitted without feature names\n",
            "  f\"X has feature names, but {self.__class__.__name__} was fitted without\"\n",
            "/usr/local/lib/python3.7/dist-packages/sklearn/base.py:439: UserWarning: X has feature names, but SelectFromModel was fitted without feature names\n",
            "  f\"X has feature names, but {self.__class__.__name__} was fitted without\"\n"
          ]
        },
        {
          "output_type": "stream",
          "name": "stdout",
          "text": [
            "Thresh=0.021, n=21, Accuracy: 85.88%\n",
            "Thresh=0.022, n=20, Accuracy: 85.88%\n"
          ]
        },
        {
          "output_type": "stream",
          "name": "stderr",
          "text": [
            "/usr/local/lib/python3.7/dist-packages/sklearn/base.py:439: UserWarning: X has feature names, but SelectFromModel was fitted without feature names\n",
            "  f\"X has feature names, but {self.__class__.__name__} was fitted without\"\n",
            "/usr/local/lib/python3.7/dist-packages/sklearn/base.py:439: UserWarning: X has feature names, but SelectFromModel was fitted without feature names\n",
            "  f\"X has feature names, but {self.__class__.__name__} was fitted without\"\n",
            "/usr/local/lib/python3.7/dist-packages/sklearn/base.py:439: UserWarning: X has feature names, but SelectFromModel was fitted without feature names\n",
            "  f\"X has feature names, but {self.__class__.__name__} was fitted without\"\n"
          ]
        },
        {
          "output_type": "stream",
          "name": "stdout",
          "text": [
            "Thresh=0.022, n=19, Accuracy: 85.88%\n",
            "Thresh=0.022, n=18, Accuracy: 85.88%\n"
          ]
        },
        {
          "output_type": "stream",
          "name": "stderr",
          "text": [
            "/usr/local/lib/python3.7/dist-packages/sklearn/base.py:439: UserWarning: X has feature names, but SelectFromModel was fitted without feature names\n",
            "  f\"X has feature names, but {self.__class__.__name__} was fitted without\"\n",
            "/usr/local/lib/python3.7/dist-packages/sklearn/base.py:439: UserWarning: X has feature names, but SelectFromModel was fitted without feature names\n",
            "  f\"X has feature names, but {self.__class__.__name__} was fitted without\"\n",
            "/usr/local/lib/python3.7/dist-packages/sklearn/base.py:439: UserWarning: X has feature names, but SelectFromModel was fitted without feature names\n",
            "  f\"X has feature names, but {self.__class__.__name__} was fitted without\"\n",
            "/usr/local/lib/python3.7/dist-packages/sklearn/base.py:439: UserWarning: X has feature names, but SelectFromModel was fitted without feature names\n",
            "  f\"X has feature names, but {self.__class__.__name__} was fitted without\"\n",
            "/usr/local/lib/python3.7/dist-packages/sklearn/base.py:439: UserWarning: X has feature names, but SelectFromModel was fitted without feature names\n",
            "  f\"X has feature names, but {self.__class__.__name__} was fitted without\"\n",
            "/usr/local/lib/python3.7/dist-packages/sklearn/base.py:439: UserWarning: X has feature names, but SelectFromModel was fitted without feature names\n",
            "  f\"X has feature names, but {self.__class__.__name__} was fitted without\"\n"
          ]
        },
        {
          "output_type": "stream",
          "name": "stdout",
          "text": [
            "Thresh=0.023, n=17, Accuracy: 85.88%\n",
            "Thresh=0.023, n=16, Accuracy: 85.88%\n"
          ]
        },
        {
          "output_type": "stream",
          "name": "stderr",
          "text": [
            "/usr/local/lib/python3.7/dist-packages/sklearn/base.py:439: UserWarning: X has feature names, but SelectFromModel was fitted without feature names\n",
            "  f\"X has feature names, but {self.__class__.__name__} was fitted without\"\n",
            "/usr/local/lib/python3.7/dist-packages/sklearn/base.py:439: UserWarning: X has feature names, but SelectFromModel was fitted without feature names\n",
            "  f\"X has feature names, but {self.__class__.__name__} was fitted without\"\n",
            "/usr/local/lib/python3.7/dist-packages/sklearn/base.py:439: UserWarning: X has feature names, but SelectFromModel was fitted without feature names\n",
            "  f\"X has feature names, but {self.__class__.__name__} was fitted without\"\n",
            "/usr/local/lib/python3.7/dist-packages/sklearn/base.py:439: UserWarning: X has feature names, but SelectFromModel was fitted without feature names\n",
            "  f\"X has feature names, but {self.__class__.__name__} was fitted without\"\n"
          ]
        },
        {
          "output_type": "stream",
          "name": "stdout",
          "text": [
            "Thresh=0.023, n=15, Accuracy: 85.88%\n",
            "Thresh=0.023, n=14, Accuracy: 85.88%\n",
            "Thresh=0.023, n=13, Accuracy: 85.88%\n"
          ]
        },
        {
          "output_type": "stream",
          "name": "stderr",
          "text": [
            "/usr/local/lib/python3.7/dist-packages/sklearn/base.py:439: UserWarning: X has feature names, but SelectFromModel was fitted without feature names\n",
            "  f\"X has feature names, but {self.__class__.__name__} was fitted without\"\n",
            "/usr/local/lib/python3.7/dist-packages/sklearn/base.py:439: UserWarning: X has feature names, but SelectFromModel was fitted without feature names\n",
            "  f\"X has feature names, but {self.__class__.__name__} was fitted without\"\n",
            "/usr/local/lib/python3.7/dist-packages/sklearn/base.py:439: UserWarning: X has feature names, but SelectFromModel was fitted without feature names\n",
            "  f\"X has feature names, but {self.__class__.__name__} was fitted without\"\n",
            "/usr/local/lib/python3.7/dist-packages/sklearn/base.py:439: UserWarning: X has feature names, but SelectFromModel was fitted without feature names\n",
            "  f\"X has feature names, but {self.__class__.__name__} was fitted without\"\n",
            "/usr/local/lib/python3.7/dist-packages/sklearn/base.py:439: UserWarning: X has feature names, but SelectFromModel was fitted without feature names\n",
            "  f\"X has feature names, but {self.__class__.__name__} was fitted without\"\n",
            "/usr/local/lib/python3.7/dist-packages/sklearn/base.py:439: UserWarning: X has feature names, but SelectFromModel was fitted without feature names\n",
            "  f\"X has feature names, but {self.__class__.__name__} was fitted without\"\n"
          ]
        },
        {
          "output_type": "stream",
          "name": "stdout",
          "text": [
            "Thresh=0.024, n=12, Accuracy: 85.88%\n",
            "Thresh=0.026, n=11, Accuracy: 85.88%\n",
            "Thresh=0.027, n=10, Accuracy: 85.88%\n",
            "Thresh=0.027, n=9, Accuracy: 85.88%\n"
          ]
        },
        {
          "output_type": "stream",
          "name": "stderr",
          "text": [
            "/usr/local/lib/python3.7/dist-packages/sklearn/base.py:439: UserWarning: X has feature names, but SelectFromModel was fitted without feature names\n",
            "  f\"X has feature names, but {self.__class__.__name__} was fitted without\"\n",
            "/usr/local/lib/python3.7/dist-packages/sklearn/base.py:439: UserWarning: X has feature names, but SelectFromModel was fitted without feature names\n",
            "  f\"X has feature names, but {self.__class__.__name__} was fitted without\"\n",
            "/usr/local/lib/python3.7/dist-packages/sklearn/base.py:439: UserWarning: X has feature names, but SelectFromModel was fitted without feature names\n",
            "  f\"X has feature names, but {self.__class__.__name__} was fitted without\"\n",
            "/usr/local/lib/python3.7/dist-packages/sklearn/base.py:439: UserWarning: X has feature names, but SelectFromModel was fitted without feature names\n",
            "  f\"X has feature names, but {self.__class__.__name__} was fitted without\"\n",
            "/usr/local/lib/python3.7/dist-packages/sklearn/base.py:439: UserWarning: X has feature names, but SelectFromModel was fitted without feature names\n",
            "  f\"X has feature names, but {self.__class__.__name__} was fitted without\"\n",
            "/usr/local/lib/python3.7/dist-packages/sklearn/base.py:439: UserWarning: X has feature names, but SelectFromModel was fitted without feature names\n",
            "  f\"X has feature names, but {self.__class__.__name__} was fitted without\"\n",
            "/usr/local/lib/python3.7/dist-packages/sklearn/base.py:439: UserWarning: X has feature names, but SelectFromModel was fitted without feature names\n",
            "  f\"X has feature names, but {self.__class__.__name__} was fitted without\"\n"
          ]
        },
        {
          "output_type": "stream",
          "name": "stdout",
          "text": [
            "Thresh=0.027, n=8, Accuracy: 85.88%\n",
            "Thresh=0.029, n=7, Accuracy: 85.88%\n",
            "Thresh=0.031, n=6, Accuracy: 85.88%\n"
          ]
        },
        {
          "output_type": "stream",
          "name": "stderr",
          "text": [
            "/usr/local/lib/python3.7/dist-packages/sklearn/base.py:439: UserWarning: X has feature names, but SelectFromModel was fitted without feature names\n",
            "  f\"X has feature names, but {self.__class__.__name__} was fitted without\"\n",
            "/usr/local/lib/python3.7/dist-packages/sklearn/base.py:439: UserWarning: X has feature names, but SelectFromModel was fitted without feature names\n",
            "  f\"X has feature names, but {self.__class__.__name__} was fitted without\"\n",
            "/usr/local/lib/python3.7/dist-packages/sklearn/base.py:439: UserWarning: X has feature names, but SelectFromModel was fitted without feature names\n",
            "  f\"X has feature names, but {self.__class__.__name__} was fitted without\"\n",
            "/usr/local/lib/python3.7/dist-packages/sklearn/base.py:439: UserWarning: X has feature names, but SelectFromModel was fitted without feature names\n",
            "  f\"X has feature names, but {self.__class__.__name__} was fitted without\"\n",
            "/usr/local/lib/python3.7/dist-packages/sklearn/base.py:439: UserWarning: X has feature names, but SelectFromModel was fitted without feature names\n",
            "  f\"X has feature names, but {self.__class__.__name__} was fitted without\"\n",
            "/usr/local/lib/python3.7/dist-packages/sklearn/base.py:439: UserWarning: X has feature names, but SelectFromModel was fitted without feature names\n",
            "  f\"X has feature names, but {self.__class__.__name__} was fitted without\"\n"
          ]
        },
        {
          "output_type": "stream",
          "name": "stdout",
          "text": [
            "Thresh=0.032, n=5, Accuracy: 85.88%\n",
            "Thresh=0.034, n=4, Accuracy: 85.88%\n",
            "Thresh=0.043, n=3, Accuracy: 85.88%\n"
          ]
        },
        {
          "output_type": "stream",
          "name": "stderr",
          "text": [
            "/usr/local/lib/python3.7/dist-packages/sklearn/base.py:439: UserWarning: X has feature names, but SelectFromModel was fitted without feature names\n",
            "  f\"X has feature names, but {self.__class__.__name__} was fitted without\"\n",
            "/usr/local/lib/python3.7/dist-packages/sklearn/base.py:439: UserWarning: X has feature names, but SelectFromModel was fitted without feature names\n",
            "  f\"X has feature names, but {self.__class__.__name__} was fitted without\"\n",
            "/usr/local/lib/python3.7/dist-packages/sklearn/base.py:439: UserWarning: X has feature names, but SelectFromModel was fitted without feature names\n",
            "  f\"X has feature names, but {self.__class__.__name__} was fitted without\"\n",
            "/usr/local/lib/python3.7/dist-packages/sklearn/base.py:439: UserWarning: X has feature names, but SelectFromModel was fitted without feature names\n",
            "  f\"X has feature names, but {self.__class__.__name__} was fitted without\"\n",
            "/usr/local/lib/python3.7/dist-packages/sklearn/base.py:439: UserWarning: X has feature names, but SelectFromModel was fitted without feature names\n",
            "  f\"X has feature names, but {self.__class__.__name__} was fitted without\"\n",
            "/usr/local/lib/python3.7/dist-packages/sklearn/base.py:439: UserWarning: X has feature names, but SelectFromModel was fitted without feature names\n",
            "  f\"X has feature names, but {self.__class__.__name__} was fitted without\"\n",
            "/usr/local/lib/python3.7/dist-packages/sklearn/base.py:439: UserWarning: X has feature names, but SelectFromModel was fitted without feature names\n",
            "  f\"X has feature names, but {self.__class__.__name__} was fitted without\"\n"
          ]
        },
        {
          "output_type": "stream",
          "name": "stdout",
          "text": [
            "Thresh=0.051, n=2, Accuracy: 85.88%\n",
            "Thresh=0.059, n=1, Accuracy: 85.88%\n"
          ]
        }
      ]
    }
  ]
}