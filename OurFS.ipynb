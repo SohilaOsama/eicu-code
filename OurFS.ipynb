{
  "nbformat": 4,
  "nbformat_minor": 0,
  "metadata": {
    "colab": {
      "name": "OurFS.ipynb",
      "provenance": [],
      "authorship_tag": "ABX9TyMDzPqRlYOtJrxKh7iu7mhf",
      "include_colab_link": true
    },
    "kernelspec": {
      "name": "python3",
      "display_name": "Python 3"
    },
    "language_info": {
      "name": "python"
    }
  },
  "cells": [
    {
      "cell_type": "markdown",
      "metadata": {
        "id": "view-in-github",
        "colab_type": "text"
      },
      "source": [
        "<a href=\"https://colab.research.google.com/github/SohilaOsama/eicu-code/blob/master/OurFS.ipynb\" target=\"_parent\"><img src=\"https://colab.research.google.com/assets/colab-badge.svg\" alt=\"Open In Colab\"/></a>"
      ]
    },
    {
      "cell_type": "code",
      "execution_count": 609,
      "metadata": {
        "id": "enyt8IeRcxBv"
      },
      "outputs": [],
      "source": [
        "import numpy as np # linear algebra\n",
        "import pandas as pd # data processing, CSV file I/O (e.g. pd.read_csv)\n",
        "import seaborn as sns\n",
        "import matplotlib.pyplot as plt\n",
        "import scipy\n",
        "\n",
        "from scipy import stats\n",
        "from scipy.stats import norm, skew, boxcox\n",
        "from collections import Counter\n",
        "from numpy import mean\n",
        "from numpy import std\n",
        "from numpy.random import seed\n",
        "from numpy.random import randn\n",
        "from scipy.stats import wilcoxon\n",
        "\n",
        "from sklearn.preprocessing import RobustScaler, StandardScaler\n",
        "from sklearn.metrics import mean_squared_error, confusion_matrix, accuracy_score, plot_confusion_matrix, auc\n",
        "from sklearn.base import BaseEstimator, TransformerMixin, RegressorMixin, clone\n",
        "from sklearn.model_selection import train_test_split, StratifiedKFold, GridSearchCV\n",
        "from sklearn.linear_model import LogisticRegression\n",
        "from sklearn.svm import SVC\n",
        "from sklearn.ensemble import RandomForestClassifier, VotingClassifier\n",
        "from sklearn.neighbors import KNeighborsClassifier\n",
        "from sklearn.tree import DecisionTreeClassifier\n",
        "from sklearn.feature_selection import RFE\n",
        "\n",
        "#XGBOOST\n",
        "from xgboost import XGBClassifier"
      ]
    },
    {
      "cell_type": "code",
      "source": [
        "data = pd.read_csv(\"/content/data01.csv\")"
      ],
      "metadata": {
        "id": "T43mcvqpdX17"
      },
      "execution_count": 610,
      "outputs": []
    },
    {
      "cell_type": "code",
      "source": [
        "print(\"Data Columns --> \",data.columns)"
      ],
      "metadata": {
        "colab": {
          "base_uri": "https://localhost:8080/"
        },
        "id": "p01E5jRzdecE",
        "outputId": "1ab10a96-688e-464b-b9e5-338dfc4427bd"
      },
      "execution_count": 611,
      "outputs": [
        {
          "output_type": "stream",
          "name": "stdout",
          "text": [
            "Data Columns -->  Index(['group', 'ID', 'outcome', 'age', 'gendera', 'BMI', 'hypertensive',\n",
            "       'atrialfibrillation', 'CHD with no MI', 'diabetes', 'deficiencyanemias',\n",
            "       'depression', 'Hyperlipemia', 'Renal failure', 'COPD', 'heart rate',\n",
            "       'Systolic blood pressure', 'Diastolic blood pressure',\n",
            "       'Respiratory rate', 'temperature', 'SP O2', 'Urine output',\n",
            "       'hematocrit', 'RBC', 'MCH', 'MCHC', 'MCV', 'RDW', 'Leucocyte',\n",
            "       'Platelets', 'Neutrophils', 'Basophils', 'Lymphocyte', 'PT', 'INR',\n",
            "       'NT-proBNP', 'Creatine kinase', 'Creatinine', 'Urea nitrogen',\n",
            "       'glucose', 'Blood potassium', 'Blood sodium', 'Blood calcium',\n",
            "       'Chloride', 'Anion gap', 'Magnesium ion', 'PH', 'Bicarbonate',\n",
            "       'Lactic acid', 'PCO2', 'EF'],\n",
            "      dtype='object')\n"
          ]
        }
      ]
    },
    {
      "cell_type": "code",
      "source": [
        "data.drop(['group', 'ID'], axis = 1, inplace = True)"
      ],
      "metadata": {
        "id": "5SlpVChPdh0w"
      },
      "execution_count": 612,
      "outputs": []
    },
    {
      "cell_type": "markdown",
      "source": [
        "**Our Importance Feauters**"
      ],
      "metadata": {
        "id": "ErtFgJNLdmut"
      }
    },
    {
      "cell_type": "code",
      "source": [
        "['temperature','Lymphocyte','Anion gap','Blood sodium','Lactic acid','BMI','Platelets','Creatine kinase'\n",
        ",'Magnesium ion','heart rate','Leucocyte','PCO2','SP O2','Urine output','MCV', 'Urea nitrogen','Bicarbonate',\n",
        "'Systolic blood pressure','RDW','Respiratory rate']"
      ],
      "metadata": {
        "colab": {
          "base_uri": "https://localhost:8080/"
        },
        "id": "qSbZ-4jndsIp",
        "outputId": "f6fa01fa-8e13-4d43-eb98-abd303ae819a"
      },
      "execution_count": 613,
      "outputs": [
        {
          "output_type": "execute_result",
          "data": {
            "text/plain": [
              "['temperature',\n",
              " 'Lymphocyte',\n",
              " 'Anion gap',\n",
              " 'Blood sodium',\n",
              " 'Lactic acid',\n",
              " 'BMI',\n",
              " 'Platelets',\n",
              " 'Creatine kinase',\n",
              " 'Magnesium ion',\n",
              " 'heart rate',\n",
              " 'Leucocyte',\n",
              " 'PCO2',\n",
              " 'SP O2',\n",
              " 'Urine output',\n",
              " 'MCV',\n",
              " 'Urea nitrogen',\n",
              " 'Bicarbonate',\n",
              " 'Systolic blood pressure',\n",
              " 'RDW',\n",
              " 'Respiratory rate']"
            ]
          },
          "metadata": {},
          "execution_count": 613
        }
      ]
    },
    {
      "cell_type": "code",
      "source": [
        "data['BMI'].fillna(data['BMI'].mean(), inplace = True)\n",
        "\n",
        "\n",
        "data['heart rate'].fillna(data['heart rate'].mean(), inplace = True)\n",
        "data['Systolic blood pressure'].fillna(data['Systolic blood pressure'].mean(), inplace = True)\n",
        "data['Diastolic blood pressure'].fillna(data['Diastolic blood pressure'].mean(), inplace = True)\n",
        "data['Respiratory rate'].fillna(data['Respiratory rate'].mean(), inplace = True)\n",
        "data['SP O2'].fillna(data['SP O2'].mean(), inplace = True)\n",
        "data['Urine output'].fillna(data['Urine output'].mean(), inplace = True)\n",
        "data['Neutrophils'].fillna(data['Neutrophils'].mean(), inplace = True)\n",
        "data['Basophils'].fillna(data['Basophils'].mean(), inplace = True)\n",
        "data['Lymphocyte'].fillna(data['Lymphocyte'].mean(), inplace = True)\n",
        "data['PT'].fillna(data['PT'].mean(), inplace = True)\n",
        "data['INR'].fillna(data['INR'].mean(), inplace = True)\n",
        "data['Creatine kinase'].fillna(data['Creatine kinase'].mean(), inplace = True)\n",
        "data['glucose'].fillna(data['glucose'].mean(), inplace = True)\n",
        "data['Blood calcium'].fillna(data['Blood calcium'].mean(), inplace = True)\n",
        "data['PH'].fillna(data['PH'].mean(), inplace = True)\n",
        "data['Lactic acid'].fillna(data['Lactic acid'].mean(), inplace = True)\n",
        "data['PCO2'].fillna(data['PCO2'].mean(), inplace = True)\n",
        "data['temperature'].fillna(data['temperature'].mean(), inplace = True)\n",
        "\n",
        "print(data.isnull().sum())"
      ],
      "metadata": {
        "colab": {
          "base_uri": "https://localhost:8080/"
        },
        "id": "ocI9jq9NfXaP",
        "outputId": "f76c30bb-61c0-408c-92ec-39ccabcba13c"
      },
      "execution_count": 614,
      "outputs": [
        {
          "output_type": "stream",
          "name": "stdout",
          "text": [
            "outcome                     0\n",
            "age                         0\n",
            "gendera                     0\n",
            "BMI                         0\n",
            "hypertensive                0\n",
            "atrialfibrillation          0\n",
            "CHD with no MI              0\n",
            "diabetes                    0\n",
            "deficiencyanemias           0\n",
            "depression                  0\n",
            "Hyperlipemia                0\n",
            "Renal failure               0\n",
            "COPD                        0\n",
            "heart rate                  0\n",
            "Systolic blood pressure     0\n",
            "Diastolic blood pressure    0\n",
            "Respiratory rate            0\n",
            "temperature                 0\n",
            "SP O2                       0\n",
            "Urine output                0\n",
            "hematocrit                  0\n",
            "RBC                         0\n",
            "MCH                         0\n",
            "MCHC                        0\n",
            "MCV                         0\n",
            "RDW                         0\n",
            "Leucocyte                   0\n",
            "Platelets                   0\n",
            "Neutrophils                 0\n",
            "Basophils                   0\n",
            "Lymphocyte                  0\n",
            "PT                          0\n",
            "INR                         0\n",
            "NT-proBNP                   0\n",
            "Creatine kinase             0\n",
            "Creatinine                  0\n",
            "Urea nitrogen               0\n",
            "glucose                     0\n",
            "Blood potassium             0\n",
            "Blood sodium                0\n",
            "Blood calcium               0\n",
            "Chloride                    0\n",
            "Anion gap                   0\n",
            "Magnesium ion               0\n",
            "PH                          0\n",
            "Bicarbonate                 0\n",
            "Lactic acid                 0\n",
            "PCO2                        0\n",
            "EF                          0\n",
            "dtype: int64\n"
          ]
        }
      ]
    },
    {
      "cell_type": "code",
      "source": [
        "feature_cols = ['temperature','Lymphocyte','Anion gap','Blood sodium','Lactic acid','BMI','Platelets','Creatine kinase'\n",
        ",'Magnesium ion','heart rate','Leucocyte','PCO2','SP O2','Urine output','MCV', 'Urea nitrogen','Bicarbonate',\n",
        "'Systolic blood pressure','RDW','Respiratory rate']"
      ],
      "metadata": {
        "id": "y2dYoQiffgUM"
      },
      "execution_count": 615,
      "outputs": []
    },
    {
      "cell_type": "code",
      "source": [
        "X = data[feature_cols] # Features\n",
        "y = data.outcome"
      ],
      "metadata": {
        "id": "qqiIgAwTf2t7"
      },
      "execution_count": 616,
      "outputs": []
    },
    {
      "cell_type": "code",
      "source": [
        "print(X.isnull().sum())"
      ],
      "metadata": {
        "colab": {
          "base_uri": "https://localhost:8080/"
        },
        "id": "XhBCYKVSf3sJ",
        "outputId": "9bd04ef6-7702-4294-b3ed-f9453ff238aa"
      },
      "execution_count": 617,
      "outputs": [
        {
          "output_type": "stream",
          "name": "stdout",
          "text": [
            "temperature                0\n",
            "Lymphocyte                 0\n",
            "Anion gap                  0\n",
            "Blood sodium               0\n",
            "Lactic acid                0\n",
            "BMI                        0\n",
            "Platelets                  0\n",
            "Creatine kinase            0\n",
            "Magnesium ion              0\n",
            "heart rate                 0\n",
            "Leucocyte                  0\n",
            "PCO2                       0\n",
            "SP O2                      0\n",
            "Urine output               0\n",
            "MCV                        0\n",
            "Urea nitrogen              0\n",
            "Bicarbonate                0\n",
            "Systolic blood pressure    0\n",
            "RDW                        0\n",
            "Respiratory rate           0\n",
            "dtype: int64\n"
          ]
        }
      ]
    },
    {
      "cell_type": "code",
      "source": [
        "from sklearn.model_selection import train_test_split\n",
        "X_train,X_test,y_train,y_test=train_test_split(X,y,test_size=0.3,random_state=1600)"
      ],
      "metadata": {
        "id": "VRq_IYi6f_jw"
      },
      "execution_count": 618,
      "outputs": []
    },
    {
      "cell_type": "code",
      "source": [
        "print(\"X_train shape {}, len {}.\".format(X_train.shape,len(X_train)))\n",
        "print(\"X_test shape {}, len {}.\".format(X_test.shape,len(X_test)))\n",
        "print(\"Y_train shape {}, len {}.\".format(y_train.shape,len(y_train)))\n",
        "print(\"Y_test shape {}, len {}.\".format(y_test.shape,len(y_test)))"
      ],
      "metadata": {
        "colab": {
          "base_uri": "https://localhost:8080/"
        },
        "id": "VQUNi2_biCkP",
        "outputId": "5f713488-3860-4526-93a5-feaa15ce9fe9"
      },
      "execution_count": 619,
      "outputs": [
        {
          "output_type": "stream",
          "name": "stdout",
          "text": [
            "X_train shape (823, 20), len 823.\n",
            "X_test shape (354, 20), len 354.\n",
            "Y_train shape (823,), len 823.\n",
            "Y_test shape (354,), len 354.\n"
          ]
        }
      ]
    },
    {
      "cell_type": "code",
      "source": [
        "print(\"Before Smote\")\n",
        "y.value_counts()"
      ],
      "metadata": {
        "colab": {
          "base_uri": "https://localhost:8080/"
        },
        "id": "5Vj4C9YIiwcT",
        "outputId": "227355da-0e45-4b1f-8e91-f1345c49d700"
      },
      "execution_count": 620,
      "outputs": [
        {
          "output_type": "stream",
          "name": "stdout",
          "text": [
            "Before Smote\n"
          ]
        },
        {
          "output_type": "execute_result",
          "data": {
            "text/plain": [
              "0    1018\n",
              "1     159\n",
              "Name: outcome, dtype: int64"
            ]
          },
          "metadata": {},
          "execution_count": 620
        }
      ]
    },
    {
      "cell_type": "code",
      "source": [
        "from imblearn.over_sampling import SMOTE"
      ],
      "metadata": {
        "id": "iCfdRG6miyXo"
      },
      "execution_count": 621,
      "outputs": []
    },
    {
      "cell_type": "code",
      "source": [
        "sm = SMOTE(random_state=101)\n",
        "X_sm, y_sm = sm.fit_resample(X, y)"
      ],
      "metadata": {
        "id": "e6LQHnUAi3GD"
      },
      "execution_count": 622,
      "outputs": []
    },
    {
      "cell_type": "code",
      "source": [
        "print(\"After Smote\")\n",
        "y_sm.value_counts()"
      ],
      "metadata": {
        "colab": {
          "base_uri": "https://localhost:8080/"
        },
        "id": "Rmzvf8SFi26E",
        "outputId": "19779913-dfee-4ed3-84db-dbe124b7f17b"
      },
      "execution_count": 623,
      "outputs": [
        {
          "output_type": "stream",
          "name": "stdout",
          "text": [
            "After Smote\n"
          ]
        },
        {
          "output_type": "execute_result",
          "data": {
            "text/plain": [
              "1    1018\n",
              "0    1018\n",
              "Name: outcome, dtype: int64"
            ]
          },
          "metadata": {},
          "execution_count": 623
        }
      ]
    },
    {
      "cell_type": "code",
      "source": [
        "from sklearn.linear_model import LogisticRegression\n",
        "\n",
        "# instantiate the model (using the default parameters)\n",
        "logreg = LogisticRegression()\n"
      ],
      "metadata": {
        "id": "53kr43ppgN3S"
      },
      "execution_count": 624,
      "outputs": []
    },
    {
      "cell_type": "code",
      "source": [
        "# fit the model with data\n",
        "logreg.fit(X_train,y_train)"
      ],
      "metadata": {
        "colab": {
          "base_uri": "https://localhost:8080/"
        },
        "id": "zbZyFdYXgPCG",
        "outputId": "ac6380c6-baf4-4380-dd30-8b008bf25828"
      },
      "execution_count": 625,
      "outputs": [
        {
          "output_type": "stream",
          "name": "stderr",
          "text": [
            "/usr/local/lib/python3.7/dist-packages/sklearn/linear_model/_logistic.py:818: ConvergenceWarning: lbfgs failed to converge (status=1):\n",
            "STOP: TOTAL NO. of ITERATIONS REACHED LIMIT.\n",
            "\n",
            "Increase the number of iterations (max_iter) or scale the data as shown in:\n",
            "    https://scikit-learn.org/stable/modules/preprocessing.html\n",
            "Please also refer to the documentation for alternative solver options:\n",
            "    https://scikit-learn.org/stable/modules/linear_model.html#logistic-regression\n",
            "  extra_warning_msg=_LOGISTIC_SOLVER_CONVERGENCE_MSG,\n"
          ]
        },
        {
          "output_type": "execute_result",
          "data": {
            "text/plain": [
              "LogisticRegression()"
            ]
          },
          "metadata": {},
          "execution_count": 625
        }
      ]
    },
    {
      "cell_type": "code",
      "source": [
        "y_pred=logreg.predict(X_test)"
      ],
      "metadata": {
        "id": "1wH6h4B2gTiz"
      },
      "execution_count": 626,
      "outputs": []
    },
    {
      "cell_type": "code",
      "source": [
        "# import the metrics class\n",
        "from sklearn import metrics\n",
        "cnf_matrix = metrics.confusion_matrix(y_test, y_pred)\n",
        "cnf_matrix"
      ],
      "metadata": {
        "colab": {
          "base_uri": "https://localhost:8080/"
        },
        "id": "WLvELONxgXtp",
        "outputId": "60c288b5-02a3-4401-ebbc-452edc634f1f"
      },
      "execution_count": 627,
      "outputs": [
        {
          "output_type": "execute_result",
          "data": {
            "text/plain": [
              "array([[297,   3],\n",
              "       [ 44,  10]])"
            ]
          },
          "metadata": {},
          "execution_count": 627
        }
      ]
    },
    {
      "cell_type": "code",
      "source": [
        "# import required modules\n",
        "import numpy as np\n",
        "import matplotlib.pyplot as plt\n",
        "import seaborn as sns\n",
        "%matplotlib inline"
      ],
      "metadata": {
        "id": "3Wgmy65Cgdyk"
      },
      "execution_count": 628,
      "outputs": []
    },
    {
      "cell_type": "code",
      "source": [
        "print(\"Precision:\",metrics.precision_score(y_test, y_pred))\n",
        "print(\"Accuracy:\",metrics.accuracy_score(y_test, y_pred))\n",
        "print(\"Recall:\",metrics.recall_score(y_test, y_pred))"
      ],
      "metadata": {
        "colab": {
          "base_uri": "https://localhost:8080/"
        },
        "id": "mTrBIUD5giCn",
        "outputId": "48a8392d-bd22-4db9-8c85-1d87fda2f67e"
      },
      "execution_count": 629,
      "outputs": [
        {
          "output_type": "stream",
          "name": "stdout",
          "text": [
            "Precision: 0.7692307692307693\n",
            "Accuracy: 0.867231638418079\n",
            "Recall: 0.18518518518518517\n"
          ]
        }
      ]
    }
  ]
}