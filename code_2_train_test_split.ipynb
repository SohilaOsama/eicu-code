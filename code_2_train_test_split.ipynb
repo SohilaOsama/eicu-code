{
  "nbformat": 4,
  "nbformat_minor": 0,
  "metadata": {
    "colab": {
      "name": "code_2_train_test_split.ipynb",
      "provenance": [],
      "collapsed_sections": [],
      "authorship_tag": "ABX9TyMfuR9wb5jujGlmgSC9Gjwr",
      "include_colab_link": true
    },
    "kernelspec": {
      "name": "python3",
      "display_name": "Python 3"
    },
    "language_info": {
      "name": "python"
    }
  },
  "cells": [
    {
      "cell_type": "markdown",
      "metadata": {
        "id": "view-in-github",
        "colab_type": "text"
      },
      "source": [
        "<a href=\"https://colab.research.google.com/github/SohilaOsama/eicu-code/blob/master/code_2_train_test_split.ipynb\" target=\"_parent\"><img src=\"https://colab.research.google.com/assets/colab-badge.svg\" alt=\"Open In Colab\"/></a>"
      ]
    },
    {
      "cell_type": "markdown",
      "source": [
        "Section 1: Import"
      ],
      "metadata": {
        "id": "cLQai_kCNUMX"
      }
    },
    {
      "cell_type": "code",
      "execution_count": 1,
      "metadata": {
        "id": "ngqhr4p_NMcU"
      },
      "outputs": [],
      "source": [
        "import pandas as pd\n",
        "import numpy as np\n",
        "import copy\n",
        "\n",
        "from sklearn.model_selection import train_test_split"
      ]
    },
    {
      "cell_type": "code",
      "source": [
        "df_1 = pd.read_csv('/content/code_2_data.csv')\n",
        "\n",
        "print('Before :', df_1.shape)\n",
        "df_1.drop(columns=['index'], inplace=True)\n",
        "print('After :', df_1.shape)"
      ],
      "metadata": {
        "colab": {
          "base_uri": "https://localhost:8080/"
        },
        "id": "LPaYeyWzNjhx",
        "outputId": "c5136c86-1dd1-41d6-d1b2-3ff1d1d4c5df"
      },
      "execution_count": 3,
      "outputs": [
        {
          "output_type": "stream",
          "name": "stdout",
          "text": [
            "Before : (1177, 51)\n",
            "After : (1177, 50)\n"
          ]
        }
      ]
    },
    {
      "cell_type": "markdown",
      "source": [
        "Section 3: Drop row with missing value in outcome"
      ],
      "metadata": {
        "id": "TrlKuge8OVBt"
      }
    },
    {
      "cell_type": "code",
      "source": [
        "print('Before :', df_1.shape)\n",
        "df_1 = df_1.dropna(subset=['outcome'])\n",
        "print('After :', df_1.shape)"
      ],
      "metadata": {
        "colab": {
          "base_uri": "https://localhost:8080/"
        },
        "id": "qZEIV7QuN-Vy",
        "outputId": "05ba5477-36da-4466-a094-35ef24a344f1"
      },
      "execution_count": 4,
      "outputs": [
        {
          "output_type": "stream",
          "name": "stdout",
          "text": [
            "Before : (1177, 50)\n",
            "After : (1176, 50)\n"
          ]
        }
      ]
    },
    {
      "cell_type": "markdown",
      "source": [
        "Section 4: Form X and y and check category distribution of y"
      ],
      "metadata": {
        "id": "tREtzDb-Pn0D"
      }
    },
    {
      "cell_type": "code",
      "source": [
        "X = df_1.drop(columns=['outcome'])\n",
        "print('X :', X.shape)\n",
        "\n",
        "y = df_1['outcome']\n",
        "print('y :', y.shape)"
      ],
      "metadata": {
        "colab": {
          "base_uri": "https://localhost:8080/"
        },
        "id": "Y-UKEguoPo6P",
        "outputId": "c4d43f0e-1f48-4cd0-ef71-79f550300c74"
      },
      "execution_count": 5,
      "outputs": [
        {
          "output_type": "stream",
          "name": "stdout",
          "text": [
            "X : (1176, 49)\n",
            "y : (1176,)\n"
          ]
        }
      ]
    },
    {
      "cell_type": "code",
      "source": [
        "y.value_counts(dropna=False, normalize=True)"
      ],
      "metadata": {
        "colab": {
          "base_uri": "https://localhost:8080/"
        },
        "id": "jlZrX39qPv-K",
        "outputId": "bfd20262-aff3-43ba-dbc3-09e6f275ec5c"
      },
      "execution_count": 6,
      "outputs": [
        {
          "output_type": "execute_result",
          "data": {
            "text/plain": [
              "0.0    0.864796\n",
              "1.0    0.135204\n",
              "Name: outcome, dtype: float64"
            ]
          },
          "metadata": {},
          "execution_count": 6
        }
      ]
    },
    {
      "cell_type": "code",
      "source": [
        "y.value_counts(dropna=False)"
      ],
      "metadata": {
        "colab": {
          "base_uri": "https://localhost:8080/"
        },
        "id": "z7Iqq8_cP0VN",
        "outputId": "87d141b2-cf4e-4f16-ca5f-f07de1c0adf2"
      },
      "execution_count": 7,
      "outputs": [
        {
          "output_type": "execute_result",
          "data": {
            "text/plain": [
              "0.0    1017\n",
              "1.0     159\n",
              "Name: outcome, dtype: int64"
            ]
          },
          "metadata": {},
          "execution_count": 7
        }
      ]
    },
    {
      "cell_type": "markdown",
      "source": [
        "Section 5: Train test split"
      ],
      "metadata": {
        "id": "YyZJVMysQF_-"
      }
    },
    {
      "cell_type": "code",
      "source": [
        "X_train, X_test, y_train, y_test = train_test_split(X, y, stratify=y, random_state=42, shuffle=True, test_size=0.25)\n",
        "\n",
        "print('X train :', X_train.shape)\n",
        "print('y train :', y_train.shape)\n",
        "print('')\n",
        "\n",
        "print('X test :', X_test.shape)\n",
        "print('y test :', y_test.shape)"
      ],
      "metadata": {
        "colab": {
          "base_uri": "https://localhost:8080/"
        },
        "id": "PUQwIEyJP460",
        "outputId": "60f8fc6b-a290-43ca-f0f0-2fdceb1ff581"
      },
      "execution_count": 8,
      "outputs": [
        {
          "output_type": "stream",
          "name": "stdout",
          "text": [
            "X train : (882, 49)\n",
            "y train : (882,)\n",
            "\n",
            "X test : (294, 49)\n",
            "y test : (294,)\n"
          ]
        }
      ]
    },
    {
      "cell_type": "markdown",
      "source": [
        "Section 6: Compare category distribution of y_train and y_test"
      ],
      "metadata": {
        "id": "0Y7jubZgQN3O"
      }
    },
    {
      "cell_type": "code",
      "source": [
        "y_train.value_counts(dropna=False, normalize=True)"
      ],
      "metadata": {
        "colab": {
          "base_uri": "https://localhost:8080/"
        },
        "id": "xZ7LeKNsQLRJ",
        "outputId": "b19f98fc-e7b0-4d91-bff7-87afa218d27a"
      },
      "execution_count": 9,
      "outputs": [
        {
          "output_type": "execute_result",
          "data": {
            "text/plain": [
              "0.0    0.865079\n",
              "1.0    0.134921\n",
              "Name: outcome, dtype: float64"
            ]
          },
          "metadata": {},
          "execution_count": 9
        }
      ]
    },
    {
      "cell_type": "code",
      "source": [
        "y_train.value_counts(dropna=False)"
      ],
      "metadata": {
        "colab": {
          "base_uri": "https://localhost:8080/"
        },
        "id": "rMiU4T0HQSJT",
        "outputId": "feac8630-0979-4edf-f8b3-bb1acdb4e2bd"
      },
      "execution_count": 10,
      "outputs": [
        {
          "output_type": "execute_result",
          "data": {
            "text/plain": [
              "0.0    763\n",
              "1.0    119\n",
              "Name: outcome, dtype: int64"
            ]
          },
          "metadata": {},
          "execution_count": 10
        }
      ]
    },
    {
      "cell_type": "code",
      "source": [
        "y_test.value_counts(dropna=False, normalize=True)"
      ],
      "metadata": {
        "colab": {
          "base_uri": "https://localhost:8080/"
        },
        "id": "hLQBsJfpQXP9",
        "outputId": "32334203-7a2a-4de0-94f6-1649558dbe3c"
      },
      "execution_count": 11,
      "outputs": [
        {
          "output_type": "execute_result",
          "data": {
            "text/plain": [
              "0.0    0.863946\n",
              "1.0    0.136054\n",
              "Name: outcome, dtype: float64"
            ]
          },
          "metadata": {},
          "execution_count": 11
        }
      ]
    },
    {
      "cell_type": "code",
      "source": [
        "y_test.value_counts(dropna=False)"
      ],
      "metadata": {
        "colab": {
          "base_uri": "https://localhost:8080/"
        },
        "id": "AgxWaWnkQcKk",
        "outputId": "8f229417-6f34-476e-cb55-9d64aa0d6272"
      },
      "execution_count": 12,
      "outputs": [
        {
          "output_type": "execute_result",
          "data": {
            "text/plain": [
              "0.0    254\n",
              "1.0     40\n",
              "Name: outcome, dtype: int64"
            ]
          },
          "metadata": {},
          "execution_count": 12
        }
      ]
    },
    {
      "cell_type": "markdown",
      "source": [
        "Section 7: Merge X_train and y_train"
      ],
      "metadata": {
        "id": "epsQIyLgQj-n"
      }
    },
    {
      "cell_type": "code",
      "source": [
        "df_train = copy.deepcopy(X_train)\n",
        "df_train['outcome'] = y_train\n",
        "df_train = pd.DataFrame(df_train)"
      ],
      "metadata": {
        "id": "bMzrVjDtQg88"
      },
      "execution_count": 13,
      "outputs": []
    },
    {
      "cell_type": "markdown",
      "source": [
        "Section 8: Merge X_test and y_test"
      ],
      "metadata": {
        "id": "Ps98cQsnQrdu"
      }
    },
    {
      "cell_type": "code",
      "source": [
        "df_test = copy.deepcopy(X_test)\n",
        "df_test['outcome'] = y_test\n",
        "df_test = pd.DataFrame(df_test)"
      ],
      "metadata": {
        "id": "im8Itk8kQpCy"
      },
      "execution_count": 14,
      "outputs": []
    },
    {
      "cell_type": "markdown",
      "source": [
        "Section 9: Save train and test datasets"
      ],
      "metadata": {
        "id": "Bv3yx-HJQxuB"
      }
    },
    {
      "cell_type": "code",
      "source": [
        "df_train.to_csv('/content/code_3_train.csv', na_rep='NaN', index_label='index')\n"
      ],
      "metadata": {
        "id": "-qeizHbcQvUE"
      },
      "execution_count": 15,
      "outputs": []
    },
    {
      "cell_type": "code",
      "source": [
        "df_test.to_csv('/content/code_3_test.csv', na_rep='NaN', index_label='index')"
      ],
      "metadata": {
        "id": "eo2eT4QrSJQl"
      },
      "execution_count": 16,
      "outputs": []
    }
  ]
}